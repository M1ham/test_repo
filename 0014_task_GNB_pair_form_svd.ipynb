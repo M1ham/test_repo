{
 "cells": [
  {
   "cell_type": "markdown",
   "id": "e540559b",
   "metadata": {},
   "source": [
    "# Долгосрочная работа по алгебре. Срок сдачи 13.06.2024"
   ]
  },
  {
   "cell_type": "markdown",
   "id": "275cc84b",
   "metadata": {},
   "source": [
    "При решении задания нужно учесть несколько моментов.\n",
    "- Выводы и описание процедур, которые вы пишете необходимо писать в Markdown\n",
    "- Старайтесь оформлять аккуратно.\n",
    "- Используйте понятные названия функций\n",
    "- Тестируйте даже небольшие написанные вами функции\n",
    "- Не используйте вывод больших матриц\n",
    "- Помните о том, что сравнение действительных числе почти всегда бессмысленно. Сравнивайте модуль разности с нулем\n",
    "- Учитывайте, что в данной работе в парвом задании у вас будут возникать комплексные числа, для взятия действительной и мнимой части которых можно воспользоваться функциями a.real(), a.imag()"
   ]
  },
  {
   "cell_type": "markdown",
   "id": "ad2d96c2",
   "metadata": {},
   "source": [
    "## 1. Нахождение геометрически нормального базиса для нормального преобразования"
   ]
  },
  {
   "cell_type": "markdown",
   "id": "2f46d9e5",
   "metadata": {},
   "source": [
    "В данном задании нужно реализовать функцию `find_gnb()`, принимающую на вход нормальную действительную матрицу $A$, для которой $AA^T = A^TA$ и возвращающую матрицу $C$, такую что $C^TC=E$ и \n",
    "$$\n",
    "C^TAC = diag\\left(r_1,\\ldots, r_s, \n",
    "\\begin{pmatrix}\n",
    "a_1 & b_1 \\\\\n",
    "-b_1 & a_1\n",
    "\\end{pmatrix}\n",
    ", \\ldots\n",
    "\\begin{pmatrix}\n",
    "a_t & b_t \\\\\n",
    "-b_t & a_t\n",
    "\\end{pmatrix}\n",
    "\\right)\n",
    "$$\n",
    "Можно писать вспомогательные функции, которые будут использоваться в дальнейшем при реализации основной функции."
   ]
  },
  {
   "cell_type": "code",
   "execution_count": null,
   "id": "7924952e",
   "metadata": {},
   "outputs": [],
   "source": [
    "def find_gnb(A):\n",
    "    # YOUR CODE HERE\n",
    "    pass"
   ]
  },
  {
   "cell_type": "markdown",
   "id": "0c34d37b",
   "metadata": {},
   "source": [
    " Напишите функцию для генерирования нормальных матриц, основанную на соответствующей теореме. Опишите ваш способ"
   ]
  },
  {
   "cell_type": "code",
   "execution_count": null,
   "id": "fda749a7",
   "metadata": {},
   "outputs": [],
   "source": [
    "# YOUR CODE IS HERE"
   ]
  },
  {
   "cell_type": "code",
   "execution_count": 2,
   "id": "f6295c38",
   "metadata": {},
   "outputs": [],
   "source": [
    "def generate_random_normal_matrix():\n",
    "    pass\n",
    "    # YOUR CODE IS HERE"
   ]
  },
  {
   "cell_type": "markdown",
   "id": "c940391a",
   "metadata": {},
   "source": [
    "Протестируйте свое решение"
   ]
  },
  {
   "cell_type": "code",
   "execution_count": null,
   "id": "b3ae5084",
   "metadata": {},
   "outputs": [],
   "source": []
  },
  {
   "cell_type": "markdown",
   "id": "127bd032",
   "metadata": {},
   "source": [
    "## 2. Решение задачи о паре форм"
   ]
  },
  {
   "cell_type": "markdown",
   "id": "da11f868",
   "metadata": {},
   "source": [
    "В данном задании нужно реализовать функцию `solve_pair_forms_problem(A, B)`, которая для двух симметричных матриц $A, B$, дополнительно удовлетворяющих условию, что $A$- положительно определена возвращает матрицу $C$, такую что\n",
    "$$\n",
    "C^TAC = E, C^TBC = diag(d_1,\\ldots, d_n)\n",
    "$$"
   ]
  },
  {
   "cell_type": "code",
   "execution_count": null,
   "id": "0e910908",
   "metadata": {},
   "outputs": [],
   "source": [
    "def solve_pair_forms_problem(A, B):\n",
    "    pass"
   ]
  },
  {
   "cell_type": "markdown",
   "id": "36998eac",
   "metadata": {},
   "source": [
    "Протестируйте свое решение. "
   ]
  },
  {
   "cell_type": "markdown",
   "id": "b114c287",
   "metadata": {},
   "source": [
    "## 3. Сжатие изображений при помощи SVD разложнеия."
   ]
  },
  {
   "cell_type": "markdown",
   "id": "c7fec103",
   "metadata": {},
   "source": [
    "В данном задании вам нужно выбрать небольшое изображение, по высоте $h$ и ширине $w$, желательно, не превосходящее 600 (больше можно, но будет долго работать). Далее каналы этого изображения интерпретируем как матрицы и используем SVD разложение. Пусть $A_r, A_g, A_b$ матрицы каждого из каналов. Применим SVD разложение к каждой матрице\n",
    "$$\n",
    "A_i = U_i\\Sigma_iV_i^T = \\sum_{j=1}^{\\min(w,h)}\\sigma_{ij}U_{ij}(V_{ij})^T, \\ i\\in\\{r,g,b\\}\n",
    "$$\n",
    "1. Для выбранного канала (можно для каждого) визуализируйте изображение, полученное в результате суммы первых $k$ слагаемых, где $k=1,2,5,10,30,50,100$. Что вы наблюдаете?\n",
    "2. Наоборот визиализируйте отдельные первые слагаемые. То есть, например, для красного канала $\\sigma_{rk}U_{rk}(V_{rk})^T$ для $k=1,2,3,4,5,10$. Визуализируйте слагаемые с номерами $k=100,101,...108$, и с последними номерами. Что вы можете наблюдать?"
   ]
  },
  {
   "cell_type": "markdown",
   "id": "ec58add1",
   "metadata": {},
   "source": []
  }
 ],
 "metadata": {
  "kernelspec": {
   "display_name": "Python 3 (ipykernel)",
   "language": "python",
   "name": "python3"
  },
  "language_info": {
   "codemirror_mode": {
    "name": "ipython",
    "version": 3
   },
   "file_extension": ".py",
   "mimetype": "text/x-python",
   "name": "python",
   "nbconvert_exporter": "python",
   "pygments_lexer": "ipython3",
   "version": "3.11.1"
  }
 },
 "nbformat": 4,
 "nbformat_minor": 5
}
