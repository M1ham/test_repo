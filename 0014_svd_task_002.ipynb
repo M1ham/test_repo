{
 "cells": [
  {
   "cell_type": "markdown",
   "id": "b09ad9b8",
   "metadata": {},
   "source": [
    "# Долгосрочная работа по алгебре. \n",
    "# Знакомство с Python и Sage. Применение SVD разложения для нахождения канонических  квадратичных форм над $\\mathbb{R}$"
   ]
  },
  {
   "cell_type": "markdown",
   "id": "9172ada6",
   "metadata": {},
   "source": [
    "В данной работе мы будем применять SVD разложение для поиска канонических квадратичных форм над $\\mathbb{R}$. Цель данной работы продемонстрировать эффекты, связанные с точностью вычислений, которые возникают при переходе от конечных полей к полям действительных и комплексных чисел"
   ]
  },
  {
   "cell_type": "code",
   "execution_count": 1,
   "id": "745ffaa9",
   "metadata": {},
   "outputs": [],
   "source": [
    "# необходимые импорты\n",
    "\n",
    "from IPython.display import HTML"
   ]
  },
  {
   "cell_type": "markdown",
   "id": "14b606b9",
   "metadata": {},
   "source": [
    "### 1. Нахождение собственных значений матриц"
   ]
  },
  {
   "cell_type": "markdown",
   "id": "13648c7b",
   "metadata": {},
   "source": [
    "Рассмотрим следующий пример. Пусть $A$ - некоторая квадратная матрица размера $n\\times n$ над $\\mathbb{R}$, при этом $A=A^T$. Тогда, характеристический многочлен матрицы $A$ раскладывается над $\\mathbb{R}$ на линейные множители. Далее будем генерировать случайные симметричные матрицы с известными собственными значениями, вычислять характеристический многочлен данных матриц, а затем вычислять корни."
   ]
  },
  {
   "cell_type": "markdown",
   "id": "6f82881b",
   "metadata": {},
   "source": [
    "Из курса алгебры известно, что произвольная симметричная матрица ортогонально подобна диагональной матрице. Используем данный результат для генерирования произвольной симметричной матрицы. Научимся сначала генерировать ортонормированные матрицы. Используя ортогонализацию столбцов Грамма-Шмидта `gram_schmidt()` для произвольной матрицы напишите функцию для генерирования ортонормированной матрицы."
   ]
  },
  {
   "cell_type": "code",
   "execution_count": 2,
   "id": "e2148465",
   "metadata": {},
   "outputs": [
    {
     "name": "stdout",
     "output_type": "stream",
     "text": [
      "[  -0.6968197015411661    0.4812427876589347    0.4925217532276309]\n",
      "[-0.007049254609466038   -0.4578285739085266    0.6394494210697172]\n",
      "[  -0.1853450349275858   -0.8737564649133587  0.058981661352832226]\n",
      "\n",
      "[-0.7112886638175904 0.49123544964170884   0.502748614856267]\n",
      "[0.08361923635430371 -0.6510335167133533  0.7544290446605078]\n",
      "[ 0.6979084897292123  0.5786562823742187 0.42199602703430555]\n",
      "\n",
      "[ 0.9796581008352259                 0.0                 0.0]\n",
      "[0.10159474024274186  0.7798915090825587                 0.0]\n",
      "[-0.2677333791331388  0.5978438122477719  -0.610068514333545]\n",
      "\n",
      "[                   1.0 1.6370032736151627e-17 3.8345050908110334e-17]\n",
      "[1.6370032736151627e-17     0.9999999999999993  2.913945382144614e-16]\n",
      "[3.8345050908110334e-17  2.913945382144614e-16     0.9999999999999999]\n",
      "\n",
      "[ 0.9597299945320815 0.09952811028105259 -0.2622871737317683]\n",
      "[0.09952811028105259  0.6185522571840609   0.439053009822242]\n",
      "[-0.2622871737317683   0.439053009822242  0.8012819783261371]\n",
      "\n"
     ]
    }
   ],
   "source": [
    "# подсказка\n",
    "A  = random_matrix(RDF, 3)\n",
    "print(A)\n",
    "print()\n",
    "\n",
    "B,C = A.gram_schmidt()\n",
    "print(B)\n",
    "print()\n",
    "\n",
    "print(C)\n",
    "print()\n",
    "\n",
    "print(B*B.transpose())\n",
    "print()\n",
    "\n",
    "print(C*C.transpose())\n",
    "print()"
   ]
  },
  {
   "cell_type": "code",
   "execution_count": 3,
   "id": "54a6fd3b",
   "metadata": {},
   "outputs": [],
   "source": [
    "def generate_orthonormal_matrix(n):\n",
    "    \"\"\"\n",
    "    generates random orthonormal n x n matrix over R\n",
    "    \"\"\"\n",
    "    A = random_matrix(RDF, n)\n",
    "    B, C = A.gram_schmidt() \n",
    "    ans = B# YOUR CODE HERE\n",
    "    return  ans"
   ]
  },
  {
   "cell_type": "code",
   "execution_count": null,
   "id": "4b2a8b18",
   "metadata": {},
   "outputs": [],
   "source": []
  },
  {
   "cell_type": "code",
   "execution_count": 4,
   "id": "06fdd483",
   "metadata": {},
   "outputs": [],
   "source": [
    "def gen_random_symm_matix_with_given_eig_values(eig_values):\n",
    "    D = diagonal_matrix(RDF, eig_values) # генерируем диагональную матрицу используя функцию diagonal_matrix\n",
    "    n = len(eig_values) # число элементов в списке\n",
    "    C = generate_orthonormal_matrix(n) # генерируем ортонормированную матрицу используя ортогонализацию Грамма-Шмидта\n",
    "    return C**(-1)*D*C \n",
    "    "
   ]
  },
  {
   "cell_type": "markdown",
   "id": "13062b5b",
   "metadata": {},
   "source": [
    "Убедимся что все работает"
   ]
  },
  {
   "cell_type": "code",
   "execution_count": 5,
   "id": "b3a2ff7f",
   "metadata": {},
   "outputs": [
    {
     "data": {
      "text/plain": [
       "[  1.1077569832830743 -0.31007324269727893]\n",
       "[  -0.310073242697279   1.8922430167169253]"
      ]
     },
     "execution_count": 5,
     "metadata": {},
     "output_type": "execute_result"
    }
   ],
   "source": [
    "gen_random_symm_matix_with_given_eig_values([1,2])"
   ]
  },
  {
   "cell_type": "markdown",
   "id": "dbcf6273",
   "metadata": {},
   "source": [
    "Действительно, матрица симметричная. Проверим для больших значений $n$, где $n$ размер матрицы"
   ]
  },
  {
   "cell_type": "code",
   "execution_count": 6,
   "id": "8006da11",
   "metadata": {},
   "outputs": [
    {
     "data": {
      "text/plain": [
       "[  2.7692233494066945  -0.2494684118859745   0.5803674608249921  0.27881134083756237]\n",
       "[-0.24946841188597435    2.655659869285323   0.5543094019294091   0.9587944520114278]\n",
       "[  0.5803674608249919   0.5543094019294089   1.4828370007132656  0.23578398511407064]\n",
       "[ 0.27881134083756237   0.9587944520114278   0.2357839851140707   3.0922797805947173]"
      ]
     },
     "execution_count": 6,
     "metadata": {},
     "output_type": "execute_result"
    }
   ],
   "source": [
    "gen_random_symm_matix_with_given_eig_values([1,2,3,4])"
   ]
  },
  {
   "cell_type": "markdown",
   "id": "c7616edf",
   "metadata": {},
   "source": [
    "Далее убедимся, что матрица действительно имеет нужные собственные значения"
   ]
  },
  {
   "cell_type": "code",
   "execution_count": 7,
   "id": "aed89756",
   "metadata": {},
   "outputs": [
    {
     "data": {
      "text/plain": [
       "x^4 - 10.0*x^3 + 35.0*x^2 - 50.000000000000014*x + 24.000000000000057"
      ]
     },
     "execution_count": 7,
     "metadata": {},
     "output_type": "execute_result"
    }
   ],
   "source": [
    "A = gen_random_symm_matix_with_given_eig_values([1,2,3,4])\n",
    "char_pol_a = A.characteristic_polynomial()\n",
    "char_pol_a"
   ]
  },
  {
   "cell_type": "code",
   "execution_count": 8,
   "id": "1683810b",
   "metadata": {},
   "outputs": [
    {
     "data": {
      "text/plain": [
       "(x - 3.9999999999999973) * (x - 3.0000000000000178) * (x - 1.9999999999999787) * (x - 1.0000000000000084)"
      ]
     },
     "execution_count": 8,
     "metadata": {},
     "output_type": "execute_result"
    }
   ],
   "source": [
    "char_pol_a.factor()"
   ]
  },
  {
   "cell_type": "markdown",
   "id": "1d9c5097",
   "metadata": {},
   "source": [
    "### 1.1 Случай больших матриц"
   ]
  },
  {
   "cell_type": "markdown",
   "id": "5d28e0e9",
   "metadata": {},
   "source": [
    "На первый взгляд метод нахождения собственных значений довольно точный. Рассмотрим данный метод на примере нахождения собственных значений болших матриц. Сгенерируем матрицу с собственными значениями от 0 до 19. "
   ]
  },
  {
   "cell_type": "code",
   "execution_count": 9,
   "id": "1362b281",
   "metadata": {},
   "outputs": [
    {
     "data": {
      "text/plain": [
       "20 x 20 dense matrix over Real Double Field (use the '.str()' method to see the entries)"
      ]
     },
     "execution_count": 9,
     "metadata": {},
     "output_type": "execute_result"
    }
   ],
   "source": [
    "eig_values = [i for i in range(20)] # [0,1,2,...19]\n",
    "A = gen_random_symm_matix_with_given_eig_values(eig_values)\n",
    "A"
   ]
  },
  {
   "cell_type": "markdown",
   "id": "3727aa71",
   "metadata": {},
   "source": [
    "Далее вычислим разложение характеристического многочлена"
   ]
  },
  {
   "cell_type": "code",
   "execution_count": 10,
   "id": "460d0b07",
   "metadata": {},
   "outputs": [
    {
     "name": "stdout",
     "output_type": "stream",
     "text": [
      "(x - 18.99985998923343, 1)\n",
      "(x - 18.001322906835156, 1)\n",
      "(x - 16.994183439646264, 1)\n",
      "(x - 16.015108747168053, 1)\n",
      "(x - 14.972466537131169, 1)\n",
      "(x - 14.03380066097563, 1)\n",
      "(x - 12.972012182927209, 1)\n",
      "(x - 12.012059632985713, 1)\n",
      "(x - 11.007488985457075, 1)\n",
      "(x - 9.977905742235817, 1)\n",
      "(x - 9.02724110440259, 1)\n",
      "(x - 7.9754257169199985, 1)\n",
      "(x - 7.017825594562305, 1)\n",
      "(x - 5.989960642476747, 1)\n",
      "(x - 5.0045667460269225, 1)\n",
      "(x - 3.9984379351380346, 1)\n",
      "(x - 3.000394497949316, 1)\n",
      "(x - 1.9999322928285848, 1)\n",
      "(x - 1.0000069562457332, 1)\n",
      "(x + 3.1114574071954224e-07, 1)\n"
     ]
    }
   ],
   "source": [
    "for el in A.characteristic_polynomial().factor():\n",
    "    print(el)"
   ]
  },
  {
   "cell_type": "markdown",
   "id": "eb0ca636",
   "metadata": {},
   "source": [
    "Кажется, что метод вполне приемлем, хотя уже хдесь наблюдается потеря в точности по сравнению с предыдущим примером."
   ]
  },
  {
   "cell_type": "markdown",
   "id": "35d2a722",
   "metadata": {},
   "source": [
    "Рассмотрим случай $n=100$. Выполнение следующей ячейки может занять длительное время, а результат может быть совершенно иным (это связано с тем, что мы генерируем матрицы случайно)"
   ]
  },
  {
   "cell_type": "code",
   "execution_count": 11,
   "id": "44fe6bf2",
   "metadata": {},
   "outputs": [
    {
     "name": "stdout",
     "output_type": "stream",
     "text": [
      "(x - 228.13565970154158, 1)\n",
      "(x - 114.73292754655475, 1)\n",
      "(x - 42.933639124530785, 1)\n",
      "(x + 51.75128633054149, 1)\n",
      "(x^2 - 725.4337712227613*x + 133898.1665476801, 1)\n",
      "(x^2 - 643.0293820848862*x + 120601.13633124542, 1)\n",
      "(x^2 - 512.0339106049441*x + 98435.56672024413, 1)\n",
      "(x^2 - 377.56439874951315*x + 74387.967883278, 1)\n",
      "(x^2 - 268.9682665513905*x + 53807.99067380447, 1)\n",
      "(x^2 - 215.2351071342713*x + 13388.370843034076, 1)\n",
      "(x^2 - 192.20887995330025*x + 38415.29718633802, 1)\n",
      "(x^2 - 181.92081716813453*x + 8283.462667779952, 1)\n",
      "(x^2 - 180.6858002835762*x + 8289.30295851257, 1)\n",
      "(x^2 - 177.35611961765863*x + 8262.522777128695, 1)\n",
      "(x^2 - 172.1981296178782*x + 8234.466948208017, 1)\n",
      "(x^2 - 169.76710741576517*x + 11059.648382270447, 1)\n",
      "(x^2 - 166.01486842922776*x + 8256.80813543055, 1)\n",
      "(x^2 - 157.6718015942971*x + 8237.982701437903, 1)\n",
      "(x^2 - 152.78351095350934*x + 13563.90116616603, 1)\n",
      "(x^2 - 147.4196905386075*x + 8206.134903021717, 1)\n",
      "(x^2 - 140.99794515920888*x + 27516.364295765765, 1)\n",
      "(x^2 - 135.92131385626467*x + 8082.90879073472, 1)\n",
      "(x^2 - 126.28770977384438*x + 8248.17468427454, 1)\n",
      "(x^2 - 112.89422391920054*x + 8341.528679048864, 1)\n",
      "(x^2 - 108.45156269272572*x + 19884.56430034567, 1)\n",
      "(x^2 - 97.34217010842639*x + 8328.03586401695, 1)\n",
      "(x^2 - 96.26394989832487*x + 15545.318749201502, 1)\n",
      "(x^2 - 82.327572403992*x + 8238.810613544138, 1)\n",
      "(x^2 - 73.88990259959596*x + 13177.032105642274, 1)\n",
      "(x^2 - 67.35475936335568*x + 8155.755248399005, 1)\n",
      "(x^2 - 53.36696276030365*x + 10112.828654475046, 1)\n",
      "(x^2 - 52.50276827829612*x + 8171.1640425394435, 1)\n",
      "(x^2 - 39.83430482760317*x + 8108.216102636485, 1)\n",
      "(x^2 - 29.136111943844604*x + 7633.277109281269, 1)\n",
      "(x^2 - 17.099724978106586*x + 7136.826866084265, 1)\n",
      "(x^2 - 5.225635607192709*x + 6658.632388126066, 1)\n",
      "(x^2 + 6.2011053195090735*x + 6191.678620414121, 1)\n",
      "(x^2 + 17.075786082505672*x + 5747.029781808852, 1)\n",
      "(x^2 + 27.362474323812464*x + 5330.2639651582185, 1)\n",
      "(x^2 + 37.03509772920064*x + 4944.632826823955, 1)\n",
      "(x^2 + 46.10527679209123*x + 4593.359381668189, 1)\n",
      "(x^2 + 54.61717007890344*x + 4277.350502940404, 1)\n",
      "(x^2 + 62.593614737899976*x + 3994.7161036395873, 1)\n",
      "(x^2 + 70.00990391277365*x + 3742.553784005334, 1)\n",
      "(x^2 + 76.80896705371457*x + 3518.5740197057817, 1)\n",
      "(x^2 + 82.9269920494298*x + 3321.5243603989347, 1)\n",
      "(x^2 + 88.30942416781527*x + 3150.927421053156, 1)\n",
      "(x^2 + 92.91518390677771*x + 3006.6549334197116, 1)\n",
      "(x^2 + 96.71355011888525*x + 2888.620533786549, 1)\n",
      "(x^2 + 99.68150287253427*x + 2796.724297606082, 1)\n",
      "(x^2 + 101.80475797707767*x + 2730.9488984080203, 1)\n",
      "(x^2 + 103.07831300915733*x + 2691.3969046614684, 1)\n"
     ]
    }
   ],
   "source": [
    "A = gen_random_symm_matix_with_given_eig_values([i for i in range(100)])\n",
    "for el in A.characteristic_polynomial().factor():\n",
    "    print(el)"
   ]
  },
  {
   "cell_type": "markdown",
   "id": "8fc10651",
   "metadata": {},
   "source": [
    "Таким образом, мы видим, что уже для матриц 100 на 100 данный метод абсолютно неприменим."
   ]
  },
  {
   "cell_type": "markdown",
   "id": "632bbfb8",
   "metadata": {},
   "source": [
    "### 1.2. Случай кратных собственных значений"
   ]
  },
  {
   "cell_type": "markdown",
   "id": "3cdae112",
   "metadata": {},
   "source": [
    "Однако проблемы могут возникнуть не только при росте $n$. Ранее мы рассматривали только матрицы с различными собственными значениями. Рассмотрим случай кратных собственных значений."
   ]
  },
  {
   "cell_type": "markdown",
   "id": "4acf1260",
   "metadata": {},
   "source": [
    "Напомним, что два списка в Python мажно сконкатенировать, используя операцию $+$"
   ]
  },
  {
   "cell_type": "code",
   "execution_count": 12,
   "id": "fb0e2ee0",
   "metadata": {},
   "outputs": [
    {
     "data": {
      "text/plain": [
       "[1, 2, 100, 200]"
      ]
     },
     "execution_count": 12,
     "metadata": {},
     "output_type": "execute_result"
    }
   ],
   "source": [
    "[1,2]+[100, 200]"
   ]
  },
  {
   "cell_type": "markdown",
   "id": "e33eee03",
   "metadata": {},
   "source": [
    "Также можно использовать операцию * для повторения списка (**будьте аккуратны с этой операцией**)"
   ]
  },
  {
   "cell_type": "code",
   "execution_count": 13,
   "id": "6012547a",
   "metadata": {},
   "outputs": [
    {
     "data": {
      "text/plain": [
       "[1, 1, 1, 1, 1, 1, 1, 1, 1, 1, 2]"
      ]
     },
     "execution_count": 13,
     "metadata": {},
     "output_type": "execute_result"
    }
   ],
   "source": [
    "eig_values = [1]*10 + [2]\n",
    "eig_values"
   ]
  },
  {
   "cell_type": "markdown",
   "id": "8b147af5",
   "metadata": {},
   "source": [
    "Далее 5 раз будем генерировать матрицу с указанными СЗ и смотреть на разложение ХМ"
   ]
  },
  {
   "cell_type": "code",
   "execution_count": 14,
   "id": "9e5bde6c",
   "metadata": {},
   "outputs": [
    {
     "name": "stdout",
     "output_type": "stream",
     "text": [
      "(x - 1.9999999999911906, 1)\n",
      "(x - 1.0608298612675793, 1)\n",
      "(x - 0.9427820901654547, 1)\n",
      "(x^2 - 2.0965871004382626*x + 1.1002452522340782, 1)\n",
      "(x^2 - 2.0335456452014253*x + 1.0370959327191076, 1)\n",
      "(x^2 - 1.960630804209936*x + 0.964050540763374, 1)\n",
      "(x^2 - 1.9056244987261546*x + 0.9089389270146455, 1)\n",
      "\n",
      "(x - 1.9999999999826836, 1)\n",
      "(x^2 - 2.1173582298640183*x + 1.121169143280057, 1)\n",
      "(x^2 - 2.0719131891707754*x + 1.0757150013726386, 1)\n",
      "(x^2 - 1.998877307519757*x + 1.0026459376164987, 1)\n",
      "(x^2 - 1.927444015400006*x + 0.9311640008699591, 1)\n",
      "(x^2 - 1.8844072580627729*x + 0.8880918039717336, 1)\n",
      "\n",
      "(x - 1.999999999965946, 1)\n",
      "(x - 1.061745773448254, 1)\n",
      "(x - 0.9426627522751815, 1)\n",
      "(x^2 - 2.0974706557437917*x + 1.1012241475889093, 1)\n",
      "(x^2 - 2.033032231463163*x + 1.0366417100077312, 1)\n",
      "(x^2 - 1.9598645025583097*x + 0.963313516563518, 1)\n",
      "(x^2 - 1.9052240845453685*x + 0.9085546450499467, 1)\n",
      "\n",
      "(x - 1.999999999997118, 1)\n",
      "(x - 1.0511594567051543, 1)\n",
      "(x - 1.016525989775121, 1)\n",
      "(x^2 - 2.076931954605353*x + 1.0796273333650312, 1)\n",
      "(x^2 - 2.013523097281736*x + 1.0163253423154135, 1)\n",
      "(x^2 - 1.9433097165694075*x + 0.9461731798708352, 1)\n",
      "(x^2 - 1.8985497850661295*x + 0.9014375642151563, 1)\n",
      "\n",
      "(x - 1.9999999999702336, 1)\n",
      "(x - 1.0586628551875166, 1)\n",
      "(x - 0.9459914402132473, 1)\n",
      "(x^2 - 2.0925677643301244*x + 1.0959572030179257, 1)\n",
      "(x^2 - 2.031115825272897*x + 1.034375064891153, 1)\n",
      "(x^2 - 1.9614457249885864*x + 0.9645480168850459, 1)\n",
      "(x^2 - 1.9102163900374047*x + 0.9131868045171188, 1)\n",
      "\n"
     ]
    }
   ],
   "source": [
    "for i in range(5):\n",
    "    A = gen_random_symm_matix_with_given_eig_values(eig_values)\n",
    "    for el in A.characteristic_polynomial().factor():\n",
    "        print(el)\n",
    "    print()"
   ]
  },
  {
   "cell_type": "markdown",
   "id": "db6050de",
   "metadata": {},
   "source": [
    "Видим, что собственное значение $2$ определяется неплохо, в то время как собственное значение $1$ определяется не всегда и с очень низкой точностью."
   ]
  },
  {
   "cell_type": "markdown",
   "id": "5f003b00",
   "metadata": {},
   "source": [
    "### 1.3 Использование специализированных алгоритмов"
   ]
  },
  {
   "cell_type": "markdown",
   "id": "edba4ec1",
   "metadata": {},
   "source": [
    "Таким образом выше показано, что использование прямолинейных алгоритмов, работающих для матриц над конечными полями (которые замечательно работают в теории) подчас неприемлемо при работе с действительными матрицами. На практике для поиска собственных значений используются [алгоритмы](https://en.wikipedia.org/wiki/QR_algorithm) базирующиеся на [QR разложении](https://en.wikipedia.org/wiki/QR_decomposition). Которые уже реализованы в sage"
   ]
  },
  {
   "cell_type": "markdown",
   "id": "ac685cc1",
   "metadata": {},
   "source": [
    "Для нахождения собственных значений необходимо вызвать функцию `A.eigenvalues()`. Напомним, что чтобы отсортировать список можно использовать функцию `sorted` "
   ]
  },
  {
   "cell_type": "code",
   "execution_count": 15,
   "id": "16517089",
   "metadata": {},
   "outputs": [
    {
     "data": {
      "text/plain": [
       "[5.562653515524529e-15,\n",
       " 0.9999999999999983,\n",
       " 1.999999999999997,\n",
       " 3.000000000000006,\n",
       " 3.999999999999997,\n",
       " 5.000000000000001,\n",
       " 5.999999999999995,\n",
       " 6.999999999999997,\n",
       " 8.000000000000002,\n",
       " 9.000000000000005,\n",
       " 10.000000000000005,\n",
       " 11.000000000000012,\n",
       " 12.000000000000007,\n",
       " 13.000000000000002,\n",
       " 13.99999999999998,\n",
       " 14.999999999999984,\n",
       " 15.99999999999995,\n",
       " 17.000000000000032,\n",
       " 17.999999999999996,\n",
       " 18.999999999999954]"
      ]
     },
     "execution_count": 15,
     "metadata": {},
     "output_type": "execute_result"
    }
   ],
   "source": [
    "eig_values = [i for i in range(20)] # [0,1,2,...19]\n",
    "A = gen_random_symm_matix_with_given_eig_values(eig_values)\n",
    "sorted(A.eigenvalues()) "
   ]
  },
  {
   "cell_type": "markdown",
   "id": "87c3535c",
   "metadata": {},
   "source": [
    "Видно что точность, гораздо более высокая. Рассмотрим пример с кратными собственными значениями"
   ]
  },
  {
   "cell_type": "code",
   "execution_count": 16,
   "id": "49b072e6",
   "metadata": {},
   "outputs": [
    {
     "data": {
      "text/plain": [
       "[1, 1, 1, 1, 1, 1, 1, 1, 1, 1, 2]"
      ]
     },
     "execution_count": 16,
     "metadata": {},
     "output_type": "execute_result"
    }
   ],
   "source": [
    "eig_values = [1]*10 + [2]\n",
    "eig_values"
   ]
  },
  {
   "cell_type": "code",
   "execution_count": 17,
   "id": "959e4c90",
   "metadata": {},
   "outputs": [
    {
     "name": "stdout",
     "output_type": "stream",
     "text": [
      "0.9999999999999989\n",
      "0.9999999999999994\n",
      "0.9999999999999997\n",
      "0.9999999999999998\n",
      "0.9999999999999999\n",
      "1.0\n",
      "1.0\n",
      "1.0\n",
      "1.0000000000000002\n",
      "1.0000000000000004\n",
      "1.9999999999999998\n",
      "--------------------------------------------------\n",
      "0.9999999999999994\n",
      "0.9999999999999997\n",
      "0.9999999999999998\n",
      "0.9999999999999999\n",
      "0.9999999999999999\n",
      "1.0\n",
      "1.0\n",
      "1.0000000000000002\n",
      "1.0000000000000002\n",
      "1.0000000000000004\n",
      "2.0\n",
      "--------------------------------------------------\n",
      "0.9999999999999996\n",
      "0.9999999999999999\n",
      "1.0\n",
      "1.0\n",
      "1.0000000000000002 - 1.1072955152209595e-16*I\n",
      "1.0000000000000002\n",
      "1.0000000000000002 + 1.1072955152209595e-16*I\n",
      "1.0000000000000004\n",
      "1.0000000000000007\n",
      "1.0000000000000009\n",
      "2.0\n",
      "--------------------------------------------------\n",
      "0.9999999999999993\n",
      "0.9999999999999996\n",
      "0.9999999999999996\n",
      "0.9999999999999998\n",
      "0.9999999999999999\n",
      "0.9999999999999999\n",
      "1.0\n",
      "1.0000000000000002\n",
      "1.0000000000000002\n",
      "1.0000000000000002\n",
      "1.999999999999999\n",
      "--------------------------------------------------\n",
      "0.9999999999999996\n",
      "0.9999999999999998\n",
      "0.9999999999999999\n",
      "1.0 - 1.1102230246251564e-16*I\n",
      "1.0\n",
      "1.0\n",
      "1.0\n",
      "1.0 + 1.1102230246251564e-16*I\n",
      "1.0000000000000002\n",
      "1.0000000000000004\n",
      "1.9999999999999998\n",
      "--------------------------------------------------\n"
     ]
    }
   ],
   "source": [
    "for i in range(5):\n",
    "    A = gen_random_symm_matix_with_given_eig_values(eig_values)\n",
    "    for el in sorted(A.eigenvalues()):\n",
    "        print(el)\n",
    "    print('-'*50) # создаем удобное разделение \n",
    "    #print()"
   ]
  },
  {
   "cell_type": "markdown",
   "id": "1be41c56",
   "metadata": {},
   "source": [
    "Видим, что точность тоже очень высокая, при этом также видим, что иногда могут возникать комплексные числа."
   ]
  },
  {
   "cell_type": "markdown",
   "id": "4c31fbce",
   "metadata": {},
   "source": [
    "### Исследуйте нексолько (не менее 5) различных матриц с различными вариантами для собственных значений и выведите данные собственные значения. Рассмотрите случай больших матриц ($n\\approx 200,300,1000$)"
   ]
  },
  {
   "cell_type": "code",
   "execution_count": 83,
   "id": "6085e70e",
   "metadata": {},
   "outputs": [],
   "source": [
    "# YOUR CODE HERE"
   ]
  },
  {
   "cell_type": "markdown",
   "id": "5b7f785b",
   "metadata": {},
   "source": [
    "## 2 Нахождение нормальных квадратичных форм"
   ]
  },
  {
   "cell_type": "markdown",
   "id": "d8bc704c",
   "metadata": {},
   "source": [
    "Из предыдущих примеров видно, что при нахождении собственных значений матриц кратные собственные значения находятся по несколько раз. Так например, для матрицы $A$ с собственным значением 1 кратности $10$ и 2 кратности $1$ имеем"
   ]
  },
  {
   "cell_type": "code",
   "execution_count": 18,
   "id": "ab867ef3",
   "metadata": {},
   "outputs": [
    {
     "name": "stdout",
     "output_type": "stream",
     "text": [
      "0.9999999999999993\n",
      "0.9999999999999994\n",
      "0.9999999999999997\n",
      "0.9999999999999998\n",
      "0.9999999999999999\n",
      "1.0\n",
      "1.0\n",
      "1.0\n",
      "1.0000000000000002\n",
      "1.0000000000000002\n",
      "1.9999999999999998\n"
     ]
    }
   ],
   "source": [
    "eig_values = [1]*10 + [2]\n",
    "eig_values\n",
    "A = gen_random_symm_matix_with_given_eig_values(eig_values)\n",
    "for el in sorted(A.eigenvalues()):\n",
    "    print(el)"
   ]
  },
  {
   "cell_type": "markdown",
   "id": "4a9a20c2",
   "metadata": {},
   "source": [
    "Видим, что для сосбственного значения 1 возникли различные значения. Ниже предлагается написать функцию, которая будет по списку найденных  собственных значений находить собственные значения учетом поправок неточности. А именно, будем считать, что все собственные значения действительные числа (как показывают результаты выше мнимая часть также может возникать) а также будем считать, что СЗ совпадают если модуль из разности не превосходит некоторого порога, например $10^{-7}$"
   ]
  },
  {
   "cell_type": "markdown",
   "id": "df5c7661",
   "metadata": {},
   "source": [
    "**Напишите функцию для нахождения собственных значений с учетом кратности**\n",
    "(если не справитесь сами ниже она реализована за вас)"
   ]
  },
  {
   "cell_type": "code",
   "execution_count": 19,
   "id": "477e2f75",
   "metadata": {},
   "outputs": [],
   "source": [
    "def find_eigen_vals_with_muls(mat, thr = 1e-7):\n",
    "    \"\"\"\n",
    "    mat --- square symmetric matix over R\n",
    "    thr --- threshhold. two values are equal if absolute value of  their difference is not greate thr\n",
    "    return: list of pairs (eigen_value, multiplicity)\n",
    "    \"\"\"\n",
    "    # YOUR CODE HERE\n",
    "    pass"
   ]
  },
  {
   "cell_type": "code",
   "execution_count": 48,
   "id": "89e7f2cc",
   "metadata": {},
   "outputs": [
    {
     "data": {
      "text/html": [
       "<script>\n",
       "  code_show=true; \n",
       "  function code_toggle() {\n",
       "    if (code_show){\n",
       "        $('.cm-comment:contains(@hidden)').closest('div.input').hide();\n",
       "    } else {\n",
       "        $('.cm-comment:contains(@hidden)').closest('div.input').show();\n",
       "    }\n",
       "    code_show = !code_show\n",
       "  } \n",
       "  $( document ).ready(code_toggle);\n",
       "</script>\n",
       "Подсмотреть подсказку: <a href=\"javascript:code_toggle()\">тык</a>."
      ],
      "text/plain": [
       "<IPython.core.display.HTML object>"
      ]
     },
     "execution_count": 48,
     "metadata": {},
     "output_type": "execute_result"
    }
   ],
   "source": [
    "# Specific code we want to hide:\n",
    "# ==============================\n",
    "# @hidden\n",
    "def find_eigen_vals_with_muls(mat, thr = 1e-7):\n",
    "    \"\"\"\n",
    "    mat --- square symmetric matix over R\n",
    "    return: list of pairs (eigen_value, multiplicity)\n",
    "    \"\"\"\n",
    "    eigen_values = mat.eigenvalues()\n",
    "    eigen_values = [el.real() for el in eigen_values] # берем только действительную часть\n",
    "    eigen_values = sorted(eigen_values) \n",
    "    \n",
    "    cur_val = eigen_values[0]\n",
    "    cur_mul = 1\n",
    "    idx = 0\n",
    "    ans = []\n",
    "    \n",
    "    while idx + 1  < len(eigen_values):\n",
    "        if eigen_values[idx + 1] - cur_val < thr:\n",
    "            cur_mul += 1\n",
    "            idx += 1\n",
    "        else:\n",
    "            ans.append((cur_val, cur_mul))\n",
    "            idx += 1\n",
    "            cur_val = eigen_values[idx]\n",
    "            cur_mul = 1\n",
    "\n",
    "\n",
    "    ans.append((cur_val, cur_mul))\n",
    "    return ans\n",
    "# ==============================\n",
    "\n",
    "# Necessary script to hide the cell:\n",
    "# ==============================\n",
    "HTML('''<script>\n",
    "  code_show=true; \n",
    "  function code_toggle() {\n",
    "    if (code_show){\n",
    "        $('.cm-comment:contains(@hidden)').closest('div.input').hide();\n",
    "    } else {\n",
    "        $('.cm-comment:contains(@hidden)').closest('div.input').show();\n",
    "    }\n",
    "    code_show = !code_show\n",
    "  } \n",
    "  $( document ).ready(code_toggle);\n",
    "</script>\n",
    "Подсмотреть подсказку: <a href=\"javascript:code_toggle()\">тык</a>.''')\n",
    "# =============================="
   ]
  },
  {
   "cell_type": "code",
   "execution_count": 21,
   "id": "126108c3",
   "metadata": {},
   "outputs": [
    {
     "data": {
      "text/plain": [
       "[(0.9999999999999996, 10), (2.0000000000000004, 1)]"
      ]
     },
     "execution_count": 21,
     "metadata": {},
     "output_type": "execute_result"
    }
   ],
   "source": [
    "eig_values = [1]*10 + [2]\n",
    "A = gen_random_symm_matix_with_given_eig_values(eig_values)\n",
    "find_eigen_vals_with_muls(A)"
   ]
  },
  {
   "cell_type": "markdown",
   "id": "110d2ec3",
   "metadata": {},
   "source": [
    "Протестируем данную функцию. "
   ]
  },
  {
   "cell_type": "code",
   "execution_count": 22,
   "id": "65244a73",
   "metadata": {},
   "outputs": [
    {
     "data": {
      "text/plain": [
       "[(-1.000000000000006, 2),\n",
       " (-9.619152063201963e-16, 3),\n",
       " (0.9999999999999952, 4),\n",
       " (99.9999999999999, 13)]"
      ]
     },
     "execution_count": 22,
     "metadata": {},
     "output_type": "execute_result"
    }
   ],
   "source": [
    "eig_values = [-1]*2 + [0]*3 + [1]*4 + [100]*13\n",
    "A = gen_random_symm_matix_with_given_eig_values(eig_values)\n",
    "find_eigen_vals_with_muls(A, thr = 1e-7)"
   ]
  },
  {
   "cell_type": "markdown",
   "id": "32d49dc7",
   "metadata": {},
   "source": [
    "Далее нам понадобится решать СЛУ (СОЛУ) а также работать с матрицами и отдельными их элементами и частями. Напомним как это делать"
   ]
  },
  {
   "cell_type": "markdown",
   "id": "a6f801e3",
   "metadata": {},
   "source": [
    "### Работа с матрицами в sage"
   ]
  },
  {
   "cell_type": "markdown",
   "id": "26bb7c86",
   "metadata": {},
   "source": [
    "Создадим произвольную матрицу "
   ]
  },
  {
   "cell_type": "code",
   "execution_count": 23,
   "id": "e50ddd30",
   "metadata": {},
   "outputs": [
    {
     "data": {
      "text/plain": [
       "[ 0.0  1.0  2.0  3.0]\n",
       "[ 4.0  5.0  6.0  7.0]\n",
       "[ 8.0  9.0 19.0 11.0]"
      ]
     },
     "execution_count": 23,
     "metadata": {},
     "output_type": "execute_result"
    }
   ],
   "source": [
    "A = matrix(RDF,\n",
    "          [\n",
    "              [0,1,2,3],\n",
    "              [4,5,6,7],\n",
    "              [8,9,19,11]\n",
    "          ]\n",
    "          )\n",
    "A"
   ]
  },
  {
   "cell_type": "code",
   "execution_count": 24,
   "id": "5423d1cc",
   "metadata": {},
   "outputs": [
    {
     "data": {
      "text/plain": [
       "3"
      ]
     },
     "execution_count": 24,
     "metadata": {},
     "output_type": "execute_result"
    }
   ],
   "source": [
    "A.nrows()"
   ]
  },
  {
   "cell_type": "code",
   "execution_count": 25,
   "id": "d02e3c43",
   "metadata": {},
   "outputs": [
    {
     "data": {
      "text/plain": [
       "4"
      ]
     },
     "execution_count": 25,
     "metadata": {},
     "output_type": "execute_result"
    }
   ],
   "source": [
    "A.ncols()"
   ]
  },
  {
   "cell_type": "markdown",
   "id": "7acacf36",
   "metadata": {},
   "source": [
    "Далее напомним как осуществлять доступ к строкам и столбцам матрицы"
   ]
  },
  {
   "cell_type": "code",
   "execution_count": 26,
   "id": "4ad86ec5",
   "metadata": {},
   "outputs": [
    {
     "data": {
      "text/plain": [
       "(0.0, 1.0, 2.0, 3.0)"
      ]
     },
     "execution_count": 26,
     "metadata": {},
     "output_type": "execute_result"
    }
   ],
   "source": [
    "A[0] # первая строка"
   ]
  },
  {
   "cell_type": "code",
   "execution_count": 27,
   "id": "f78d1417",
   "metadata": {},
   "outputs": [
    {
     "data": {
      "text/plain": [
       "(8.0, 9.0, 19.0, 11.0)"
      ]
     },
     "execution_count": 27,
     "metadata": {},
     "output_type": "execute_result"
    }
   ],
   "source": [
    "A[2]"
   ]
  },
  {
   "cell_type": "code",
   "execution_count": 28,
   "id": "b5d32ac8",
   "metadata": {},
   "outputs": [
    {
     "data": {
      "text/plain": [
       "(8.0, 9.0, 19.0, 11.0)"
      ]
     },
     "execution_count": 28,
     "metadata": {},
     "output_type": "execute_result"
    }
   ],
   "source": [
    "A[-1] # --- последняя строка"
   ]
  },
  {
   "cell_type": "markdown",
   "id": "0d50acce",
   "metadata": {},
   "source": [
    "Обратите внимание на тип"
   ]
  },
  {
   "cell_type": "code",
   "execution_count": 29,
   "id": "1fbe1e02",
   "metadata": {},
   "outputs": [
    {
     "data": {
      "text/plain": [
       "<class 'sage.modules.vector_real_double_dense.Vector_real_double_dense'>"
      ]
     },
     "execution_count": 29,
     "metadata": {},
     "output_type": "execute_result"
    }
   ],
   "source": [
    "type(A[0])"
   ]
  },
  {
   "cell_type": "markdown",
   "id": "18f9638b",
   "metadata": {},
   "source": [
    "Данная штука имеет тип `Vector_real_double_dense`"
   ]
  },
  {
   "cell_type": "markdown",
   "id": "e51b9384",
   "metadata": {},
   "source": [
    "Чтобы получить матрицу размера $1\\times n$ нужно написать"
   ]
  },
  {
   "cell_type": "code",
   "execution_count": 30,
   "id": "2fe8daf8",
   "metadata": {},
   "outputs": [
    {
     "data": {
      "text/plain": [
       "[0.0 1.0 2.0 3.0]"
      ]
     },
     "execution_count": 30,
     "metadata": {},
     "output_type": "execute_result"
    }
   ],
   "source": [
    "A[0, :]"
   ]
  },
  {
   "cell_type": "markdown",
   "id": "efd4463d",
   "metadata": {},
   "source": [
    "Формально это означает подматрица состоящая из первой строки и всех столбцов. Проверим тип"
   ]
  },
  {
   "cell_type": "code",
   "execution_count": 31,
   "id": "68184a2b",
   "metadata": {},
   "outputs": [
    {
     "data": {
      "text/plain": [
       "<class 'sage.matrix.matrix_real_double_dense.Matrix_real_double_dense'>"
      ]
     },
     "execution_count": 31,
     "metadata": {},
     "output_type": "execute_result"
    }
   ],
   "source": [
    "type(A[0, :])"
   ]
  },
  {
   "cell_type": "markdown",
   "id": "ff33ac9a",
   "metadata": {},
   "source": [
    "Это же можно записать как "
   ]
  },
  {
   "cell_type": "code",
   "execution_count": 107,
   "id": "4851f788",
   "metadata": {},
   "outputs": [
    {
     "data": {
      "text/plain": [
       "[0.0 1.0 2.0 3.0]"
      ]
     },
     "execution_count": 107,
     "metadata": {},
     "output_type": "execute_result"
    }
   ],
   "source": [
    "A[0:1]"
   ]
  },
  {
   "cell_type": "markdown",
   "id": "ca9598a3",
   "metadata": {},
   "source": [
    "данная нотация является весьма удобной ~~поначалу бошка плывет, но потом привыкаешь~~  и широкораспространенной в библиотеках научных вычислений numpy, scipy, torch..."
   ]
  },
  {
   "cell_type": "markdown",
   "id": "84e81e37",
   "metadata": {},
   "source": [
    "Далее покажем как можно взять подматрицу состояющую из первых двух строк"
   ]
  },
  {
   "cell_type": "code",
   "execution_count": 86,
   "id": "1cb78224",
   "metadata": {},
   "outputs": [
    {
     "data": {
      "text/plain": [
       "[0.0 1.0 2.0 3.0]\n",
       "[4.0 5.0 6.0 7.0]"
      ]
     },
     "execution_count": 86,
     "metadata": {},
     "output_type": "execute_result"
    }
   ],
   "source": [
    "A[0:2]"
   ]
  },
  {
   "cell_type": "markdown",
   "id": "9051f2ca",
   "metadata": {},
   "source": [
    "Нулевой элемент обычно не пишут, поэтому можно писать так"
   ]
  },
  {
   "cell_type": "code",
   "execution_count": 87,
   "id": "75f22d77",
   "metadata": {},
   "outputs": [
    {
     "data": {
      "text/plain": [
       "[0.0 1.0 2.0 3.0]\n",
       "[4.0 5.0 6.0 7.0]"
      ]
     },
     "execution_count": 87,
     "metadata": {},
     "output_type": "execute_result"
    }
   ],
   "source": [
    "A[:2]"
   ]
  },
  {
   "cell_type": "markdown",
   "id": "a57525b7",
   "metadata": {},
   "source": [
    "Это же можно записать как\n"
   ]
  },
  {
   "cell_type": "code",
   "execution_count": 108,
   "id": "dca74e33",
   "metadata": {},
   "outputs": [
    {
     "data": {
      "text/plain": [
       "[0.0 1.0 2.0 3.0]\n",
       "[4.0 5.0 6.0 7.0]"
      ]
     },
     "execution_count": 108,
     "metadata": {},
     "output_type": "execute_result"
    }
   ],
   "source": [
    "A[0:2, :]"
   ]
  },
  {
   "cell_type": "markdown",
   "id": "976c2389",
   "metadata": {},
   "source": [
    "Далее создадим подматрицу из **последних** двух строк. То есть строк с номерами 2 и 3"
   ]
  },
  {
   "cell_type": "code",
   "execution_count": 88,
   "id": "ce15c86a",
   "metadata": {},
   "outputs": [
    {
     "data": {
      "text/plain": [
       "[ 4.0  5.0  6.0  7.0]\n",
       "[ 8.0  9.0 19.0 11.0]"
      ]
     },
     "execution_count": 88,
     "metadata": {},
     "output_type": "execute_result"
    }
   ],
   "source": [
    "A[-2:]"
   ]
  },
  {
   "cell_type": "markdown",
   "id": "b8aa233e",
   "metadata": {},
   "source": [
    "Далее покажем как можно осуществлять доступ к столбцам матрицы A"
   ]
  },
  {
   "cell_type": "code",
   "execution_count": 89,
   "id": "68e4bd33",
   "metadata": {},
   "outputs": [
    {
     "data": {
      "text/plain": [
       "[0.0]\n",
       "[4.0]\n",
       "[8.0]"
      ]
     },
     "execution_count": 89,
     "metadata": {},
     "output_type": "execute_result"
    }
   ],
   "source": [
    "A[:, 0] # первый столбец "
   ]
  },
  {
   "cell_type": "code",
   "execution_count": 90,
   "id": "a8b03d00",
   "metadata": {},
   "outputs": [
    {
     "data": {
      "text/plain": [
       "[1.0]\n",
       "[5.0]\n",
       "[9.0]"
      ]
     },
     "execution_count": 90,
     "metadata": {},
     "output_type": "execute_result"
    }
   ],
   "source": [
    "A[:, 1] # второй столбец "
   ]
  },
  {
   "cell_type": "code",
   "execution_count": 92,
   "id": "6839cd23",
   "metadata": {},
   "outputs": [
    {
     "data": {
      "text/plain": [
       "[ 2.0]\n",
       "[ 6.0]\n",
       "[19.0]"
      ]
     },
     "execution_count": 92,
     "metadata": {},
     "output_type": "execute_result"
    }
   ],
   "source": [
    "A[:, 2] # третий столбец "
   ]
  },
  {
   "cell_type": "code",
   "execution_count": 94,
   "id": "606eef6b",
   "metadata": {},
   "outputs": [
    {
     "data": {
      "text/plain": [
       "[ 3.0]\n",
       "[ 7.0]\n",
       "[11.0]"
      ]
     },
     "execution_count": 94,
     "metadata": {},
     "output_type": "execute_result"
    }
   ],
   "source": [
    "A[:, 3] # четвертый столбец "
   ]
  },
  {
   "cell_type": "code",
   "execution_count": 96,
   "id": "14e3b0c7",
   "metadata": {},
   "outputs": [
    {
     "data": {
      "text/plain": [
       "[ 3.0]\n",
       "[ 7.0]\n",
       "[11.0]"
      ]
     },
     "execution_count": 96,
     "metadata": {},
     "output_type": "execute_result"
    }
   ],
   "source": [
    "A[:, -1] # последний столбец "
   ]
  },
  {
   "cell_type": "markdown",
   "id": "903d3d71",
   "metadata": {},
   "source": [
    "Можно брать подматрицы"
   ]
  },
  {
   "cell_type": "code",
   "execution_count": 109,
   "id": "c77f9adf",
   "metadata": {},
   "outputs": [
    {
     "data": {
      "text/plain": [
       "[ 6.0  7.0]\n",
       "[19.0 11.0]"
      ]
     },
     "execution_count": 109,
     "metadata": {},
     "output_type": "execute_result"
    }
   ],
   "source": [
    "A[1:3, 2:4]"
   ]
  },
  {
   "cell_type": "markdown",
   "id": "f36e6a55",
   "metadata": {},
   "source": [
    "Это же равносильно"
   ]
  },
  {
   "cell_type": "code",
   "execution_count": 110,
   "id": "4b15dde3",
   "metadata": {},
   "outputs": [
    {
     "data": {
      "text/plain": [
       "[ 6.0  7.0]\n",
       "[19.0 11.0]"
      ]
     },
     "execution_count": 110,
     "metadata": {},
     "output_type": "execute_result"
    }
   ],
   "source": [
    "A[1:, 2:]"
   ]
  },
  {
   "cell_type": "markdown",
   "id": "511fbc76",
   "metadata": {},
   "source": [
    "Пока что этого достаточно. При желании всегда можно использовать что-то типа такого для создания подматриц"
   ]
  },
  {
   "cell_type": "code",
   "execution_count": 113,
   "id": "176478ec",
   "metadata": {},
   "outputs": [
    {
     "data": {
      "text/plain": [
       "[ 6  7]\n",
       "[19 11]"
      ]
     },
     "execution_count": 113,
     "metadata": {},
     "output_type": "execute_result"
    }
   ],
   "source": [
    "B = zero_matrix(2,2)\n",
    "rows = [1,2]\n",
    "cols =  [2,3]\n",
    "for i in range(len(rows)):\n",
    "    for j in range(len(cols)):\n",
    "        B[i,j] = A[rows[i], cols[j]]\n",
    "B"
   ]
  },
  {
   "cell_type": "code",
   "execution_count": 115,
   "id": "32aa1e91",
   "metadata": {},
   "outputs": [
    {
     "data": {
      "text/plain": [
       "[ 6.0  7.0]\n",
       "[19.0 11.0]"
      ]
     },
     "execution_count": 115,
     "metadata": {},
     "output_type": "execute_result"
    }
   ],
   "source": [
    "A[1:3, 2:4]"
   ]
  },
  {
   "cell_type": "markdown",
   "id": "e76d4b28",
   "metadata": {},
   "source": [
    "Здесь же отметим про функцию `enumerate`"
   ]
  },
  {
   "cell_type": "code",
   "execution_count": 117,
   "id": "523ea950",
   "metadata": {},
   "outputs": [
    {
     "name": "stdout",
     "output_type": "stream",
     "text": [
      "(0, 100)\n",
      "(1, 300)\n",
      "(2, 500)\n",
      "(3, 900)\n"
     ]
    }
   ],
   "source": [
    "for el in enumerate([100,300,500, 900]):\n",
    "    print(el)"
   ]
  },
  {
   "cell_type": "markdown",
   "id": "e95e68c9",
   "metadata": {},
   "source": [
    "С ее помощью код выше можно переписать в виде"
   ]
  },
  {
   "cell_type": "code",
   "execution_count": 118,
   "id": "f3e7bc8d",
   "metadata": {},
   "outputs": [
    {
     "data": {
      "text/plain": [
       "[ 6  7]\n",
       "[19 11]"
      ]
     },
     "execution_count": 118,
     "metadata": {},
     "output_type": "execute_result"
    }
   ],
   "source": [
    "B = zero_matrix(2,2)\n",
    "rows = [1,2]\n",
    "cols =  [2,3]\n",
    "for i,row in enumerate(rows) :\n",
    "    for j, col in enumerate(cols):\n",
    "        B[i,j] = A[row, col]\n",
    "B"
   ]
  },
  {
   "cell_type": "markdown",
   "id": "a04d671c",
   "metadata": {},
   "source": [
    "### Применение SVD для нахождения собственных векторов"
   ]
  },
  {
   "cell_type": "markdown",
   "id": "8a94f3b1",
   "metadata": {},
   "source": [
    "Рассмотрим пример"
   ]
  },
  {
   "cell_type": "code",
   "execution_count": 32,
   "id": "f920bfb8",
   "metadata": {},
   "outputs": [
    {
     "data": {
      "text/plain": [
       "[ 4.3630389363251325 -1.1488709360478133   1.508103502968812]\n",
       "[ -1.148870936047813   3.968354162540618 -1.2711421786556176]\n",
       "[ 1.5081035029688121  -1.271142178655618  4.6686069011342495]"
      ]
     },
     "execution_count": 32,
     "metadata": {},
     "output_type": "execute_result"
    }
   ],
   "source": [
    "eig_values = [3]*2 + [7]\n",
    "A = gen_random_symm_matix_with_given_eig_values(eig_values)\n",
    "A"
   ]
  },
  {
   "cell_type": "markdown",
   "id": "1a9bd994",
   "metadata": {},
   "source": [
    "Далее вызовем реализованную собственную функцию для нахождения собственных значений"
   ]
  },
  {
   "cell_type": "code",
   "execution_count": 33,
   "id": "9990e5b3",
   "metadata": {},
   "outputs": [
    {
     "data": {
      "text/plain": [
       "[(3.0, 2), (6.999999999999999, 1)]"
      ]
     },
     "execution_count": 33,
     "metadata": {},
     "output_type": "execute_result"
    }
   ],
   "source": [
    "find_eigen_vals_with_muls(A)"
   ]
  },
  {
   "cell_type": "markdown",
   "id": "a408fc74",
   "metadata": {},
   "source": [
    "Далее решим СЛУ"
   ]
  },
  {
   "cell_type": "markdown",
   "id": "6304e1a9",
   "metadata": {},
   "source": [
    "$$\n",
    "(E\\cdot 3 - A)x = 0\n",
    "$$"
   ]
  },
  {
   "cell_type": "markdown",
   "id": "e2d68696",
   "metadata": {},
   "source": [
    "В теории ФСР данной СОЛУ имеет $2$ вектора. Проверим это"
   ]
  },
  {
   "cell_type": "code",
   "execution_count": 34,
   "id": "f112e397",
   "metadata": {},
   "outputs": [
    {
     "data": {
      "text/plain": [
       "Vector space of degree 3 and dimension 0 over Real Double Field\n",
       "Basis matrix:\n",
       "[]"
      ]
     },
     "execution_count": 34,
     "metadata": {},
     "output_type": "execute_result"
    }
   ],
   "source": [
    "(identity_matrix(A.nrows())*3 - A).right_kernel()"
   ]
  },
  {
   "cell_type": "markdown",
   "id": "bba90cdb",
   "metadata": {},
   "source": [
    "Видим, что в данном случае СОЛУ не имеет решений! Это опять же связано с тем, что при работе с действительными матрицами нужно учитывать точность"
   ]
  },
  {
   "cell_type": "markdown",
   "id": "077850a3",
   "metadata": {},
   "source": [
    "Рассмотрим SVD разложение  $E\\cdot 3 - A = U\\Sigma V^T$"
   ]
  },
  {
   "cell_type": "code",
   "execution_count": 35,
   "id": "86639aef",
   "metadata": {},
   "outputs": [],
   "source": [
    "u, s, v = (identity_matrix(A.nrows())*3 - A).SVD()"
   ]
  },
  {
   "cell_type": "markdown",
   "id": "53ba24f8",
   "metadata": {},
   "source": [
    "Выполним проверку"
   ]
  },
  {
   "cell_type": "code",
   "execution_count": 36,
   "id": "adbe8d74",
   "metadata": {},
   "outputs": [
    {
     "data": {
      "text/plain": [
       "[-1.3630389363251325  1.1488709360478133  -1.508103502968812]\n",
       "[  1.148870936047813  -0.968354162540618  1.2711421786556176]\n",
       "[-1.5081035029688121   1.271142178655618 -1.6686069011342495]"
      ]
     },
     "execution_count": 36,
     "metadata": {},
     "output_type": "execute_result"
    }
   ],
   "source": [
    "(identity_matrix(A.nrows())*3 - A)"
   ]
  },
  {
   "cell_type": "code",
   "execution_count": 37,
   "id": "a6b8e087",
   "metadata": {},
   "outputs": [
    {
     "data": {
      "text/plain": [
       "[-1.3630389363251325  1.1488709360478122 -1.5081035029688103]\n",
       "[ 1.1488709360478129 -0.9683541625406175   1.271142178655617]\n",
       "[ -1.508103502968812  1.2711421786556172 -1.6686069011342484]"
      ]
     },
     "execution_count": 37,
     "metadata": {},
     "output_type": "execute_result"
    }
   ],
   "source": [
    "u*s*v.transpose()"
   ]
  },
  {
   "cell_type": "markdown",
   "id": "d8f26130",
   "metadata": {},
   "source": [
    "Далее посмотрим на матрицу $\\Sigma$"
   ]
  },
  {
   "cell_type": "code",
   "execution_count": 38,
   "id": "b38138be",
   "metadata": {},
   "outputs": [
    {
     "data": {
      "text/plain": [
       "[   3.9999999999999987                   0.0                   0.0]\n",
       "[                  0.0 9.434632709621008e-16                   0.0]\n",
       "[                  0.0                   0.0 2.440448096623972e-16]"
      ]
     },
     "execution_count": 38,
     "metadata": {},
     "output_type": "execute_result"
    }
   ],
   "source": [
    "s"
   ]
  },
  {
   "cell_type": "markdown",
   "id": "c24a1c07",
   "metadata": {},
   "source": [
    "Мы видим, что последние 2 диагональных значения очень близки к нулю. Тем не менее формально они ненулевые и матрица s обратима. Именно из-за этого наивный метод `right_kernel()` выдавал отсутствие решений"
   ]
  },
  {
   "cell_type": "markdown",
   "id": "22c4cd05",
   "metadata": {},
   "source": [
    "Далее отметим, что\n",
    "$$\n",
    "(E\\cdot 3 - A)V = U\\Sigma\n",
    "$$\n",
    "Следовательно\n",
    "$$\n",
    "(E\\cdot 3 - A)V_{2} = \\sigma_2U_2 \\approx \n",
    "\\begin{pmatrix}\n",
    "0 \\\\\n",
    "0 \\\\\n",
    "0\n",
    "\\end{pmatrix}\n",
    "$$\n",
    "\n",
    "и аналогично\n",
    "$$\n",
    "(E\\cdot 3 - A)V_{3} = \\sigma_3U_3 \\approx \n",
    "\\begin{pmatrix}\n",
    "0 \\\\\n",
    "0 \\\\\n",
    "0\n",
    "\\end{pmatrix}\n",
    "$$"
   ]
  },
  {
   "cell_type": "markdown",
   "id": "c8622eef",
   "metadata": {},
   "source": [
    "Таки образом ФСР будет $V_2, V_3$ то есть"
   ]
  },
  {
   "cell_type": "code",
   "execution_count": 39,
   "id": "9bcca3da",
   "metadata": {},
   "outputs": [
    {
     "data": {
      "text/plain": [
       "(\n",
       "[ 0.6142300024041938]  [ -0.5310007251080368]\n",
       "[-0.2526259475587791]  [ -0.8331215937574026]\n",
       "[-0.7475972410105413], [-0.15474701919541045]\n",
       ")"
      ]
     },
     "execution_count": 39,
     "metadata": {},
     "output_type": "execute_result"
    }
   ],
   "source": [
    "v[:, -2], v[:, -1] # взяли предпоследний столбец и последний"
   ]
  },
  {
   "cell_type": "markdown",
   "id": "7ae719a3",
   "metadata": {},
   "source": [
    "Объясните почему  данные столбцы всегда линейно-независимы (вспомните свойства SVD)"
   ]
  },
  {
   "cell_type": "code",
   "execution_count": null,
   "id": "79b7cfe0",
   "metadata": {},
   "outputs": [],
   "source": [
    "### YOUR CODE HERE"
   ]
  },
  {
   "cell_type": "markdown",
   "id": "733cf602",
   "metadata": {},
   "source": [
    "Проверим, корректность\n"
   ]
  },
  {
   "cell_type": "code",
   "execution_count": 40,
   "id": "5b035e97",
   "metadata": {},
   "outputs": [
    {
     "data": {
      "text/plain": [
       "[-2.407142563621386e-16]\n",
       "[2.0468032427124334e-16]\n",
       "[1.5679647164071595e-16]"
      ]
     },
     "execution_count": 40,
     "metadata": {},
     "output_type": "execute_result"
    }
   ],
   "source": [
    "(identity_matrix(A.nrows())*3 - A)*v[:, -1]"
   ]
  },
  {
   "cell_type": "code",
   "execution_count": 41,
   "id": "064a8f18",
   "metadata": {},
   "outputs": [
    {
     "data": {
      "text/plain": [
       "[ 9.384060736438424e-17]\n",
       "[-6.801311270955787e-17]\n",
       "[1.0064433567818124e-15]"
      ]
     },
     "execution_count": 41,
     "metadata": {},
     "output_type": "execute_result"
    }
   ],
   "source": [
    "(identity_matrix(A.nrows())*3 - A)*v[:, -2]"
   ]
  },
  {
   "cell_type": "code",
   "execution_count": null,
   "id": "1b67e6b8",
   "metadata": {},
   "outputs": [],
   "source": []
  },
  {
   "cell_type": "markdown",
   "id": "2a9aa86e",
   "metadata": {},
   "source": [
    "Далее покажем, как для матрицы симметричной матрицы $A$, найти матрицу $C$, такую что $C^{-1} = C^T$ и\n",
    "$$\n",
    "C^{-1}AC = D = diag[d_1,\\ldots, d_n]\n",
    "$$"
   ]
  },
  {
   "cell_type": "markdown",
   "id": "696a7723",
   "metadata": {},
   "source": [
    "**Используя идеи выше реализуйте функцию для нахождения матрицы C** (снизу есть подсказка)"
   ]
  },
  {
   "cell_type": "code",
   "execution_count": null,
   "id": "2f6d3e2f",
   "metadata": {},
   "outputs": [],
   "source": [
    "def find_normal_base_for_mat(mat):\n",
    "    # YOUR CODE HERE\n",
    "    # 1. create matrix for answer \n",
    "    # 2. find eigenvalues with multiplicities\n",
    "    # 3. Solve systems using SVD\n",
    "    # 4. form answer using last coluns of matrix V from SVD\n",
    "    pass\n"
   ]
  },
  {
   "cell_type": "code",
   "execution_count": 47,
   "id": "2e6ddc1f",
   "metadata": {},
   "outputs": [
    {
     "data": {
      "text/html": [
       "<script>\n",
       "  code_show=true; \n",
       "  function code_toggle() {\n",
       "    if (code_show){\n",
       "        $('.cm-comment:contains(@hidden)').closest('div.input').hide();\n",
       "    } else {\n",
       "        $('.cm-comment:contains(@hidden)').closest('div.input').show();\n",
       "    }\n",
       "    code_show = !code_show\n",
       "  } \n",
       "  $( document ).ready(code_toggle);\n",
       "</script>\n",
       "Подсмотреть подсказку: <a href=\"javascript:code_toggle()\">тык</a>."
      ],
      "text/plain": [
       "<IPython.core.display.HTML object>"
      ]
     },
     "execution_count": 47,
     "metadata": {},
     "output_type": "execute_result"
    }
   ],
   "source": [
    "#@hidden\n",
    "def find_normal_base_for_mat(mat):\n",
    "    n = mat.nrows()\n",
    "    ans =  zero_matrix(RDF, n, n) # матрица для ответа\n",
    "    \n",
    "    eig_vals_with_muls = find_eigen_vals_with_muls(mat) # находим собственные значения с учетом кратности\n",
    "    cur_column = 0\n",
    "    for val, mul in eig_vals_with_muls: \n",
    "        char_mat = -mat + val * identity_matrix(n) #  Er - A\n",
    "        \n",
    "        u,s,v = char_mat.SVD() # char_mat = u*s*v^T\n",
    "        ans[:, cur_column: cur_column + mul] = v[:, -mul:]\n",
    "        cur_column += mul\n",
    "    return ans\n",
    "\n",
    "\n",
    "# Necessary script to hide the cell:\n",
    "# ==============================\n",
    "HTML('''<script>\n",
    "  code_show=true; \n",
    "  function code_toggle() {\n",
    "    if (code_show){\n",
    "        $('.cm-comment:contains(@hidden)').closest('div.input').hide();\n",
    "    } else {\n",
    "        $('.cm-comment:contains(@hidden)').closest('div.input').show();\n",
    "    }\n",
    "    code_show = !code_show\n",
    "  } \n",
    "  $( document ).ready(code_toggle);\n",
    "</script>\n",
    "Подсмотреть подсказку: <a href=\"javascript:code_toggle()\">тык</a>.''')\n",
    "# =============================="
   ]
  },
  {
   "cell_type": "markdown",
   "id": "d9791685",
   "metadata": {},
   "source": [
    "Протестируем данную функцию"
   ]
  },
  {
   "cell_type": "code",
   "execution_count": 43,
   "id": "83c80754",
   "metadata": {},
   "outputs": [],
   "source": [
    "eig_values = [-1]*2 + [120]*2\n",
    "A = gen_random_symm_matix_with_given_eig_values(eig_values)\n",
    "\n",
    "C = find_normal_base_for_mat(A)"
   ]
  },
  {
   "cell_type": "code",
   "execution_count": 44,
   "id": "bf8f4bd3",
   "metadata": {},
   "outputs": [
    {
     "data": {
      "text/plain": [
       "[    -1.0000000000000038   9.500276822952902e-16   4.423523066952856e-14   8.541935952969547e-14]\n",
       "[  2.279871032834202e-15     -0.9999999999999952   9.132441929392285e-15 -1.3973990151094902e-14]\n",
       "[ 3.6295980061172874e-14   3.846138685550951e-15      120.00000000000006  -7.658009477312555e-16]\n",
       "[ 5.5563025794160343e-14 -1.3543737517501688e-14  1.5054637763094715e-14                   120.0]"
      ]
     },
     "execution_count": 44,
     "metadata": {},
     "output_type": "execute_result"
    }
   ],
   "source": [
    "C.transpose() *A *C"
   ]
  },
  {
   "cell_type": "code",
   "execution_count": 45,
   "id": "c1a9f479",
   "metadata": {},
   "outputs": [
    {
     "data": {
      "text/plain": [
       "[     0.9999999999999999  -1.527127734354331e-17   5.546513031296696e-16   7.673015813225855e-16]\n",
       "[ -1.527127734354331e-17      0.9999999999999999   5.061066899269963e-16 -1.5319548217300506e-16]\n",
       "[  5.546513031296696e-16   5.061066899269963e-16      1.0000000000000004    8.47166252506106e-17]\n",
       "[  7.673015813225855e-16 -1.5319548217300506e-16    8.47166252506106e-17                     1.0]"
      ]
     },
     "execution_count": 45,
     "metadata": {},
     "output_type": "execute_result"
    }
   ],
   "source": [
    "C.transpose() * C"
   ]
  },
  {
   "cell_type": "markdown",
   "id": "4d6f9271",
   "metadata": {},
   "source": [
    "**Протестируйте код на матрицах большего размера. Рассмотрите различные примеры, не менее 5**"
   ]
  },
  {
   "cell_type": "code",
   "execution_count": 153,
   "id": "6942d228",
   "metadata": {},
   "outputs": [],
   "source": [
    "#YOUR CODE HERE"
   ]
  },
  {
   "cell_type": "code",
   "execution_count": 62,
   "id": "815859f3",
   "metadata": {},
   "outputs": [],
   "source": [
    "def generate_normal_matrix_11(a):\n",
    "     return matrix(RDF, [\n",
    "        [a]\n",
    "    ])\n",
    "\n",
    "def generate_normal_matrix_22(a,b):\n",
    "    return matrix(RDF, [\n",
    "        [a,b],\n",
    "        [-b, a]\n",
    "    ])"
   ]
  },
  {
   "cell_type": "code",
   "execution_count": 108,
   "id": "8f7c4e92",
   "metadata": {},
   "outputs": [],
   "source": [
    "A = block_diagonal_matrix(generate_normal_matrix_22(3,4),\n",
    "                          generate_normal_matrix_22(3,4),\n",
    "                          generate_normal_matrix_22(3,4),\n",
    "                          generate_normal_matrix_22(1,2),\n",
    "                          generate_normal_matrix_11(10)\n",
    "                         )"
   ]
  },
  {
   "cell_type": "code",
   "execution_count": 109,
   "id": "2e9b0a4c",
   "metadata": {},
   "outputs": [],
   "source": [
    "C = generate_orthonormal_matrix(A.nrows())\n",
    "A = C^(-1)*A*C"
   ]
  },
  {
   "cell_type": "code",
   "execution_count": 111,
   "id": "25d65265",
   "metadata": {},
   "outputs": [],
   "source": [
    "#A"
   ]
  },
  {
   "cell_type": "code",
   "execution_count": 112,
   "id": "d93d817a",
   "metadata": {},
   "outputs": [
    {
     "data": {
      "text/plain": [
       "[10.000000000000007,\n",
       " 1.0000000000000007 + 1.9999999999999991*I,\n",
       " 1.0000000000000007 - 1.9999999999999991*I,\n",
       " 2.999999999999999 + 4.0*I,\n",
       " 2.999999999999999 - 4.0*I,\n",
       " 3.0 + 4.000000000000001*I,\n",
       " 3.0 - 4.000000000000001*I,\n",
       " 2.9999999999999987 + 3.9999999999999996*I,\n",
       " 2.9999999999999987 - 3.9999999999999996*I]"
      ]
     },
     "execution_count": 112,
     "metadata": {},
     "output_type": "execute_result"
    }
   ],
   "source": [
    "A.eigenvalues()"
   ]
  },
  {
   "cell_type": "code",
   "execution_count": 123,
   "id": "e84c71e3",
   "metadata": {},
   "outputs": [],
   "source": [
    "def find_complex_eigen_vals_with_muls(mat, thr = 1e-8):\n",
    "    eigen_vals = A.eigenvalues()\n",
    "    clusters = []\n",
    "    marked = set()\n",
    "    for i, ei in enumerate(eigen_vals):\n",
    "        if i in marked:\n",
    "            continue\n",
    "        cluster = [ei]\n",
    "        marked.add(i)\n",
    "        for j, ej in enumerate(eigen_vals):\n",
    "            if i == j or j in marked:\n",
    "                continue\n",
    "            if abs(ei - ej) < thr:\n",
    "                cluster.append(ej)\n",
    "                marked.add(j)\n",
    "        clusters.append(cluster)\n",
    "    return clusters\n",
    "                \n",
    "     \n",
    "def find_pairs_of_conj_eigvals(mat, thr = 1e-8):\n",
    "    eigen_vals = A.eigenvalues()\n",
    "    clusters = []\n",
    "    marked = set()\n",
    "    for i, ei in enumerate(eigen_vals):\n",
    "        if i in marked:\n",
    "            continue\n",
    "        cluster = [ei]\n",
    "        marked.add(i)\n",
    "        for j, ej in enumerate(eigen_vals):\n",
    "            if i == j or j in marked:\n",
    "                continue\n",
    "            if abs(ei.real() - ej.real()) < thr and abs(ei.imag() + ej.imag()) < thr:\n",
    "                cluster.append(ej)\n",
    "                marked.add(j)\n",
    "                break\n",
    "        clusters.append(cluster)\n",
    "    return clusters\n",
    "                \n",
    "\n",
    "    \n",
    "def factor_char_pol_for_normal_matrix(mat, thr = 1e-6):\n",
    "    S = CDF\n",
    "    Sx = PolynomialRing(S, 'x')\n",
    "    x = Sx([0,1])\n",
    "    factors = []\n",
    "    for el in find_pairs_of_conj_eigvals(mat):\n",
    "        if len(el) == 1:\n",
    "            factors.append(x - el[0])\n",
    "            continue\n",
    "        factors.append((x-el[0])*(x-el[1]))\n",
    "    \n",
    "    factors_with_mults = []\n",
    "    marked = set()\n",
    "    for i,fi in enumerate(factors):\n",
    "        if i in marked:\n",
    "            continue\n",
    "        else:\n",
    "            marked.add(i)\n",
    "            cur = fi\n",
    "            mult = 1\n",
    "        for j, fj in enumerate(factors):\n",
    "            if i == j or j in marked:\n",
    "                continue\n",
    "            if sum(abs(el) for el in (fi-fj).list()) < thr:\n",
    "                mult += 1\n",
    "                marked.add(j)\n",
    "        factors_with_mults.append((fi, mult))\n",
    "    return factors_with_mults\n",
    " \n",
    "def val_of_pol_on_mat(mat, pol):\n",
    "    ans = zero_matrix(mat.nrows())\n",
    "    for i,c in enumerate(pol.list()):\n",
    "        ans += c*mat**i\n",
    "    return ans\n",
    "    "
   ]
  },
  {
   "cell_type": "code",
   "execution_count": 118,
   "id": "9ac7c6c4",
   "metadata": {},
   "outputs": [
    {
     "data": {
      "text/plain": [
       "[(x - 10.000000000000007, 1),\n",
       " (x^2 - 2.0000000000000013*x + 4.999999999999998, 1),\n",
       " (x^2 - 5.999999999999998*x + 24.999999999999993, 3)]"
      ]
     },
     "execution_count": 118,
     "metadata": {},
     "output_type": "execute_result"
    }
   ],
   "source": [
    "factor_char_pol_for_normal_matrix(A)"
   ]
  },
  {
   "cell_type": "code",
   "execution_count": 119,
   "id": "caa8934e",
   "metadata": {},
   "outputs": [
    {
     "data": {
      "text/plain": [
       "(x - 10.000000000000046) * (x^2 - 6.000140449907078*x + 25.000700308137283) * (x^2 - 5.99999017086656*x + 24.999344516841948) * (x^2 - 5.999869379226476*x + 24.99995519346379) * (x^2 - 1.9999999999998566*x + 4.999999999999844)"
      ]
     },
     "execution_count": 119,
     "metadata": {},
     "output_type": "execute_result"
    }
   ],
   "source": [
    "A.characteristic_polynomial().factor()"
   ]
  },
  {
   "cell_type": "code",
   "execution_count": 131,
   "id": "10db4d55",
   "metadata": {},
   "outputs": [],
   "source": [
    "mat_val = val_of_pol_on_mat(A, x^2 - 5.999999999999998*x + 24.999999999999993)"
   ]
  },
  {
   "cell_type": "code",
   "execution_count": 132,
   "id": "3cfbb249",
   "metadata": {},
   "outputs": [],
   "source": [
    "u,s,v = mat_val.SVD()"
   ]
  },
  {
   "cell_type": "code",
   "execution_count": 133,
   "id": "f65c29d2",
   "metadata": {},
   "outputs": [
    {
     "data": {
      "text/plain": [
       "[65.0,\n",
       " 17.888543819998308,\n",
       " 17.888543819998308,\n",
       " 1.6679986668102624e-14,\n",
       " 1.4439796873380203e-14,\n",
       " 1.2914001394611606e-14,\n",
       " 1.0844771931665232e-14,\n",
       " 8.998592629397782e-15,\n",
       " 6.5346074651607245e-15]"
      ]
     },
     "execution_count": 133,
     "metadata": {},
     "output_type": "execute_result"
    }
   ],
   "source": [
    "s.diagonal()"
   ]
  },
  {
   "cell_type": "code",
   "execution_count": 83,
   "id": "cff5cc58",
   "metadata": {},
   "outputs": [
    {
     "data": {
      "text/plain": [
       "[[9.999999999999993],\n",
       " [1.0000000000000009 + 2.0000000000000004*I],\n",
       " [1.0000000000000009 - 2.0000000000000004*I],\n",
       " [3.0000000000000018 + 3.999999999999998*I,\n",
       "  2.999999999999999 + 3.9999999999999982*I],\n",
       " [3.0000000000000018 - 3.999999999999998*I,\n",
       "  2.999999999999999 - 3.9999999999999982*I],\n",
       " [2.999999999999999 + 3.9999999999999982*I],\n",
       " [2.999999999999999 - 3.9999999999999982*I]]"
      ]
     },
     "execution_count": 83,
     "metadata": {},
     "output_type": "execute_result"
    }
   ],
   "source": [
    "find_complex_eigen_vals_with_muls(A)"
   ]
  },
  {
   "cell_type": "code",
   "execution_count": 98,
   "id": "ba1ae749",
   "metadata": {},
   "outputs": [],
   "source": [
    "S = CDF\n",
    "Sx = PolynomialRing(S, 'x')\n",
    "x = Sx([0,1])"
   ]
  },
  {
   "cell_type": "code",
   "execution_count": 99,
   "id": "ec30d5be",
   "metadata": {},
   "outputs": [
    {
     "name": "stdout",
     "output_type": "stream",
     "text": [
      "x^2 - 2.0000000000000018*x + 5.0000000000000036\n",
      "\n",
      "x^2 - 6.0000000000000036*x + 24.999999999999993\n",
      "\n",
      "x^2 - 5.999999999999998*x + 24.99999999999998\n",
      "\n"
     ]
    }
   ],
   "source": [
    "for el in find_pairs_of_conj_eigvals(A):\n",
    "    if len(el) == 1:\n",
    "        continue\n",
    "    print((x-el[0])*(x-el[1]))\n",
    "    print()"
   ]
  },
  {
   "cell_type": "code",
   "execution_count": null,
   "id": "7453e2eb",
   "metadata": {},
   "outputs": [],
   "source": [
    "(a,b), (a,-b)"
   ]
  },
  {
   "cell_type": "code",
   "execution_count": null,
   "id": "5ba70b74",
   "metadata": {},
   "outputs": [],
   "source": []
  },
  {
   "cell_type": "code",
   "execution_count": null,
   "id": "336164e0",
   "metadata": {},
   "outputs": [],
   "source": []
  },
  {
   "cell_type": "code",
   "execution_count": null,
   "id": "4f11c2b0",
   "metadata": {},
   "outputs": [],
   "source": []
  },
  {
   "cell_type": "code",
   "execution_count": null,
   "id": "ba8540c7",
   "metadata": {},
   "outputs": [],
   "source": []
  }
 ],
 "metadata": {
  "kernelspec": {
   "display_name": "SageMath 10.2",
   "language": "sage",
   "name": "sagemath"
  },
  "language_info": {
   "codemirror_mode": {
    "name": "ipython",
    "version": 3
   },
   "file_extension": ".py",
   "mimetype": "text/x-python",
   "name": "python",
   "nbconvert_exporter": "python",
   "pygments_lexer": "ipython3",
   "version": "3.11.1"
  }
 },
 "nbformat": 4,
 "nbformat_minor": 5
}
