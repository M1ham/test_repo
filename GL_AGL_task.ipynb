{
 "cells": [
  {
   "cell_type": "markdown",
   "id": "09d42a71",
   "metadata": {},
   "source": [
    "## Долгосрочная работа на тему граф линейного преобразования. Часть 2. Срок сдачи 15.12.2022"
   ]
  },
  {
   "cell_type": "markdown",
   "id": "318f7be0",
   "metadata": {},
   "source": [
    "В данной долгосрочной работе будут исследованы некоторые свойства  подстановок из группы $AGL(n, q)$ и $GL(n, q)$, связанные с их цикловой структурой. Также в ходе работы планируется использование алгоритмов для работы с группами подстановок."
   ]
  },
  {
   "cell_type": "markdown",
   "id": "87074f8e",
   "metadata": {},
   "source": [
    "### Нумерация элементов векторных пространств"
   ]
  },
  {
   "cell_type": "markdown",
   "id": "225ca4eb",
   "metadata": {},
   "source": [
    "Далее мы будем работать с полями и векторными пространствами. При такой работе необходимо придерживаться некоторой естественной нумерации для элементов данных алгебраических структур. Например естественной нумерацией для элементов поля $GF(p)$ будет соответствие\n",
    "$$\n",
    "\\begin{array}{l}\n",
    "[0]_{p} \\leftrightarrow 0 \\\\\n",
    "[1]_{p} \\leftrightarrow 1 \\\\\n",
    "\\ldots \\\\\n",
    "[p-1]_{p} \\leftrightarrow p-1\n",
    "\\end{array}\n",
    "$$\n",
    "\n",
    "Для\n",
    "$GF(4)$ можно использовать нумерацию \n",
    "$$\n",
    "\\begin{array}{l}\n",
    "[0]_{x^2+x+1} \\leftrightarrow 0 \\\\\n",
    "[1]_{x^2+x+1} \\leftrightarrow 1 \\\\\n",
    "[x]_{x^2+x+1} \\leftrightarrow 2 \\\\\n",
    "[x+1]_{x^2+x+1} \\leftrightarrow 3\n",
    "\\end{array}\n",
    "$$\n",
    "\n",
    "Обобщим эту идею для нумерации элементов произвольного конечного поля, рассматривая данное поле как векторное пространство над своим простым подполем. То есть если $P=GF(q), q = p^n$, то \n",
    "$$\n",
    "P\\cong Z_p[x]/f(x), \\deg f(x) = n\n",
    "$$\n",
    "Тогда \n",
    "$$\n",
    "[a_0 + a_1x + \\ldots + a_{n-1}x^{n-1}]_{f(x)} \\leftrightarrow a_0 + a_1p + \\ldots + a_{n-1}p^{n-1}\n",
    "$$\n",
    "Обозначим данное соответствие через $\\mathcal{N}$.\n"
   ]
  },
  {
   "cell_type": "markdown",
   "id": "51500953",
   "metadata": {},
   "source": [
    "Далее нам нужно научиться нумеровать элементы векторных пространств. Пусть $P = GF(q)$, $V = {}_PP^{(n)}$ - пространство векторов столбцов длины $n$. Будем использовать следующую нумерацию\n",
    "$$\n",
    "\\left(\n",
    "\\begin{array}{l}\n",
    "b_0 \\\\\n",
    "b_1 \\\\\n",
    "\\ldots \\\\\n",
    "b_{n-1}\n",
    "\\end{array}\n",
    "\\right)\n",
    "\\leftrightarrow \\mathcal{N}(b_0) + \\mathcal{N}(b_1)q + \\ldots + \\mathcal{N}(b_{n-1})q^{n-1} \n",
    "$$"
   ]
  },
  {
   "cell_type": "markdown",
   "id": "49204339",
   "metadata": {},
   "source": [
    "~~Реализуйте данную идею для нумерации и напишите тесты~~"
   ]
  },
  {
   "cell_type": "markdown",
   "id": "4008f843",
   "metadata": {},
   "source": [
    "Ниже мы реализуем данную идею для нумерации элементов векторных пространств. Обратите внимание, на рекурсивное определение данного класса: мы используем нумерацию элементов поля как векторного пространства над своим простым подполем"
   ]
  },
  {
   "cell_type": "code",
   "execution_count": 8,
   "id": "33e81365",
   "metadata": {},
   "outputs": [],
   "source": [
    "import numpy as np # удобная библиотека для векторно-матричных вычислений\n",
    "\n",
    "class VectorSpaceOrdering:\n",
    "    def __init__(self, V):\n",
    "        self.V = V\n",
    "        self.P = V.base()\n",
    "        \n",
    "        self.card = V.cardinality()\n",
    "        self.base_card = self.P.cardinality()\n",
    "        self.dim =  int(log(self.card, self.base_card))\n",
    "        \n",
    "        self.p = self.P.base().cardinality()\n",
    "        self.base_field_dim = int(log(self.base_card, self.p))\n",
    "        \n",
    "        self.base_ordering = VectorSpaceOrdering(self.P) if not self.base_card.is_prime() else  lambda x: self.P(x) \n",
    "        \n",
    "    def _get_digits(self, idx):\n",
    "        ans = []\n",
    "        for _ in range(self.dim):\n",
    "            ans.append(idx % self.base_card)\n",
    "            idx = idx // self.base_card\n",
    "        return ans\n",
    "    \n",
    "    def field_el_to_num(self, field_el):\n",
    "        coefs = [int(el) for el in field_el.polynomial().list()]\n",
    "        ans = 0\n",
    "        for i, c in enumerate(coefs):\n",
    "            ans += c * self.p ^ i\n",
    "        return ans\n",
    "    \n",
    "    def vec_to_num(self, vec):\n",
    "        digits = np.array([self.field_el_to_num(c) for c in vec])\n",
    "        return (digits * np.array([self.base_card ^ i for i in range(self.dim)])).sum()\n",
    "    \n",
    "    def __call__(self, idx):\n",
    "        assert idx < self.card\n",
    "        digits = self._get_digits(idx)\n",
    "        elems = [self.base_ordering(d) for d in digits]\n",
    "        if len(elems) == 1:\n",
    "            elems = elems[0]\n",
    "        return self.V(elems)  "
   ]
  },
  {
   "cell_type": "markdown",
   "id": "558e8347",
   "metadata": {},
   "source": [
    "Продемонстрируем работу данного класса"
   ]
  },
  {
   "cell_type": "code",
   "execution_count": 10,
   "id": "3594ce31",
   "metadata": {},
   "outputs": [
    {
     "name": "stdout",
     "output_type": "stream",
     "text": [
      "0 <-> 0\n",
      "1 <-> 1\n"
     ]
    }
   ],
   "source": [
    "P = GF(2)\n",
    "vsordering = VectorSpaceOrdering(P)\n",
    "for i in range(P.cardinality()):\n",
    "    print(i, '<->', vsordering(i))"
   ]
  },
  {
   "cell_type": "code",
   "execution_count": 14,
   "id": "861f5b3e",
   "metadata": {},
   "outputs": [
    {
     "name": "stdout",
     "output_type": "stream",
     "text": [
      "0 <-> 0\n",
      "1 <-> 1\n",
      "2 <-> 2\n",
      "3 <-> z2\n",
      "4 <-> z2 + 1\n",
      "5 <-> z2 + 2\n",
      "6 <-> 2*z2\n",
      "7 <-> 2*z2 + 1\n",
      "8 <-> 2*z2 + 2\n"
     ]
    }
   ],
   "source": [
    "P = GF(9)\n",
    "vsordering = VectorSpaceOrdering(P)\n",
    "for i in range(P.cardinality()):\n",
    "    print(i, '<->', vsordering(i))"
   ]
  },
  {
   "cell_type": "code",
   "execution_count": 15,
   "id": "2eedd1f8",
   "metadata": {},
   "outputs": [
    {
     "name": "stdout",
     "output_type": "stream",
     "text": [
      "0 <-> (0, 0)\n",
      "1 <-> (1, 0)\n",
      "2 <-> (2, 0)\n",
      "3 <-> (0, 1)\n",
      "4 <-> (1, 1)\n",
      "5 <-> (2, 1)\n",
      "6 <-> (0, 2)\n",
      "7 <-> (1, 2)\n",
      "8 <-> (2, 2)\n"
     ]
    }
   ],
   "source": [
    "P = GF(3)\n",
    "V = VectorSpace(P, 2)\n",
    "vsordering = VectorSpaceOrdering(V)\n",
    "for i in range(V.cardinality()):\n",
    "    print(i, '<->', vsordering(i))"
   ]
  },
  {
   "cell_type": "code",
   "execution_count": 16,
   "id": "f97434b2",
   "metadata": {},
   "outputs": [
    {
     "name": "stdout",
     "output_type": "stream",
     "text": [
      "0 <-> (0, 0)\n",
      "1 <-> (1, 0)\n",
      "2 <-> (z2, 0)\n",
      "3 <-> (z2 + 1, 0)\n",
      "4 <-> (0, 1)\n",
      "5 <-> (1, 1)\n",
      "6 <-> (z2, 1)\n",
      "7 <-> (z2 + 1, 1)\n",
      "8 <-> (0, z2)\n",
      "9 <-> (1, z2)\n",
      "10 <-> (z2, z2)\n",
      "11 <-> (z2 + 1, z2)\n",
      "12 <-> (0, z2 + 1)\n",
      "13 <-> (1, z2 + 1)\n",
      "14 <-> (z2, z2 + 1)\n",
      "15 <-> (z2 + 1, z2 + 1)\n"
     ]
    }
   ],
   "source": [
    "P = GF(4)\n",
    "V = VectorSpace(P, 2)\n",
    "vsordering = VectorSpaceOrdering(V)\n",
    "for i in range(V.cardinality()):\n",
    "    print(i, '<->', vsordering(i))"
   ]
  },
  {
   "cell_type": "markdown",
   "id": "504e3bb9",
   "metadata": {},
   "source": [
    "### Аффинные подстановки"
   ]
  },
  {
   "cell_type": "markdown",
   "id": "fd34d83e",
   "metadata": {},
   "source": [
    "Далее мы напишем класс реализующий аффинные подстановки. Здесь же мы реализуем разбиение подстановки на циклы."
   ]
  },
  {
   "cell_type": "code",
   "execution_count": 17,
   "id": "c634dd02",
   "metadata": {},
   "outputs": [],
   "source": [
    "class AffinePermutation:\n",
    "    def __init__(self, A, b):\n",
    "        assert A.is_invertible()\n",
    "        self.A = A\n",
    "        self.b = b\n",
    "        \n",
    "        self.V = b.parent()\n",
    "        self.P = self.A.parent().base()\n",
    "        self.n = self.A.nrows() # matrix size\n",
    "        self.q = self.P.cardinality()\n",
    "        \n",
    "        self.space_ordering = VectorSpaceOrdering(V)\n",
    "        \n",
    "\n",
    "    def __call__(self, x):\n",
    "        return A*x + b\n",
    "    \n",
    "    def get_cycle(self, x):\n",
    "        start = x\n",
    "        ans = [start]\n",
    "        \n",
    "        cur = x\n",
    "        nxt = self(cur)\n",
    "        \n",
    "        while nxt != start:\n",
    "            ans.append(nxt)\n",
    "            cur = nxt\n",
    "            nxt = self(cur)\n",
    "        \n",
    "        return tuple(ans)\n",
    "    \n",
    "    def get_cycles(self, numeric_form = False):\n",
    "        cycles = []\n",
    "        points = set(range(self.q ^ self.n))\n",
    "        while len(points) != 0:\n",
    "            start_idx = next(iter(points))\n",
    "            start = self.space_ordering(start_idx)\n",
    "            cycle = self.get_cycle(start)\n",
    "            cycles.append(cycle)\n",
    "            for p in cycle:\n",
    "                p = self.space_ordering.vec_to_num(p)\n",
    "                points.remove(p)\n",
    "        \n",
    "        if numeric_form:\n",
    "            cycles_with_nums = []\n",
    "            for c in cycles:\n",
    "                cur = []\n",
    "                for el in c:\n",
    "                    cur.append(self.space_ordering.vec_to_num(el))\n",
    "                cycles_with_nums.append(tuple(cur))\n",
    "            \n",
    "        return cycles_with_nums if numeric_form else cycles"
   ]
  },
  {
   "cell_type": "markdown",
   "id": "9dd7a085",
   "metadata": {},
   "source": [
    "Продемонстрируем работу данного класса. Для этого рассмотрим цикловую структуру линейного преобразования, с минимальным многочленом являющимся многочленом максимального периода."
   ]
  },
  {
   "cell_type": "code",
   "execution_count": 21,
   "id": "37730b8c",
   "metadata": {},
   "outputs": [
    {
     "name": "stdout",
     "output_type": "stream",
     "text": [
      "((0, 0),)\n",
      "((1, 0), (0, 1), (1, 1))\n"
     ]
    }
   ],
   "source": [
    "P = GF(2)\n",
    "n = 2\n",
    "V = VectorSpace(P, n)\n",
    "\n",
    "A = matrix(P, [\n",
    "    [0, 1],\n",
    "    [1, 1]\n",
    "])\n",
    "b = V([0,0])\n",
    "\n",
    "g = AffinePermutation(A, b)\n",
    "cycles = g.get_cycles()\n",
    "for c in cycles:\n",
    "    print(c)"
   ]
  },
  {
   "cell_type": "markdown",
   "id": "a86187cd",
   "metadata": {},
   "source": [
    "Как и ожидалось данная подстанока имеет два цикла. Один цикл длины 3 и один цикл длины 1"
   ]
  },
  {
   "cell_type": "markdown",
   "id": "7a83d0a0",
   "metadata": {},
   "source": [
    "Рассмотрим похожие примеры"
   ]
  },
  {
   "cell_type": "code",
   "execution_count": 24,
   "id": "e63ccafb",
   "metadata": {},
   "outputs": [
    {
     "name": "stdout",
     "output_type": "stream",
     "text": [
      "((0, 0, 0),)\n",
      "((1, 0, 0), (0, 0, 1), (0, 1, 0), (1, 0, 1), (0, 1, 1), (1, 1, 1), (1, 1, 0))\n"
     ]
    }
   ],
   "source": [
    "P = GF(2)\n",
    "n = 3\n",
    "V = VectorSpace(P, n)\n",
    "\n",
    "A = matrix(P, [\n",
    "    [0, 1, 0],\n",
    "    [0, 0, 1],\n",
    "    [1, 1, 0]\n",
    "])\n",
    "b = V([0,0, 0])\n",
    "\n",
    "g = AffinePermutation(A, b)\n",
    "cycles = g.get_cycles()\n",
    "for c in cycles:\n",
    "    print(c)"
   ]
  },
  {
   "cell_type": "code",
   "execution_count": 28,
   "id": "3f006e7a",
   "metadata": {},
   "outputs": [
    {
     "name": "stdout",
     "output_type": "stream",
     "text": [
      "((0, 0, 0),)\n",
      "((1, 0, 0), (0, 0, 2), (0, 2, 2), (2, 2, 0), (2, 0, 2), (0, 2, 0), (2, 0, 1), (0, 1, 2), (1, 2, 1), (2, 1, 1), (1, 1, 1), (1, 1, 2), (1, 2, 0), (2, 0, 0), (0, 0, 1), (0, 1, 1), (1, 1, 0), (1, 0, 1), (0, 1, 0), (1, 0, 2), (0, 2, 1), (2, 1, 2), (1, 2, 2), (2, 2, 2), (2, 2, 1), (2, 1, 0))\n"
     ]
    }
   ],
   "source": [
    "P = GF(3)\n",
    "n = 3\n",
    "V = VectorSpace(P, n)\n",
    "\n",
    "A = matrix(P, [\n",
    "    [0, 1, 0],\n",
    "    [0, 0, 1],\n",
    "    [2, 2, 1]\n",
    "])\n",
    "b = V([0,0, 0])\n",
    "\n",
    "g = AffinePermutation(A, b)\n",
    "cycles = g.get_cycles()\n",
    "for c in cycles:\n",
    "    print(c)"
   ]
  },
  {
   "cell_type": "markdown",
   "id": "ba2a1cb7",
   "metadata": {},
   "source": [
    "Заметим, что группа прибавления элементов векторного пространства (то есть правое регулярное представление группы $(V, +)$) также лежит в $AGL(n, q)$. Рассмотрим подстановки из данной группы"
   ]
  },
  {
   "cell_type": "code",
   "execution_count": 29,
   "id": "22d5990f",
   "metadata": {},
   "outputs": [
    {
     "name": "stdout",
     "output_type": "stream",
     "text": [
      "((0, 0, 0), (0, 1, 0))\n",
      "((1, 0, 0), (1, 1, 1))\n",
      "((1, 1, 0), (1, 0, 1))\n",
      "((0, 0, 1), (0, 1, 1))\n"
     ]
    }
   ],
   "source": [
    "P = GF(2)\n",
    "n = 3\n",
    "V = VectorSpace(P, n)\n",
    "\n",
    "A = matrix(P, [\n",
    "    [1, 0, 0],\n",
    "    [0, 1, 0],\n",
    "    [1, 0, 1]\n",
    "])\n",
    "b = V([0,1, 0])\n",
    "\n",
    "g = AffinePermutation(A, b)\n",
    "cycles = g.get_cycles()\n",
    "for c in cycles:\n",
    "    print(c)"
   ]
  },
  {
   "cell_type": "markdown",
   "id": "72313b86",
   "metadata": {},
   "source": [
    "Используя построенную выше нумерацию для элементов векторных пространств, выведем циклы с номерами элементов"
   ]
  },
  {
   "cell_type": "code",
   "execution_count": 31,
   "id": "a48fb49b",
   "metadata": {},
   "outputs": [
    {
     "name": "stdout",
     "output_type": "stream",
     "text": [
      "(0, 2)\n",
      "(1, 7)\n",
      "(3, 5)\n",
      "(4, 6)\n"
     ]
    }
   ],
   "source": [
    "P = GF(2)\n",
    "n = 3\n",
    "V = VectorSpace(P, n)\n",
    "\n",
    "A = matrix(P, [\n",
    "    [1, 0, 0],\n",
    "    [0, 1, 0],\n",
    "    [1, 0, 1]\n",
    "])\n",
    "b = V([0,1, 0])\n",
    "\n",
    "g = AffinePermutation(A, b)\n",
    "cycles = g.get_cycles(numeric_form=True)\n",
    "for c in cycles:\n",
    "    print(c)"
   ]
  },
  {
   "cell_type": "code",
   "execution_count": 32,
   "id": "12e58d77",
   "metadata": {},
   "outputs": [
    {
     "name": "stdout",
     "output_type": "stream",
     "text": [
      "(0,)\n",
      "(1, 4, 2, 5, 6, 7, 3)\n"
     ]
    }
   ],
   "source": [
    "P = GF(2)\n",
    "n = 3\n",
    "V = VectorSpace(P, n)\n",
    "\n",
    "A = matrix(P, [\n",
    "    [0, 1, 0],\n",
    "    [0, 0, 1],\n",
    "    [1, 1, 0]\n",
    "])\n",
    "b = V([0,0, 0])\n",
    "\n",
    "g = AffinePermutation(A, b)\n",
    "cycles = g.get_cycles(numeric_form=True)\n",
    "for c in cycles:\n",
    "    print(c)"
   ]
  },
  {
   "cell_type": "markdown",
   "id": "8e5e4fe6",
   "metadata": {},
   "source": [
    "Перебрав все подстановки из $AGL(2, 2)$ перечислим их  цикловые типы."
   ]
  },
  {
   "cell_type": "code",
   "execution_count": 127,
   "id": "3ec0c88a",
   "metadata": {},
   "outputs": [
    {
     "name": "stdout",
     "output_type": "stream",
     "text": [
      "[1, 1, 1, 1]\n",
      "[2, 2]\n",
      "[2, 2]\n",
      "[2, 2]\n",
      "[1, 2, 1]\n",
      "[4]\n",
      "[4]\n",
      "[2, 1, 1]\n",
      "[1, 3]\n",
      "[3, 1]\n",
      "[3, 1]\n",
      "[3, 1]\n",
      "[1, 1, 2]\n",
      "[2, 1, 1]\n",
      "[4]\n",
      "[4]\n",
      "[1, 2, 1]\n",
      "[4]\n",
      "[2, 1, 1]\n",
      "[4]\n",
      "[1, 3]\n",
      "[3, 1]\n",
      "[3, 1]\n",
      "[3, 1]\n"
     ]
    }
   ],
   "source": [
    "\n",
    "P = GF(2)\n",
    "n = 2\n",
    "V = VectorSpace(P, n)\n",
    "Pnn = MatrixSpace(P, n, n)\n",
    "for A in Pnn:\n",
    "    if not A.is_invertible():\n",
    "        continue\n",
    "    for b in V:\n",
    "        g = AffinePermutation(A, b)\n",
    "        cycles = g.get_cycles()\n",
    "        lens = [len(c) for c in cycles]\n",
    "        print(lens)"
   ]
  },
  {
   "cell_type": "markdown",
   "id": "eaccc0e1",
   "metadata": {},
   "source": [
    "Видим, что имеется много одинаковых цикловых типов. Перечислим без повторения. Для этого испозуем класс `Counter` из стандартной библиотеки"
   ]
  },
  {
   "cell_type": "code",
   "execution_count": 42,
   "id": "aa9e49d0",
   "metadata": {},
   "outputs": [],
   "source": [
    "from collections import Counter"
   ]
  },
  {
   "cell_type": "markdown",
   "id": "04fa29e0",
   "metadata": {},
   "source": [
    "Данный класс (как следует из названия) предназначен для подсчета элементов"
   ]
  },
  {
   "cell_type": "code",
   "execution_count": 44,
   "id": "6323a34f",
   "metadata": {},
   "outputs": [
    {
     "data": {
      "text/plain": [
       "Counter({4: 3, 2: 2, 3: 2, 1: 1})"
      ]
     },
     "execution_count": 44,
     "metadata": {},
     "output_type": "execute_result"
    }
   ],
   "source": [
    "Counter([1, 2, 2, 3, 3, 4, 4, 4])"
   ]
  },
  {
   "cell_type": "markdown",
   "id": "8238c1a0",
   "metadata": {},
   "source": [
    "То есть 4 встречается 3 раза, 2 встречается 2 раза, 3 также 2 раза и 1 ровно 1 раз"
   ]
  },
  {
   "cell_type": "markdown",
   "id": "f2f219d6",
   "metadata": {},
   "source": [
    "Перепишем код выше"
   ]
  },
  {
   "cell_type": "code",
   "execution_count": 47,
   "id": "a04fb964",
   "metadata": {},
   "outputs": [
    {
     "name": "stdout",
     "output_type": "stream",
     "text": [
      "((4, 1),)\n",
      "((1, 4),)\n",
      "((2, 2),)\n",
      "((1, 2), (2, 1))\n",
      "((1, 1), (3, 1))\n"
     ]
    }
   ],
   "source": [
    "P = GF(2)\n",
    "n = 2\n",
    "V = VectorSpace(P, n)\n",
    "Pnn = MatrixSpace(P, n, n)\n",
    "\n",
    "cycle_types = set()\n",
    "\n",
    "for A in Pnn:\n",
    "    if not A.is_invertible():\n",
    "        continue\n",
    "    for b in V:\n",
    "        g = AffinePermutation(A, b)\n",
    "        cycles = g.get_cycles()\n",
    "        lens = [len(c) for c in cycles]\n",
    "        clens = Counter(lens)\n",
    "        clens = sorted(clens.items())\n",
    "        cycle_types.add(tuple(clens))\n",
    "for  c in cycle_types:\n",
    "    print(c)"
   ]
  },
  {
   "cell_type": "markdown",
   "id": "4aa603aa",
   "metadata": {},
   "source": [
    "Ответьте на вопрос все ли цикловые типы подстановок из всей симметрической группы $S_4$ встречаются среди перечисленных? Как вы можете это объяснить? "
   ]
  },
  {
   "cell_type": "code",
   "execution_count": null,
   "id": "488ab9ff",
   "metadata": {},
   "outputs": [],
   "source": [
    "## YOUR CODE HERE"
   ]
  },
  {
   "cell_type": "markdown",
   "id": "f5f7e590",
   "metadata": {},
   "source": [
    "Оформите задачу вычисления всех цикловых типов в виде отдельной функции. Вычислите всевозможные цикловые типы аффинных подстановок для случая $p=2, n=3$ и $p=3, n=2$. Совпадает ли в данных случаях множество цикловых типов с множеством цикловых типов всех подстановок из $S_{8}$ и $S_{9}$, соответственно?"
   ]
  },
  {
   "cell_type": "code",
   "execution_count": null,
   "id": "01802b49",
   "metadata": {},
   "outputs": [],
   "source": [
    "## YOUR CODE HERE"
   ]
  },
  {
   "cell_type": "markdown",
   "id": "f0b7f34b",
   "metadata": {},
   "source": [
    "Проделайте то же задание для случая $P = GF(4), n = 2$ и ответьте на предыдущие вопросы"
   ]
  },
  {
   "cell_type": "code",
   "execution_count": null,
   "id": "63187380",
   "metadata": {},
   "outputs": [],
   "source": [
    "## YOUR CODE HERE"
   ]
  },
  {
   "cell_type": "markdown",
   "id": "275e592b",
   "metadata": {},
   "source": [
    "### Использование встроенных функций Sage"
   ]
  },
  {
   "cell_type": "markdown",
   "id": "6e4f67f9",
   "metadata": {},
   "source": [
    "Ранее мы строили группу $AGL$, перебирая обратимые матрицы и векторы. Отметим, что уже при $p=2, n=8$ данный подход имеет неприемлемо высокую сложность. В связи с этим в данном разделе мы будем использовать другой подход, базирующийся на результатах из теории групп"
   ]
  },
  {
   "cell_type": "markdown",
   "id": "f7467b2d",
   "metadata": {},
   "source": [
    "Сначала воспользуемся предыдущим способом и рассмотрим границы его применимости. Для этого построим аффинную группу небольшого размера, породим подстановками из данной группы подгруппу в соответствующей симметрической группе и сравним мощности."
   ]
  },
  {
   "cell_type": "markdown",
   "id": "cbe0efdd",
   "metadata": {},
   "source": [
    "Для работы с симметрической группой будем пользоваться классом `SymmetricGroup`"
   ]
  },
  {
   "cell_type": "code",
   "execution_count": 51,
   "id": "13f96042",
   "metadata": {},
   "outputs": [
    {
     "name": "stdout",
     "output_type": "stream",
     "text": [
      "()\n",
      "(1,3,2)\n",
      "(1,2,3)\n",
      "(2,3)\n",
      "(1,3)\n",
      "(1,2)\n"
     ]
    }
   ],
   "source": [
    "S = SymmetricGroup(3)\n",
    "for g in S:\n",
    "    print(g)"
   ]
  },
  {
   "cell_type": "markdown",
   "id": "d2cab105",
   "metadata": {},
   "source": [
    "Обратите внимание, что подстановки записываются циклами, при этом циклы длины $1$ не пишутся"
   ]
  },
  {
   "cell_type": "markdown",
   "id": "d8db08e7",
   "metadata": {},
   "source": [
    "Для наших целей будет удобнее работать с группой подстановок не на множестве $\\{1,2,\\ldots, q^n\\}$, а на множестве $\\{0,1,\\ldots, q^n - 1\\}$. Создать такое множество можно командой `list(range(n))`"
   ]
  },
  {
   "cell_type": "code",
   "execution_count": 52,
   "id": "3c567c85",
   "metadata": {},
   "outputs": [
    {
     "data": {
      "text/plain": [
       "[0, 1, 2, 3]"
      ]
     },
     "execution_count": 52,
     "metadata": {},
     "output_type": "execute_result"
    }
   ],
   "source": [
    "list(range(4))"
   ]
  },
  {
   "cell_type": "code",
   "execution_count": 53,
   "id": "c58b6ee6",
   "metadata": {},
   "outputs": [
    {
     "name": "stdout",
     "output_type": "stream",
     "text": [
      "()\n",
      "(0,2,1)\n",
      "(0,1,2)\n",
      "(1,2)\n",
      "(0,2)\n",
      "(0,1)\n"
     ]
    }
   ],
   "source": [
    "S = SymmetricGroup(list(range(3)))\n",
    "for g in S:\n",
    "    print(g)"
   ]
  },
  {
   "cell_type": "markdown",
   "id": "773eaa2c",
   "metadata": {},
   "source": [
    "Для построения подстановки нужно передать ее цикловую запись"
   ]
  },
  {
   "cell_type": "code",
   "execution_count": 57,
   "id": "9d6fe6b6",
   "metadata": {},
   "outputs": [
    {
     "data": {
      "text/plain": [
       "(0,1)"
      ]
     },
     "execution_count": 57,
     "metadata": {},
     "output_type": "execute_result"
    }
   ],
   "source": [
    "S([(0,1), (2,)])"
   ]
  },
  {
   "cell_type": "code",
   "execution_count": 62,
   "id": "8523b926",
   "metadata": {},
   "outputs": [
    {
     "name": "stdout",
     "output_type": "stream",
     "text": [
      "(1,4,2,5,6,7,3) <class 'sage.groups.perm_gps.permgroup_element.SymmetricGroupElement'>\n"
     ]
    }
   ],
   "source": [
    "P = GF(2)\n",
    "n = 3\n",
    "V = VectorSpace(P, n)\n",
    "\n",
    "A = matrix(P, [\n",
    "    [0, 1, 0],\n",
    "    [0, 0, 1],\n",
    "    [1, 1, 0]\n",
    "])\n",
    "b = V([0,0, 0])\n",
    "\n",
    "g = AffinePermutation(A, b)\n",
    "cycles = g.get_cycles(numeric_form=True)\n",
    "\n",
    "\n",
    "S = SymmetricGroup(list(range(8)))\n",
    "g = S(cycles)\n",
    "print(g, type(g))"
   ]
  },
  {
   "cell_type": "code",
   "execution_count": 61,
   "id": "a4f9f48d",
   "metadata": {},
   "outputs": [
    {
     "name": "stdout",
     "output_type": "stream",
     "text": [
      "(0,2)(1,3)(4,6)(5,7) <class 'sage.groups.perm_gps.permgroup_element.SymmetricGroupElement'>\n"
     ]
    }
   ],
   "source": [
    "A = matrix(P, [\n",
    "    [1, 0, 0],\n",
    "    [0, 1, 0],\n",
    "    [0, 0, 1]\n",
    "])\n",
    "b = V([0,1, 0])\n",
    "\n",
    "g = AffinePermutation(A, b)\n",
    "cycles = g.get_cycles(numeric_form=True)\n",
    "\n",
    "\n",
    "S = SymmetricGroup(list(range(8)))\n",
    "g = S(cycles)\n",
    "print(g, type(g))"
   ]
  },
  {
   "cell_type": "markdown",
   "id": "715afcd0",
   "metadata": {},
   "source": [
    "Построим $AGL(3, 2)$. Для этого сначала вычислим разложение на циклы всех подстановок"
   ]
  },
  {
   "cell_type": "code",
   "execution_count": 63,
   "id": "f8709439",
   "metadata": {},
   "outputs": [],
   "source": [
    "P = GF(2)\n",
    "n = 3\n",
    "V = VectorSpace(P, n)\n",
    "Pnn = MatrixSpace(P, n, n)\n",
    "\n",
    "perms = []\n",
    "for A in Pnn:\n",
    "    if not A.is_invertible():\n",
    "        continue\n",
    "    for b in V:\n",
    "        g = AffinePermutation(A, b)\n",
    "        cycles = g.get_cycles(numeric_form=True)\n",
    "        perms.append(cycles)\n",
    "        "
   ]
  },
  {
   "cell_type": "markdown",
   "id": "18052bb6",
   "metadata": {},
   "source": [
    "Покажем первые 5 разложений"
   ]
  },
  {
   "cell_type": "code",
   "execution_count": 65,
   "id": "3d88e05b",
   "metadata": {},
   "outputs": [
    {
     "data": {
      "text/plain": [
       "[[(0,), (1,), (2,), (3,), (4,), (5,), (6,), (7,)],\n",
       " [(0, 1), (2, 3), (4, 5), (6, 7)],\n",
       " [(0, 2), (1, 3), (4, 6), (5, 7)],\n",
       " [(0, 3), (1, 2), (4, 7), (5, 6)],\n",
       " [(0, 4), (1, 5), (2, 6), (3, 7)]]"
      ]
     },
     "execution_count": 65,
     "metadata": {},
     "output_type": "execute_result"
    }
   ],
   "source": [
    "perms[:5]"
   ]
  },
  {
   "cell_type": "markdown",
   "id": "290922b8",
   "metadata": {},
   "source": [
    "Далее используя функцию `subgroup` сгенерируем подгруппу в симметрической группу"
   ]
  },
  {
   "cell_type": "code",
   "execution_count": 66,
   "id": "bbe83142",
   "metadata": {},
   "outputs": [],
   "source": [
    "S = SymmetricGroup(list(range(8)))\n",
    "agl = S.subgroup(perms)"
   ]
  },
  {
   "cell_type": "markdown",
   "id": "a0fb31a8",
   "metadata": {},
   "source": [
    "Вычислим мощность данной группы"
   ]
  },
  {
   "cell_type": "code",
   "execution_count": 67,
   "id": "00638c7c",
   "metadata": {},
   "outputs": [
    {
     "data": {
      "text/plain": [
       "1344"
      ]
     },
     "execution_count": 67,
     "metadata": {},
     "output_type": "execute_result"
    }
   ],
   "source": [
    "agl.cardinality()"
   ]
  },
  {
   "cell_type": "markdown",
   "id": "aa943a2f",
   "metadata": {},
   "source": [
    "Для проверки того, что мы все слелали правильно сравним с теоретическим значением"
   ]
  },
  {
   "cell_type": "code",
   "execution_count": 71,
   "id": "fbeebc3e",
   "metadata": {},
   "outputs": [],
   "source": [
    "def agl_cardinality(n, q):\n",
    "    return np.prod([q^n - q^i for i in range(n)]) * q^n"
   ]
  },
  {
   "cell_type": "code",
   "execution_count": 88,
   "id": "6922fac3",
   "metadata": {},
   "outputs": [
    {
     "data": {
      "text/plain": [
       "1344"
      ]
     },
     "execution_count": 88,
     "metadata": {},
     "output_type": "execute_result"
    }
   ],
   "source": [
    "agl_cardinality(3, 2)"
   ]
  },
  {
   "cell_type": "markdown",
   "id": "1dc2a36e",
   "metadata": {},
   "source": [
    "Проверим данный подход для случая $q=4, n=2$"
   ]
  },
  {
   "cell_type": "code",
   "execution_count": 73,
   "id": "be1af6bb",
   "metadata": {},
   "outputs": [],
   "source": [
    "q=4\n",
    "n = 2\n",
    "\n",
    "P = GF(q)\n",
    "V = VectorSpace(P, n)\n",
    "Pnn = MatrixSpace(P, n, n)\n",
    "\n",
    "perms = []\n",
    "for A in Pnn:\n",
    "    if not A.is_invertible():\n",
    "        continue\n",
    "    for b in V:\n",
    "        g = AffinePermutation(A, b)\n",
    "        cycles = g.get_cycles(numeric_form=True)\n",
    "        perms.append(cycles)\n",
    "        \n",
    "S = SymmetricGroup(list(range(q^n)))\n",
    "agl = S.subgroup(perms)"
   ]
  },
  {
   "cell_type": "code",
   "execution_count": 74,
   "id": "1c0cb95a",
   "metadata": {},
   "outputs": [
    {
     "name": "stdout",
     "output_type": "stream",
     "text": [
      "2880 2880\n"
     ]
    }
   ],
   "source": [
    "print(agl.cardinality(), agl_cardinality(n, q))"
   ]
  },
  {
   "cell_type": "markdown",
   "id": "e090c046",
   "metadata": {},
   "source": [
    "Видим, что данные значения совпадают"
   ]
  },
  {
   "cell_type": "markdown",
   "id": "6b298431",
   "metadata": {},
   "source": [
    "Постройте указанным выше способом группу $AGL(2, 3)$  и вычислите ее мощность"
   ]
  },
  {
   "cell_type": "code",
   "execution_count": 75,
   "id": "1b27dae5",
   "metadata": {},
   "outputs": [],
   "source": [
    "## YOUR code here"
   ]
  },
  {
   "cell_type": "markdown",
   "id": "7da8f4f0",
   "metadata": {},
   "source": [
    "~~Постройте~~ Попробуйте построить указанным выше способом группу $AGL(4, 2)$  и вычислите ее мощность. Прервать вычисления можно с помощью влкадки `kernel`"
   ]
  },
  {
   "cell_type": "code",
   "execution_count": null,
   "id": "0b71d012",
   "metadata": {},
   "outputs": [],
   "source": [
    "## YOUR code here"
   ]
  },
  {
   "cell_type": "markdown",
   "id": "481fe561",
   "metadata": {},
   "source": [
    "Удалось ли выполнить построение?"
   ]
  },
  {
   "cell_type": "code",
   "execution_count": null,
   "id": "13a573c6",
   "metadata": {},
   "outputs": [],
   "source": [
    "## YOUR code here"
   ]
  },
  {
   "cell_type": "markdown",
   "id": "a864b516",
   "metadata": {},
   "source": [
    "Однако как мы отмечали выше, данный подход, базирующийся на переборе матриц ограничен из-за высокой трудоемкости.\n",
    "\n",
    "Поэтому мы воспользуемся тем фактом, что аффинную группу можно построить как нормализатор соответствующей группы в симметрической группе"
   ]
  },
  {
   "cell_type": "markdown",
   "id": "3c17ee9e",
   "metadata": {},
   "source": [
    "Построим подстановки из группы сдвигов векторного пространства"
   ]
  },
  {
   "cell_type": "code",
   "execution_count": 76,
   "id": "bde84f96",
   "metadata": {},
   "outputs": [],
   "source": [
    "q = 2\n",
    "n = 4\n",
    "\n",
    "P = GF(q)\n",
    "V = VectorSpace(P, n)\n",
    "\n",
    "A = matrix(P, [\n",
    "    [1, 0, 0, 0],\n",
    "    [0, 1, 0, 0],\n",
    "    [0, 0, 1, 0],\n",
    "    [0, 0, 0, 1],\n",
    "])\n",
    "\n",
    "\n",
    "\n",
    "perms = []\n",
    "for b in V:\n",
    "    g = AffinePermutation(A, b)\n",
    "    cycles = g.get_cycles(numeric_form=True)\n",
    "    perms.append(cycles)\n",
    "\n",
    "\n"
   ]
  },
  {
   "cell_type": "markdown",
   "id": "7d61c570",
   "metadata": {},
   "source": [
    "То есть мы сгенерировали все подстановки соответствующие прибавлению векторов векторного пространства "
   ]
  },
  {
   "cell_type": "code",
   "execution_count": 80,
   "id": "523d291b",
   "metadata": {},
   "outputs": [
    {
     "name": "stdout",
     "output_type": "stream",
     "text": [
      "[(0,), (1,), (2,), (3,), (4,), (5,), (6,), (7,), (8,), (9,), (10,), (11,), (12,), (13,), (14,), (15,)]\n",
      "[(0, 1), (2, 3), (4, 5), (6, 7), (8, 9), (10, 11), (12, 13), (14, 15)]\n",
      "[(0, 2), (1, 3), (4, 6), (5, 7), (8, 10), (9, 11), (12, 14), (13, 15)]\n",
      "[(0, 3), (1, 2), (4, 7), (5, 6), (8, 11), (9, 10), (12, 15), (13, 14)]\n",
      "[(0, 4), (1, 5), (2, 6), (3, 7), (8, 12), (9, 13), (10, 14), (11, 15)]\n",
      "[(0, 5), (1, 4), (2, 7), (3, 6), (8, 13), (9, 12), (10, 15), (11, 14)]\n",
      "[(0, 6), (1, 7), (2, 4), (3, 5), (8, 14), (9, 15), (10, 12), (11, 13)]\n",
      "[(0, 7), (1, 6), (2, 5), (3, 4), (8, 15), (9, 14), (10, 13), (11, 12)]\n",
      "[(0, 8), (1, 9), (2, 10), (3, 11), (4, 12), (5, 13), (6, 14), (7, 15)]\n",
      "[(0, 9), (1, 8), (2, 11), (3, 10), (4, 13), (5, 12), (6, 15), (7, 14)]\n",
      "[(0, 10), (1, 11), (2, 8), (3, 9), (4, 14), (5, 15), (6, 12), (7, 13)]\n",
      "[(0, 11), (1, 10), (2, 9), (3, 8), (4, 15), (5, 14), (6, 13), (7, 12)]\n",
      "[(0, 12), (1, 13), (2, 14), (3, 15), (4, 8), (5, 9), (6, 10), (7, 11)]\n",
      "[(0, 13), (1, 12), (2, 15), (3, 14), (4, 9), (5, 8), (6, 11), (7, 10)]\n",
      "[(0, 14), (1, 15), (2, 12), (3, 13), (4, 10), (5, 11), (6, 8), (7, 9)]\n",
      "[(0, 15), (1, 14), (2, 13), (3, 12), (4, 11), (5, 10), (6, 9), (7, 8)]\n"
     ]
    }
   ],
   "source": [
    "for c in perms:\n",
    "    print(c)"
   ]
  },
  {
   "cell_type": "markdown",
   "id": "1c7616f7",
   "metadata": {},
   "source": [
    "Далее этими подстановками породим соотвествующую группу"
   ]
  },
  {
   "cell_type": "code",
   "execution_count": 81,
   "id": "bb2f5f8c",
   "metadata": {},
   "outputs": [],
   "source": [
    "S = SymmetricGroup(list(range(q^n)))\n",
    "T = S.subgroup(perms)"
   ]
  },
  {
   "cell_type": "markdown",
   "id": "6a271e8b",
   "metadata": {},
   "source": [
    "Посмотрим на свойства этой группы"
   ]
  },
  {
   "cell_type": "code",
   "execution_count": 82,
   "id": "b5ba3d70",
   "metadata": {},
   "outputs": [
    {
     "data": {
      "text/plain": [
       "True"
      ]
     },
     "execution_count": 82,
     "metadata": {},
     "output_type": "execute_result"
    }
   ],
   "source": [
    "T.is_abelian()"
   ]
  },
  {
   "cell_type": "code",
   "execution_count": 83,
   "id": "14715ab1",
   "metadata": {},
   "outputs": [
    {
     "data": {
      "text/plain": [
       "True"
      ]
     },
     "execution_count": 83,
     "metadata": {},
     "output_type": "execute_result"
    }
   ],
   "source": [
    "T.is_regular()"
   ]
  },
  {
   "cell_type": "code",
   "execution_count": 84,
   "id": "23541085",
   "metadata": {},
   "outputs": [
    {
     "data": {
      "text/plain": [
       "16"
      ]
     },
     "execution_count": 84,
     "metadata": {},
     "output_type": "execute_result"
    }
   ],
   "source": [
    "T.cardinality()"
   ]
  },
  {
   "cell_type": "code",
   "execution_count": 85,
   "id": "2015ea63",
   "metadata": {},
   "outputs": [
    {
     "data": {
      "text/plain": [
       "2"
      ]
     },
     "execution_count": 85,
     "metadata": {},
     "output_type": "execute_result"
    }
   ],
   "source": [
    "T.exponent()"
   ]
  },
  {
   "cell_type": "markdown",
   "id": "67d56029",
   "metadata": {},
   "source": [
    "А теперь самое интересное. Построим аффинную группу $AGL(4, 2)$."
   ]
  },
  {
   "cell_type": "code",
   "execution_count": 86,
   "id": "ae71b639",
   "metadata": {},
   "outputs": [],
   "source": [
    "agl = S.normalizer(T)"
   ]
  },
  {
   "cell_type": "markdown",
   "id": "3b0ee2bd",
   "metadata": {},
   "source": [
    "Проверим, не ошиблись ли мы"
   ]
  },
  {
   "cell_type": "code",
   "execution_count": 89,
   "id": "4835da6b",
   "metadata": {},
   "outputs": [
    {
     "data": {
      "text/plain": [
       "322560"
      ]
     },
     "execution_count": 89,
     "metadata": {},
     "output_type": "execute_result"
    }
   ],
   "source": [
    "agl.cardinality()"
   ]
  },
  {
   "cell_type": "code",
   "execution_count": 90,
   "id": "602637fc",
   "metadata": {},
   "outputs": [
    {
     "data": {
      "text/plain": [
       "322560"
      ]
     },
     "execution_count": 90,
     "metadata": {},
     "output_type": "execute_result"
    }
   ],
   "source": [
    "agl_cardinality(4, 2)"
   ]
  },
  {
   "cell_type": "markdown",
   "id": "84266469",
   "metadata": {},
   "source": [
    "Видим, что построение выполняется очень быстро. Построим таким же образом $AGL(8, 2)$. Сначала построим группу сдвигов. Следующая ячейка может выполняться в течение пары минут"
   ]
  },
  {
   "cell_type": "code",
   "execution_count": 91,
   "id": "20209809",
   "metadata": {},
   "outputs": [],
   "source": [
    "q = 2\n",
    "n = 8\n",
    "\n",
    "P = GF(q)\n",
    "V = VectorSpace(P, n)\n",
    "\n",
    "A = identity_matrix(P, n)\n",
    "\n",
    "perms = []\n",
    "for b in V:\n",
    "    g = AffinePermutation(A, b)\n",
    "    cycles = g.get_cycles(numeric_form=True)\n",
    "    perms.append(cycles)"
   ]
  },
  {
   "cell_type": "code",
   "execution_count": 92,
   "id": "78f6679e",
   "metadata": {},
   "outputs": [],
   "source": [
    "S = SymmetricGroup(list(range(q^n)))\n",
    "T = S.subgroup(perms)"
   ]
  },
  {
   "cell_type": "markdown",
   "id": "55544471",
   "metadata": {},
   "source": [
    "Далее построим $AGL(8,2)$"
   ]
  },
  {
   "cell_type": "code",
   "execution_count": 93,
   "id": "10318485",
   "metadata": {},
   "outputs": [],
   "source": [
    "agl = S.normalizer(T)"
   ]
  },
  {
   "cell_type": "code",
   "execution_count": 94,
   "id": "2f1b6610",
   "metadata": {},
   "outputs": [
    {
     "data": {
      "text/plain": [
       "1369104324918194995200"
      ]
     },
     "execution_count": 94,
     "metadata": {},
     "output_type": "execute_result"
    }
   ],
   "source": [
    "agl.cardinality()"
   ]
  },
  {
   "cell_type": "markdown",
   "id": "71791edb",
   "metadata": {},
   "source": [
    "Более того можно найти экспоненту группу."
   ]
  },
  {
   "cell_type": "code",
   "execution_count": 102,
   "id": "13970c62",
   "metadata": {},
   "outputs": [
    {
     "data": {
      "text/plain": [
       "337322160"
      ]
     },
     "execution_count": 102,
     "metadata": {},
     "output_type": "execute_result"
    }
   ],
   "source": [
    "agl.exponent()"
   ]
  },
  {
   "cell_type": "markdown",
   "id": "7b1e21b8",
   "metadata": {},
   "source": [
    "Напишите функцию для нахождения  экспоненты аффинной группы и найдите экспоненту группы $AGL(n, 2)$ для $n=5,6,7$ и экспоненту групп $AGL(n, 3)$ для $n=3,4,5$"
   ]
  },
  {
   "cell_type": "code",
   "execution_count": null,
   "id": "52d38a8d",
   "metadata": {},
   "outputs": [],
   "source": [
    "### your code here"
   ]
  },
  {
   "cell_type": "markdown",
   "id": "b0d5d2e7",
   "metadata": {},
   "source": [
    "Проделайте следующее задание"
   ]
  },
  {
   "cell_type": "markdown",
   "id": "d6d8e6e8",
   "metadata": {},
   "source": [
    "Постройте аффинную группу $AGL(2, 4)$ перебором матриц и векторов и вычислите ее мощность"
   ]
  },
  {
   "cell_type": "code",
   "execution_count": 103,
   "id": "ec485f04",
   "metadata": {},
   "outputs": [],
   "source": [
    "q=4\n",
    "n = 2\n",
    "\n",
    "P = GF(q)\n",
    "V = VectorSpace(P, n)\n",
    "Pnn = MatrixSpace(P, n, n)\n",
    "\n",
    "perms = []\n",
    "for A in Pnn:\n",
    "    if not A.is_invertible():\n",
    "        continue\n",
    "    for b in V:\n",
    "        g = AffinePermutation(A, b)\n",
    "        cycles = g.get_cycles(numeric_form=True)\n",
    "        perms.append(cycles)\n",
    "        \n",
    "S = SymmetricGroup(list(range(q^n)))\n",
    "agl = S.subgroup(perms)"
   ]
  },
  {
   "cell_type": "code",
   "execution_count": 104,
   "id": "4cf576c0",
   "metadata": {},
   "outputs": [
    {
     "data": {
      "text/plain": [
       "2880"
      ]
     },
     "execution_count": 104,
     "metadata": {},
     "output_type": "execute_result"
    }
   ],
   "source": [
    "agl.cardinality()"
   ]
  },
  {
   "cell_type": "markdown",
   "id": "3f1ea914",
   "metadata": {},
   "source": [
    "Далее постройте группу равную нормализатору группы сдвигов векторного пространства $V = {}_PP^2$, где $P = GF(4)$. Вычислите мощность данного нормализатора"
   ]
  },
  {
   "cell_type": "code",
   "execution_count": 105,
   "id": "60bfb22e",
   "metadata": {},
   "outputs": [],
   "source": [
    "q = 4\n",
    "n = 2\n",
    "\n",
    "P = GF(q)\n",
    "V = VectorSpace(P, n)\n",
    "\n",
    "A = identity_matrix(P, n)\n",
    "\n",
    "perms = []\n",
    "for b in V:\n",
    "    g = AffinePermutation(A, b)\n",
    "    cycles = g.get_cycles(numeric_form=True)\n",
    "    perms.append(cycles)\n",
    "    \n",
    "S = SymmetricGroup(list(range(q^n)))\n",
    "T = S.subgroup(perms)\n",
    "\n",
    "agl = S.normalizer(T)\n"
   ]
  },
  {
   "cell_type": "code",
   "execution_count": 106,
   "id": "c993f9bb",
   "metadata": {},
   "outputs": [
    {
     "data": {
      "text/plain": [
       "322560"
      ]
     },
     "execution_count": 106,
     "metadata": {},
     "output_type": "execute_result"
    }
   ],
   "source": [
    "agl.cardinality()"
   ]
  },
  {
   "cell_type": "markdown",
   "id": "68ad6bd3",
   "metadata": {},
   "source": [
    "Как вы можете объяснить данный эффект?"
   ]
  },
  {
   "cell_type": "code",
   "execution_count": null,
   "id": "0053a3fa",
   "metadata": {},
   "outputs": [],
   "source": [
    "## YOUR CODE HERE"
   ]
  },
  {
   "cell_type": "markdown",
   "id": "2bdc88a5",
   "metadata": {},
   "source": [
    "Возникает вопрос. Как построить группу $GL(n, q)$? Для небольших значений можно приметь указанный выше подход с перебором матриц. Например построим $GL(3, 2)$."
   ]
  },
  {
   "cell_type": "code",
   "execution_count": 109,
   "id": "08707508",
   "metadata": {},
   "outputs": [
    {
     "data": {
      "text/plain": [
       "(0, 0, 0)"
      ]
     },
     "execution_count": 109,
     "metadata": {},
     "output_type": "execute_result"
    }
   ],
   "source": [
    "V([0, 0, 0])"
   ]
  },
  {
   "cell_type": "code",
   "execution_count": 110,
   "id": "4cee4958",
   "metadata": {},
   "outputs": [],
   "source": [
    "q=2\n",
    "n = 3\n",
    "\n",
    "P = GF(q)\n",
    "V = VectorSpace(P, n)\n",
    "b = V([0,0,0])\n",
    "Pnn = MatrixSpace(P, n, n)\n",
    "\n",
    "perms = []\n",
    "for A in Pnn:\n",
    "    if not A.is_invertible():\n",
    "        continue\n",
    "    g = AffinePermutation(A, b)\n",
    "    cycles = g.get_cycles(numeric_form=True)\n",
    "    perms.append(cycles)\n",
    "        \n",
    "S = SymmetricGroup(list(range(q^n)))\n",
    "gl = S.subgroup(perms)"
   ]
  },
  {
   "cell_type": "code",
   "execution_count": 112,
   "id": "d1dbf9bf",
   "metadata": {},
   "outputs": [
    {
     "data": {
      "text/plain": [
       "168"
      ]
     },
     "execution_count": 112,
     "metadata": {},
     "output_type": "execute_result"
    }
   ],
   "source": [
    "gl.cardinality()"
   ]
  },
  {
   "cell_type": "code",
   "execution_count": 113,
   "id": "39b1efb3",
   "metadata": {},
   "outputs": [
    {
     "data": {
      "text/plain": [
       "84"
      ]
     },
     "execution_count": 113,
     "metadata": {},
     "output_type": "execute_result"
    }
   ],
   "source": [
    "gl.exponent()"
   ]
  },
  {
   "cell_type": "markdown",
   "id": "92546330",
   "metadata": {},
   "source": [
    "Для проверки напишите функцию для вычисления мощности группы $GL(n, q)$"
   ]
  },
  {
   "cell_type": "code",
   "execution_count": 114,
   "id": "05ebb9bc",
   "metadata": {},
   "outputs": [],
   "source": [
    "def gl_cardinality(n, q):\n",
    "    return np.prod([q^n - q^i for i in range(n)])"
   ]
  },
  {
   "cell_type": "code",
   "execution_count": 115,
   "id": "eaf3c33f",
   "metadata": {},
   "outputs": [
    {
     "data": {
      "text/plain": [
       "168"
      ]
     },
     "execution_count": 115,
     "metadata": {},
     "output_type": "execute_result"
    }
   ],
   "source": [
    "gl_cardinality(3, 2)"
   ]
  },
  {
   "cell_type": "markdown",
   "id": "543bb979",
   "metadata": {},
   "source": [
    "Для значений $n\\geq 5$ данный подход также неприемлем. Однако построить группу $GL(n, q)$ можно как стабилизатор нулевого элемента. Проделаем это для построения $GL(4, 2)$."
   ]
  },
  {
   "cell_type": "code",
   "execution_count": 116,
   "id": "d1a879b6",
   "metadata": {},
   "outputs": [],
   "source": [
    "q = 2\n",
    "n = 4\n",
    "\n",
    "P = GF(q)\n",
    "V = VectorSpace(P, n)\n",
    "\n",
    "A = identity_matrix(P, n)\n",
    "\n",
    "perms = []\n",
    "for b in V:\n",
    "    g = AffinePermutation(A, b)\n",
    "    cycles = g.get_cycles(numeric_form=True)\n",
    "    perms.append(cycles)\n",
    "    \n",
    "S = SymmetricGroup(list(range(q^n)))\n",
    "T = S.subgroup(perms)\n",
    "\n",
    "agl = S.normalizer(T)"
   ]
  },
  {
   "cell_type": "code",
   "execution_count": 120,
   "id": "aa9c4ae7",
   "metadata": {},
   "outputs": [],
   "source": [
    "gl = agl.stabilizer(0)"
   ]
  },
  {
   "cell_type": "code",
   "execution_count": 121,
   "id": "fb3a9f9a",
   "metadata": {},
   "outputs": [
    {
     "data": {
      "text/plain": [
       "20160"
      ]
     },
     "execution_count": 121,
     "metadata": {},
     "output_type": "execute_result"
    }
   ],
   "source": [
    "gl.cardinality()"
   ]
  },
  {
   "cell_type": "code",
   "execution_count": 122,
   "id": "c742e0e9",
   "metadata": {},
   "outputs": [
    {
     "data": {
      "text/plain": [
       "20160"
      ]
     },
     "execution_count": 122,
     "metadata": {},
     "output_type": "execute_result"
    }
   ],
   "source": [
    "gl_cardinality(4, 2)"
   ]
  },
  {
   "cell_type": "code",
   "execution_count": 123,
   "id": "ba713ffe",
   "metadata": {},
   "outputs": [
    {
     "data": {
      "text/plain": [
       "420"
      ]
     },
     "execution_count": 123,
     "metadata": {},
     "output_type": "execute_result"
    }
   ],
   "source": [
    "gl.exponent()"
   ]
  },
  {
   "cell_type": "markdown",
   "id": "b9950d90",
   "metadata": {},
   "source": [
    "Вычислите экспоненту группы $GL(n, 2)$ для $n=4,5,7,8$. Сравните с результатами для $AGL(n,2)$. "
   ]
  },
  {
   "cell_type": "code",
   "execution_count": 125,
   "id": "facd8ac4",
   "metadata": {},
   "outputs": [],
   "source": [
    "## your code here"
   ]
  },
  {
   "cell_type": "markdown",
   "id": "7129f248",
   "metadata": {},
   "source": [
    "Напишите выводы о проделанной работе."
   ]
  },
  {
   "cell_type": "code",
   "execution_count": 126,
   "id": "9aa41983",
   "metadata": {},
   "outputs": [],
   "source": [
    "## your code here"
   ]
  },
  {
   "cell_type": "markdown",
   "id": "d06d22bf",
   "metadata": {},
   "source": [
    "### Задание для молодцов =)"
   ]
  },
  {
   "cell_type": "markdown",
   "id": "e5a2545f",
   "metadata": {},
   "source": [
    "Предложите способ построения группы $AGL(n, q)$ для случая непростых значений $q$ отличный от перебора матриц и веторов. Реализуйте данный способ. \n",
    "\n",
    "**Подсказка**. Чем порождается группа $GL(n, q)$? Что такое элементарная матрица?"
   ]
  },
  {
   "cell_type": "code",
   "execution_count": null,
   "id": "4fe63dc1",
   "metadata": {},
   "outputs": [],
   "source": [
    "## your code here"
   ]
  }
 ],
 "metadata": {
  "kernelspec": {
   "display_name": "SageMath 9.5",
   "language": "sage",
   "name": "sagemath"
  },
  "language_info": {
   "codemirror_mode": {
    "name": "ipython",
    "version": 3
   },
   "file_extension": ".py",
   "mimetype": "text/x-python",
   "name": "python",
   "nbconvert_exporter": "python",
   "pygments_lexer": "ipython3",
   "version": "3.9.9"
  }
 },
 "nbformat": 4,
 "nbformat_minor": 5
}
