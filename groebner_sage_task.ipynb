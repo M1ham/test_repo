{
 "cells": [
  {
   "cell_type": "markdown",
   "id": "15d1598e",
   "metadata": {},
   "source": [
    "## Долгосрочная работа по алгебре на тему \"Введение в базисы Гребнера\" срок сдачи 22.12.22"
   ]
  },
  {
   "cell_type": "markdown",
   "id": "c95818c0",
   "metadata": {},
   "source": [
    "Цель данной работы -- написание собственного алгоритма для вычисления редуцированного базиса Гребнера полиномиального идеала, а также вспомогательных функций. В процессе работы будут использоваться основные функции системы КА Sage для работы с многочленами от нескольких переменных."
   ]
  },
  {
   "cell_type": "markdown",
   "id": "2fe45621",
   "metadata": {},
   "source": [
    "В справочной информации системы КА Sage доступной [ссылке](https://doc.sagemath.org/html/en/reference/polynomial_rings/sage/rings/polynomial/multi_polynomial_ideal.html). Приводятся примеры работы с многочленами от нескольких переменных, а также примеры вычисления базисов Гребнера. Отметим, что используемые в данных примерах функции для вычисления базисов Гребнера сразу вычисляют редуцированный базис Гребнера. Однако для целей освоения материала будет правильнее самостоятельно написать все необходимые вспомогательные процедуры."
   ]
  },
  {
   "cell_type": "markdown",
   "id": "947919f9",
   "metadata": {},
   "source": [
    "### Мономиальные порядки"
   ]
  },
  {
   "cell_type": "markdown",
   "id": "9932d851",
   "metadata": {},
   "source": [
    "В Sage можно несколькими способами создавать кольцо многочленов от нескольких переменных. Мы будем использовать следующий наиболее подробный способ."
   ]
  },
  {
   "cell_type": "code",
   "execution_count": 37,
   "id": "75227078",
   "metadata": {},
   "outputs": [
    {
     "data": {
      "text/plain": [
       "Multivariate Polynomial Ring in x, y over Rational Field"
      ]
     },
     "execution_count": 37,
     "metadata": {},
     "output_type": "execute_result"
    }
   ],
   "source": [
    "R.<x,y> = PolynomialRing(QQ, order='lex')\n",
    "R"
   ]
  },
  {
   "cell_type": "markdown",
   "id": "71301438",
   "metadata": {},
   "source": [
    "Посмотреть порядок переменных можно командой"
   ]
  },
  {
   "cell_type": "code",
   "execution_count": 38,
   "id": "e6fbfec4",
   "metadata": {},
   "outputs": [
    {
     "data": {
      "text/plain": [
       "(Lexicographic term order, (x, y))"
      ]
     },
     "execution_count": 38,
     "metadata": {},
     "output_type": "execute_result"
    }
   ],
   "source": [
    "R.term_order(), R.gens()"
   ]
  },
  {
   "cell_type": "markdown",
   "id": "ad34ec43",
   "metadata": {},
   "source": [
    "В случае `lex` порядка имеем"
   ]
  },
  {
   "cell_type": "code",
   "execution_count": 39,
   "id": "07d5ccc0",
   "metadata": {},
   "outputs": [
    {
     "data": {
      "text/plain": [
       "True"
      ]
     },
     "execution_count": 39,
     "metadata": {},
     "output_type": "execute_result"
    }
   ],
   "source": [
    "x > y^100"
   ]
  },
  {
   "cell_type": "markdown",
   "id": "c0fa9b3f",
   "metadata": {},
   "source": [
    "Таким образом относительно данного порядка многочлен $y^{100} + x^2 + xy$ запишется в виде"
   ]
  },
  {
   "cell_type": "code",
   "execution_count": 40,
   "id": "a7e4c808",
   "metadata": {},
   "outputs": [
    {
     "data": {
      "text/plain": [
       "x^2 + x*y + y^100"
      ]
     },
     "execution_count": 40,
     "metadata": {},
     "output_type": "execute_result"
    }
   ],
   "source": [
    "R(y^100 + x^2 + x*y)"
   ]
  },
  {
   "cell_type": "markdown",
   "id": "e5f8100e",
   "metadata": {},
   "source": [
    "Заметим, что если мы передадим перемнные в другом порядке, то используется другой `lex` порядок"
   ]
  },
  {
   "cell_type": "code",
   "execution_count": 42,
   "id": "c1a618ad",
   "metadata": {},
   "outputs": [
    {
     "data": {
      "text/plain": [
       "False"
      ]
     },
     "execution_count": 42,
     "metadata": {},
     "output_type": "execute_result"
    }
   ],
   "source": [
    "R.<y,x> = PolynomialRing(QQ, order='lex')\n",
    "x > y"
   ]
  },
  {
   "cell_type": "markdown",
   "id": "0ce555d1",
   "metadata": {},
   "source": [
    "И в данном случае многочлен $y^{100} + x^2 + xy$ запишется в виде"
   ]
  },
  {
   "cell_type": "code",
   "execution_count": 43,
   "id": "9c2b6625",
   "metadata": {},
   "outputs": [
    {
     "data": {
      "text/plain": [
       "y^100 + y*x + x^2"
      ]
     },
     "execution_count": 43,
     "metadata": {},
     "output_type": "execute_result"
    }
   ],
   "source": [
    "R(y^100 + x^2 + x*y)"
   ]
  },
  {
   "cell_type": "markdown",
   "id": "0ca11474",
   "metadata": {},
   "source": [
    "Используя справочную информацию, а именно, сочетание клавиш `Shift+Tab` перечислите названия мономиальных порядков из Sage соответствующие мономиальным порядкам `grlex`, `grevlex`. Отметим, что для смены мономиального порядка можно использовать встроенную функцию `.change_ring()`"
   ]
  },
  {
   "cell_type": "code",
   "execution_count": null,
   "id": "91443350",
   "metadata": {},
   "outputs": [],
   "source": [
    "## your code here"
   ]
  },
  {
   "cell_type": "markdown",
   "id": "e6750a19",
   "metadata": {},
   "source": [
    "создайте кольцо многочленов от двух переменных с мономиальными порядками `grlex` и `grevlex` относительно переменных $(x,y)$ и $(y,x)$ и запишите многочлен $y^{100} + yx + x^2$ в порядке убывания мономов"
   ]
  },
  {
   "cell_type": "code",
   "execution_count": 46,
   "id": "e8bebd4d",
   "metadata": {},
   "outputs": [],
   "source": [
    "## your code here"
   ]
  },
  {
   "cell_type": "markdown",
   "id": "7be8a1a1",
   "metadata": {},
   "source": [
    "### Алгоритм деления"
   ]
  },
  {
   "cell_type": "markdown",
   "id": "43e521d6",
   "metadata": {},
   "source": [
    "Далее напишем алгоритм деления многочленов от нескольких переменных с остатком. Нам понадобятся встроенные функции вычисления старшего члена и старшего монома. Приведем примеры"
   ]
  },
  {
   "cell_type": "code",
   "execution_count": 127,
   "id": "e76bac30",
   "metadata": {},
   "outputs": [
    {
     "data": {
      "text/plain": [
       "2*x^5 + x^2*y + y^6 + 12"
      ]
     },
     "execution_count": 127,
     "metadata": {},
     "output_type": "execute_result"
    }
   ],
   "source": [
    "R.<x,y> = PolynomialRing(QQ, order='lex')\n",
    "f = 2*x^5 + y^6 + x^2*y + 12\n",
    "f"
   ]
  },
  {
   "cell_type": "code",
   "execution_count": 128,
   "id": "36157ac4",
   "metadata": {},
   "outputs": [
    {
     "name": "stdout",
     "output_type": "stream",
     "text": [
      "LT(f)=2*x^5,  LM(f)=x^5, LC(f)=2\n"
     ]
    }
   ],
   "source": [
    "print(f'LT(f)={f.lt()},  LM(f)={f.lm()}, LC(f)={f.lc()}')"
   ]
  },
  {
   "cell_type": "markdown",
   "id": "bbad9f40",
   "metadata": {},
   "source": [
    "Обратите внимание, что старший моном и многочлен имеют одинаковый тип"
   ]
  },
  {
   "cell_type": "code",
   "execution_count": 56,
   "id": "a6685a2f",
   "metadata": {},
   "outputs": [
    {
     "data": {
      "text/plain": [
       "(<class 'sage.rings.polynomial.multi_polynomial_libsingular.MPolynomial_libsingular'>,\n",
       " <class 'sage.rings.polynomial.multi_polynomial_libsingular.MPolynomial_libsingular'>)"
      ]
     },
     "execution_count": 56,
     "metadata": {},
     "output_type": "execute_result"
    }
   ],
   "source": [
    "type(f), type(f.lt())"
   ]
  },
  {
   "cell_type": "markdown",
   "id": "5b3c8b94",
   "metadata": {},
   "source": [
    "Однако при делении многочленов тип меняется. Рассмотрим пример"
   ]
  },
  {
   "cell_type": "code",
   "execution_count": 62,
   "id": "203e4425",
   "metadata": {},
   "outputs": [
    {
     "name": "stdout",
     "output_type": "stream",
     "text": [
      "x\n"
     ]
    },
    {
     "data": {
      "text/plain": [
       "(<class 'sage.rings.polynomial.multi_polynomial_libsingular.MPolynomial_libsingular'>,\n",
       " <class 'sage.rings.fraction_field_element.FractionFieldElement'>)"
      ]
     },
     "execution_count": 62,
     "metadata": {},
     "output_type": "execute_result"
    }
   ],
   "source": [
    "R.<x,y, z> = PolynomialRing(QQ, order='lex')\n",
    "f = x^3\n",
    "g = x^2\n",
    "h = f / g\n",
    "print(h)\n",
    "type(f), type(h)"
   ]
  },
  {
   "cell_type": "markdown",
   "id": "fd544057",
   "metadata": {},
   "source": [
    "Поэтому полсле деления будем приводить тип"
   ]
  },
  {
   "cell_type": "code",
   "execution_count": 64,
   "id": "655b2069",
   "metadata": {},
   "outputs": [
    {
     "name": "stdout",
     "output_type": "stream",
     "text": [
      "x\n"
     ]
    },
    {
     "data": {
      "text/plain": [
       "(<class 'sage.rings.polynomial.multi_polynomial_libsingular.MPolynomial_libsingular'>,\n",
       " <class 'sage.rings.polynomial.multi_polynomial_libsingular.MPolynomial_libsingular'>)"
      ]
     },
     "execution_count": 64,
     "metadata": {},
     "output_type": "execute_result"
    }
   ],
   "source": [
    "R.<x,y, z> = PolynomialRing(QQ, order='lex')\n",
    "f = x^3\n",
    "g = x^2\n",
    "h = R(f / g)\n",
    "print(h)\n",
    "type(f), type(h)"
   ]
  },
  {
   "cell_type": "markdown",
   "id": "d91986bd",
   "metadata": {},
   "source": [
    "Однако можно было бы использовать и деление нацело `//`"
   ]
  },
  {
   "cell_type": "code",
   "execution_count": 110,
   "id": "d489f443",
   "metadata": {},
   "outputs": [
    {
     "name": "stdout",
     "output_type": "stream",
     "text": [
      "x\n"
     ]
    },
    {
     "data": {
      "text/plain": [
       "(<class 'sage.rings.polynomial.multi_polynomial_libsingular.MPolynomial_libsingular'>,\n",
       " <class 'sage.rings.polynomial.multi_polynomial_libsingular.MPolynomial_libsingular'>)"
      ]
     },
     "execution_count": 110,
     "metadata": {},
     "output_type": "execute_result"
    }
   ],
   "source": [
    "R.<x,y, z> = PolynomialRing(QQ, order='lex')\n",
    "f = x^3\n",
    "g = x^2\n",
    "h = f // g\n",
    "print(h)\n",
    "type(f), type(h)"
   ]
  },
  {
   "cell_type": "markdown",
   "id": "f1328798",
   "metadata": {},
   "source": [
    "Далее реализуем базовый алгоритм деления"
   ]
  },
  {
   "cell_type": "code",
   "execution_count": 100,
   "id": "9314b66f",
   "metadata": {},
   "outputs": [],
   "source": [
    "def divide_with_rem(g, F, verbose=False):\n",
    "    R = g.parent()\n",
    "    \n",
    "    q = [R.zero() for _ in F] # quotients\n",
    "    rem = R.zero() # remainder\n",
    "    r = g # after finish this polynomial will be zero\n",
    "    \n",
    "    assert g == r + sum(fi*qi for fi,qi in zip(F, q)) + rem \n",
    "    \n",
    "    step = 0\n",
    "    if verbose:\n",
    "        print(f'after step {step} r={r},  q={q}, rem={rem}:')\n",
    "    while not r.is_zero():\n",
    "        was_div = False\n",
    "        for i, fi in enumerate(F):\n",
    "            if r.lm() % fi.lm() == 0:\n",
    "                mult = R(r.lt() / fi.lt())\n",
    "                q[i] += # your code here\n",
    "                r = r - fi * mult\n",
    "                was_div = True\n",
    "                break\n",
    "        if not was_div:\n",
    "            rem = rem + r.lt()\n",
    "            r = r - # your code here\n",
    "        \n",
    "        assert g == r + sum(fi*qi for fi,qi in zip(F, q)) + rem \n",
    "        step += 1\n",
    "        if verbose:\n",
    "            print(f'after step {step} r={r},  q={q}, rem={rem}:')\n",
    "        \n",
    "    return q, rem "
   ]
  },
  {
   "cell_type": "markdown",
   "id": "c85928e4",
   "metadata": {},
   "source": [
    "Проверим наш алгоритм деления"
   ]
  },
  {
   "cell_type": "code",
   "execution_count": 112,
   "id": "3993f7e2",
   "metadata": {},
   "outputs": [
    {
     "name": "stdout",
     "output_type": "stream",
     "text": [
      "after step 0 r=x^7*y^2 + x^3*y^2 - y + 1,  q=[0, 0], rem=0:\n",
      "after step 1 r=x^7 + x^3*y^2 - y + 1,  q=[x^6, 0], rem=0:\n",
      "after step 2 r=x^6*y^3 + x^3*y^2 - y + 1,  q=[x^6, x^6], rem=0:\n",
      "after step 3 r=x^6*y + x^3*y^2 - y + 1,  q=[x^6 + x^5*y, x^6], rem=0:\n",
      "after step 4 r=x^5*y^4 + x^3*y^2 - y + 1,  q=[x^6 + x^5*y, x^6 + x^5*y], rem=0:\n",
      "after step 5 r=x^5*y^2 + x^3*y^2 - y + 1,  q=[x^6 + x^5*y + x^4*y^2, x^6 + x^5*y], rem=0:\n",
      "after step 6 r=x^5 + x^3*y^2 - y + 1,  q=[x^6 + x^5*y + x^4*y^2 + x^4, x^6 + x^5*y], rem=0:\n",
      "after step 7 r=x^4*y^3 + x^3*y^2 - y + 1,  q=[x^6 + x^5*y + x^4*y^2 + x^4, x^6 + x^5*y + x^4], rem=0:\n",
      "after step 8 r=x^4*y + x^3*y^2 - y + 1,  q=[x^6 + x^5*y + x^4*y^2 + x^4 + x^3*y, x^6 + x^5*y + x^4], rem=0:\n",
      "after step 9 r=x^3*y^4 + x^3*y^2 - y + 1,  q=[x^6 + x^5*y + x^4*y^2 + x^4 + x^3*y, x^6 + x^5*y + x^4 + x^3*y], rem=0:\n",
      "after step 10 r=2*x^3*y^2 - y + 1,  q=[x^6 + x^5*y + x^4*y^2 + x^4 + x^3*y + x^2*y^2, x^6 + x^5*y + x^4 + x^3*y], rem=0:\n",
      "after step 11 r=2*x^3 - y + 1,  q=[x^6 + x^5*y + x^4*y^2 + x^4 + x^3*y + x^2*y^2 + 2*x^2, x^6 + x^5*y + x^4 + x^3*y], rem=0:\n",
      "after step 12 r=2*x^2*y^3 - y + 1,  q=[x^6 + x^5*y + x^4*y^2 + x^4 + x^3*y + x^2*y^2 + 2*x^2, x^6 + x^5*y + x^4 + x^3*y + 2*x^2], rem=0:\n",
      "after step 13 r=2*x^2*y - y + 1,  q=[x^6 + x^5*y + x^4*y^2 + x^4 + x^3*y + x^2*y^2 + 2*x^2 + 2*x*y, x^6 + x^5*y + x^4 + x^3*y + 2*x^2], rem=0:\n",
      "after step 14 r=2*x*y^4 - y + 1,  q=[x^6 + x^5*y + x^4*y^2 + x^4 + x^3*y + x^2*y^2 + 2*x^2 + 2*x*y, x^6 + x^5*y + x^4 + x^3*y + 2*x^2 + 2*x*y], rem=0:\n",
      "after step 15 r=2*x*y^2 - y + 1,  q=[x^6 + x^5*y + x^4*y^2 + x^4 + x^3*y + x^2*y^2 + 2*x^2 + 2*x*y + 2*y^2, x^6 + x^5*y + x^4 + x^3*y + 2*x^2 + 2*x*y], rem=0:\n",
      "after step 16 r=2*x - y + 1,  q=[x^6 + x^5*y + x^4*y^2 + x^4 + x^3*y + x^2*y^2 + 2*x^2 + 2*x*y + 2*y^2 + 2, x^6 + x^5*y + x^4 + x^3*y + 2*x^2 + 2*x*y], rem=0:\n",
      "after step 17 r=2*y^3 - y + 1,  q=[x^6 + x^5*y + x^4*y^2 + x^4 + x^3*y + x^2*y^2 + 2*x^2 + 2*x*y + 2*y^2 + 2, x^6 + x^5*y + x^4 + x^3*y + 2*x^2 + 2*x*y + 2], rem=0:\n",
      "after step 18 r=-y + 1,  q=[x^6 + x^5*y + x^4*y^2 + x^4 + x^3*y + x^2*y^2 + 2*x^2 + 2*x*y + 2*y^2 + 2, x^6 + x^5*y + x^4 + x^3*y + 2*x^2 + 2*x*y + 2], rem=2*y^3:\n",
      "after step 19 r=1,  q=[x^6 + x^5*y + x^4*y^2 + x^4 + x^3*y + x^2*y^2 + 2*x^2 + 2*x*y + 2*y^2 + 2, x^6 + x^5*y + x^4 + x^3*y + 2*x^2 + 2*x*y + 2], rem=2*y^3 - y:\n",
      "after step 20 r=0,  q=[x^6 + x^5*y + x^4*y^2 + x^4 + x^3*y + x^2*y^2 + 2*x^2 + 2*x*y + 2*y^2 + 2, x^6 + x^5*y + x^4 + x^3*y + 2*x^2 + 2*x*y + 2], rem=2*y^3 - y + 1:\n"
     ]
    }
   ],
   "source": [
    "R.<x,y> = PolynomialRing(QQ, order='lex')\n",
    "\n",
    "g = x^7*y^2 + x^3*y^2 - y +  1\n",
    "f1 = x*y^2  - x \n",
    "f2 = x - y^3\n",
    "\n",
    "q, r = divide_with_rem(g, [f1, f2], verbose=True)"
   ]
  },
  {
   "cell_type": "markdown",
   "id": "f51ea628",
   "metadata": {},
   "source": [
    "Поменяем порядок переменных"
   ]
  },
  {
   "cell_type": "code",
   "execution_count": 113,
   "id": "6951be71",
   "metadata": {},
   "outputs": [
    {
     "name": "stdout",
     "output_type": "stream",
     "text": [
      "after step 0 r=y^2*x^7 + y^2*x^3 - y + 1,  q=[0, 0], rem=0:\n",
      "after step 1 r=y^2*x^3 - y + x^7 + 1,  q=[x^6, 0], rem=0:\n",
      "after step 2 r=-y + x^7 + x^3 + 1,  q=[x^6 + x^2, 0], rem=0:\n",
      "after step 3 r=x^7 + x^3 + 1,  q=[x^6 + x^2, 0], rem=-y:\n",
      "after step 4 r=x^3 + 1,  q=[x^6 + x^2, 0], rem=-y + x^7:\n",
      "after step 5 r=1,  q=[x^6 + x^2, 0], rem=-y + x^7 + x^3:\n",
      "after step 6 r=0,  q=[x^6 + x^2, 0], rem=-y + x^7 + x^3 + 1:\n"
     ]
    }
   ],
   "source": [
    "R.<y,x> = PolynomialRing(QQ, order='lex')\n",
    "\n",
    "g = x^7*y^2 + x^3*y^2 - y +  1\n",
    "f1 = x*y^2  - x \n",
    "f2 = x - y^3\n",
    "\n",
    "q, r = divide_with_rem(g, [f1, f2], verbose=True)"
   ]
  },
  {
   "cell_type": "markdown",
   "id": "51657a1f",
   "metadata": {},
   "source": [
    "Поменяем мономиальный порядок"
   ]
  },
  {
   "cell_type": "code",
   "execution_count": 114,
   "id": "1a24eee2",
   "metadata": {},
   "outputs": [
    {
     "name": "stdout",
     "output_type": "stream",
     "text": [
      "after step 0 r=x^7*y^2 + x^3*y^2 - y + 1,  q=[0, 0], rem=0:\n",
      "after step 1 r=x^7 + x^3*y^2 - y + 1,  q=[x^6, 0], rem=0:\n",
      "after step 2 r=x^3*y^2 - y + 1,  q=[x^6, 0], rem=x^7:\n",
      "after step 3 r=x^3 - y + 1,  q=[x^6 + x^2, 0], rem=x^7:\n",
      "after step 4 r=-y + 1,  q=[x^6 + x^2, 0], rem=x^7 + x^3:\n",
      "after step 5 r=1,  q=[x^6 + x^2, 0], rem=x^7 + x^3 - y:\n",
      "after step 6 r=0,  q=[x^6 + x^2, 0], rem=x^7 + x^3 - y + 1:\n"
     ]
    }
   ],
   "source": [
    "R.<x,y> = PolynomialRing(QQ, order='deglex')\n",
    "\n",
    "g = x^7*y^2 + x^3*y^2 - y +  1\n",
    "f1 = x*y^2  - x \n",
    "f2 = x - y^3\n",
    "\n",
    "q, r = divide_with_rem(g, [f1, f2], verbose=True)"
   ]
  },
  {
   "cell_type": "markdown",
   "id": "8a08eb70",
   "metadata": {},
   "source": [
    "Рассмотрим пример, при котором частные разные, но остатки равны"
   ]
  },
  {
   "cell_type": "code",
   "execution_count": 102,
   "id": "ca4fe6d4",
   "metadata": {},
   "outputs": [
    {
     "name": "stdout",
     "output_type": "stream",
     "text": [
      "after step 0 r=x*y,  q=[0, 0], rem=0:\n",
      "after step 1 r=x*z,  q=[x, 0], rem=0:\n",
      "after step 2 r=-z^2,  q=[x, z], rem=0:\n",
      "after step 3 r=0,  q=[x, z], rem=-z^2:\n",
      "\n",
      "after step 0 r=x*y,  q=[0, 0], rem=0:\n",
      "after step 1 r=-y*z,  q=[y, 0], rem=0:\n",
      "after step 2 r=-z^2,  q=[y, -z], rem=0:\n",
      "after step 3 r=0,  q=[y, -z], rem=-z^2:\n"
     ]
    }
   ],
   "source": [
    "R.<x,y, z> = PolynomialRing(QQ, order='deglex')\n",
    "\n",
    "g = x*y \n",
    "f1 = x+z \n",
    "f2 = y-z\n",
    "\n",
    "q, r = divide_with_rem(g, [f2, f1], verbose=True)\n",
    "print()\n",
    "q, r = divide_with_rem(g, [f1, f2], verbose=True)"
   ]
  },
  {
   "cell_type": "markdown",
   "id": "ce3db6fb",
   "metadata": {},
   "source": [
    "Протестируйте свой код"
   ]
  },
  {
   "cell_type": "code",
   "execution_count": 119,
   "id": "f131527e",
   "metadata": {},
   "outputs": [],
   "source": [
    "## your code here"
   ]
  },
  {
   "cell_type": "markdown",
   "id": "c25abc3d",
   "metadata": {},
   "source": [
    "Ответьте на вопрос, как генерировать примеры многочленов, таких что остаток от деления не зависит от порядка многочленов на которые мы делим."
   ]
  },
  {
   "cell_type": "code",
   "execution_count": null,
   "id": "a60abb88",
   "metadata": {},
   "outputs": [],
   "source": [
    "## your code here"
   ]
  },
  {
   "cell_type": "markdown",
   "id": "79ddcb21",
   "metadata": {},
   "source": [
    "### Построение базисов Гребнера"
   ]
  },
  {
   "cell_type": "markdown",
   "id": "4d62f45a",
   "metadata": {},
   "source": [
    "Сналала напишем функцию вычисления S-многочленов. Для вычисления наибольшего общего кратного будем использовать встроенную фнукицю `lcm`"
   ]
  },
  {
   "cell_type": "code",
   "execution_count": 115,
   "id": "4d3658bc",
   "metadata": {},
   "outputs": [
    {
     "name": "stdout",
     "output_type": "stream",
     "text": [
      "x^5*y^2*z\n"
     ]
    }
   ],
   "source": [
    "R.<x,y, z> = PolynomialRing(QQ, order='lex')\n",
    "\n",
    "f = x^3*y^2\n",
    "g = x^5*y*z\n",
    "print(lcm(f,g))"
   ]
  },
  {
   "cell_type": "code",
   "execution_count": 103,
   "id": "73045790",
   "metadata": {},
   "outputs": [],
   "source": [
    "def syz(f, g):\n",
    "    num = lcm(f.lm(), g.lm())\n",
    "    fir = (num / f.lt()) * f\n",
    "    sec = # your code here\n",
    "    ans = fir - sec\n",
    "    return f.parent()(ans)"
   ]
  },
  {
   "cell_type": "markdown",
   "id": "7e8880e8",
   "metadata": {},
   "source": [
    "Используя алгоритм  Бухбергера, напишем базовый алгоритм вычисления базиса Гребнера, базирующийся на добавлении ненулевых остатков S-пар. "
   ]
  },
  {
   "cell_type": "code",
   "execution_count": null,
   "id": "c3f21055",
   "metadata": {},
   "outputs": [],
   "source": [
    "def compute_groebner(F, verbose = False):\n",
    "    ans = [f for f in F]\n",
    "    \n",
    "    is_finished = False\n",
    "    idx_iteration = 0\n",
    "    while not is_finished:\n",
    "        \n",
    "        if verbose:\n",
    "            print(f'after {idx_iteration} iteration')\n",
    "            for f in ans:\n",
    "                print(f)\n",
    "            print()\n",
    "        \n",
    "        n = len(ans)\n",
    "        is_finished = True\n",
    "        for i in range(n):\n",
    "            for j in range(i+1, n):\n",
    "                s = syz(ans[i],ans[j])\n",
    "                _, r = divide_with_rem(s, # your code here)\n",
    "                if not r.is_zero():\n",
    "                    ans.append(r)\n",
    "                    is_finished = False\n",
    "        \n",
    "        idx_iteration += 1\n",
    "    return ans"
   ]
  },
  {
   "cell_type": "markdown",
   "id": "1ed58848",
   "metadata": {},
   "source": [
    "Отметим, что в приводимой ниже версии алгоритма происходят лишние вычисления. Какие?"
   ]
  },
  {
   "cell_type": "code",
   "execution_count": null,
   "id": "a4e4e7d3",
   "metadata": {},
   "outputs": [],
   "source": [
    "# your code here"
   ]
  },
  {
   "cell_type": "markdown",
   "id": "1526908a",
   "metadata": {},
   "source": [
    "Проверим работоспособность нашего кода"
   ]
  },
  {
   "cell_type": "code",
   "execution_count": 116,
   "id": "e3b8a665",
   "metadata": {},
   "outputs": [
    {
     "name": "stdout",
     "output_type": "stream",
     "text": [
      "after 0 iteration\n",
      "x^3 - 2*x*y\n",
      "x^2*y + x - 2*y^2\n",
      "\n",
      "after 1 iteration\n",
      "x^3 - 2*x*y\n",
      "x^2*y + x - 2*y^2\n",
      "-x^2\n",
      "\n",
      "after 2 iteration\n",
      "x^3 - 2*x*y\n",
      "x^2*y + x - 2*y^2\n",
      "-x^2\n",
      "-2*x*y\n",
      "x - 2*y^2\n",
      "\n",
      "after 3 iteration\n",
      "x^3 - 2*x*y\n",
      "x^2*y + x - 2*y^2\n",
      "-x^2\n",
      "-2*x*y\n",
      "x - 2*y^2\n",
      "4*y^3\n",
      "\n"
     ]
    },
    {
     "data": {
      "text/plain": [
       "[x^3 - 2*x*y, x^2*y + x - 2*y^2, -x^2, -2*x*y, x - 2*y^2, 4*y^3]"
      ]
     },
     "execution_count": 116,
     "metadata": {},
     "output_type": "execute_result"
    }
   ],
   "source": [
    "compute_groebner(F = [x^3 - 2*x*y, x^2*y - 2*y^2 + x], verbose = True)"
   ]
  },
  {
   "cell_type": "markdown",
   "id": "d4df8bd0",
   "metadata": {},
   "source": [
    "Протестируйте свой код"
   ]
  },
  {
   "cell_type": "code",
   "execution_count": 120,
   "id": "2930d1be",
   "metadata": {},
   "outputs": [],
   "source": [
    "## your code here"
   ]
  },
  {
   "cell_type": "markdown",
   "id": "e690f524",
   "metadata": {},
   "source": [
    "Далее напишем вспомогательную функцию проверки того, что множество многочленов является базисом Гребнера"
   ]
  },
  {
   "cell_type": "code",
   "execution_count": 105,
   "id": "50b6ee70",
   "metadata": {},
   "outputs": [],
   "source": [
    "def is_groebner(F):\n",
    "    n = len(F)\n",
    "    gb = compute_groebner(F, verbose=False)\n",
    "    return n == len(gb)"
   ]
  },
  {
   "cell_type": "markdown",
   "id": "5c07acad",
   "metadata": {},
   "source": [
    "### Минимальный базис Гребнера"
   ]
  },
  {
   "cell_type": "markdown",
   "id": "9252685f",
   "metadata": {},
   "source": [
    "Далее напишем функцию для вычисления минимального базиса Гребнера, базирущуюся на идее удааления из некоторого базиса Гребнера многочленов со старшим членом, делящимся на старший член некоторого другого многочлена"
   ]
  },
  {
   "cell_type": "code",
   "execution_count": 117,
   "id": "d4d9c4fa",
   "metadata": {},
   "outputs": [],
   "source": [
    "def compute_minimal_groebner(F, verbose=False):\n",
    "    gb = compute_groebner(F, verbose)\n",
    "    n = len(gb)\n",
    "    pick_idxes = [True] * n\n",
    "    for i in range(n):\n",
    "        for j in range(n):\n",
    "            if i == j:\n",
    "                continue\n",
    "            if gb[j].lm().divides(gb[i].lm()):\n",
    "                pick_idxes[i] = # your code here\n",
    "                break\n",
    "    ans = []\n",
    "    for i in range(n):\n",
    "        if pick_idxes[i]:\n",
    "            ans.append(gb[i])\n",
    "    return ans"
   ]
  },
  {
   "cell_type": "markdown",
   "id": "ab0b99fa",
   "metadata": {},
   "source": [
    "Проверим наш метод"
   ]
  },
  {
   "cell_type": "code",
   "execution_count": 118,
   "id": "bc6d364d",
   "metadata": {},
   "outputs": [
    {
     "name": "stdout",
     "output_type": "stream",
     "text": [
      "after 0 iteration\n",
      "x^3 - 2*x*y\n",
      "x^2*y + x - 2*y^2\n",
      "\n",
      "after 1 iteration\n",
      "x^3 - 2*x*y\n",
      "x^2*y + x - 2*y^2\n",
      "-x^2\n",
      "\n",
      "after 2 iteration\n",
      "x^3 - 2*x*y\n",
      "x^2*y + x - 2*y^2\n",
      "-x^2\n",
      "-2*x*y\n",
      "x - 2*y^2\n",
      "\n",
      "after 3 iteration\n",
      "x^3 - 2*x*y\n",
      "x^2*y + x - 2*y^2\n",
      "-x^2\n",
      "-2*x*y\n",
      "x - 2*y^2\n",
      "4*y^3\n",
      "\n"
     ]
    },
    {
     "data": {
      "text/plain": [
       "[x - 2*y^2, 4*y^3]"
      ]
     },
     "execution_count": 118,
     "metadata": {},
     "output_type": "execute_result"
    }
   ],
   "source": [
    "compute_minimal_groebner(F = [x^3 - 2*x*y, x^2*y - 2*y^2 + x], verbose = True)"
   ]
  },
  {
   "cell_type": "markdown",
   "id": "f7e751ed",
   "metadata": {},
   "source": [
    "Протестируйте свой код"
   ]
  },
  {
   "cell_type": "code",
   "execution_count": null,
   "id": "b1a2ac1d",
   "metadata": {},
   "outputs": [],
   "source": [
    "## your code here"
   ]
  },
  {
   "cell_type": "markdown",
   "id": "99185207",
   "metadata": {},
   "source": [
    "### Редуцированный базис Гребнера"
   ]
  },
  {
   "cell_type": "markdown",
   "id": "b458c03c",
   "metadata": {},
   "source": [
    "Ниже мы напишем функцию для вычисления редуцированного базиса Гребнера. Обратите внимание, что в редуцированный базис мы добавляем только унитарные многочлены"
   ]
  },
  {
   "cell_type": "code",
   "execution_count": null,
   "id": "4dec0905",
   "metadata": {},
   "outputs": [],
   "source": [
    "def compute_reduced_groebner(F, verbose=False):\n",
    "    mgb = compute_minimal_groebner(F, verbose)\n",
    "    n = len(mgb)\n",
    "    \n",
    "    ans = []\n",
    "    for i in range(n):\n",
    "        reducing_pols = ans + mgb[i+1:]\n",
    "        _, g = divide_with_rem(mgb[i], reducing_pols, verbose)\n",
    "        ans.append(g / g.lc())\n",
    "    return ans"
   ]
  },
  {
   "cell_type": "markdown",
   "id": "6f02ac9f",
   "metadata": {},
   "source": [
    "Проверим работоспособность кода"
   ]
  },
  {
   "cell_type": "code",
   "execution_count": 121,
   "id": "e5d52fa0",
   "metadata": {},
   "outputs": [
    {
     "name": "stdout",
     "output_type": "stream",
     "text": [
      "after 0 iteration\n",
      "x^3 - 2*x*y\n",
      "x^2*y + x - 2*y^2\n",
      "\n",
      "after 1 iteration\n",
      "x^3 - 2*x*y\n",
      "x^2*y + x - 2*y^2\n",
      "-x^2\n",
      "\n",
      "after 2 iteration\n",
      "x^3 - 2*x*y\n",
      "x^2*y + x - 2*y^2\n",
      "-x^2\n",
      "-2*x*y\n",
      "x - 2*y^2\n",
      "\n",
      "after 3 iteration\n",
      "x^3 - 2*x*y\n",
      "x^2*y + x - 2*y^2\n",
      "-x^2\n",
      "-2*x*y\n",
      "x - 2*y^2\n",
      "4*y^3\n",
      "\n",
      "after step 0 r=x - 2*y^2,  q=[0], rem=0:\n",
      "after step 1 r=-2*y^2,  q=[0], rem=x:\n",
      "after step 2 r=0,  q=[0], rem=x - 2*y^2:\n",
      "after step 0 r=4*y^3,  q=[0], rem=0:\n",
      "after step 1 r=0,  q=[0], rem=4*y^3:\n"
     ]
    },
    {
     "data": {
      "text/plain": [
       "[x - 2*y^2, y^3]"
      ]
     },
     "execution_count": 121,
     "metadata": {},
     "output_type": "execute_result"
    }
   ],
   "source": [
    "compute_reduced_groebner(F = [x^3 - 2*x*y, x^2*y - 2*y^2 + x], verbose = True)"
   ]
  },
  {
   "cell_type": "code",
   "execution_count": 109,
   "id": "1504e60c",
   "metadata": {},
   "outputs": [
    {
     "name": "stdout",
     "output_type": "stream",
     "text": [
      "after 0 iteration\n",
      "x^2 + y^2 + z^2 - 1\n",
      "x^2 - y + z^2\n",
      "x - z\n",
      "\n",
      "after 1 iteration\n",
      "x^2 + y^2 + z^2 - 1\n",
      "x^2 - y + z^2\n",
      "x - z\n",
      "y^2 + y - 1\n",
      "-y + 2*z^2\n",
      "\n",
      "after 2 iteration\n",
      "x^2 + y^2 + z^2 - 1\n",
      "x^2 - y + z^2\n",
      "x - z\n",
      "y^2 + y - 1\n",
      "-y + 2*z^2\n",
      "4*z^4 + 2*z^2 - 1\n",
      "\n",
      "after step 0 r=x - z,  q=[0, 0], rem=0:\n",
      "after step 1 r=-z,  q=[0, 0], rem=x:\n",
      "after step 2 r=0,  q=[0, 0], rem=x - z:\n",
      "after step 0 r=-y + 2*z^2,  q=[0, 0], rem=0:\n",
      "after step 1 r=2*z^2,  q=[0, 0], rem=-y:\n",
      "after step 2 r=0,  q=[0, 0], rem=-y + 2*z^2:\n",
      "after step 0 r=4*z^4 + 2*z^2 - 1,  q=[0, 0], rem=0:\n",
      "after step 1 r=2*z^2 - 1,  q=[0, 0], rem=4*z^4:\n",
      "after step 2 r=-1,  q=[0, 0], rem=4*z^4 + 2*z^2:\n",
      "after step 3 r=0,  q=[0, 0], rem=4*z^4 + 2*z^2 - 1:\n"
     ]
    },
    {
     "data": {
      "text/plain": [
       "[x - z, y - 2*z^2, z^4 + 1/2*z^2 - 1/4]"
      ]
     },
     "execution_count": 109,
     "metadata": {},
     "output_type": "execute_result"
    }
   ],
   "source": [
    "R.<x,y, z> = PolynomialRing(QQ, order='lex')\n",
    "\n",
    "compute_reduced_groebner(F = [x^2 + y^2 + z^2 - 1, x^2 + z^2 - y, x-z], verbose = True)"
   ]
  },
  {
   "cell_type": "markdown",
   "id": "c5dc2679",
   "metadata": {},
   "source": [
    "Проверим себя, вспомнив, что Sage из коробки считает редуцированный базис Гребнера"
   ]
  },
  {
   "cell_type": "code",
   "execution_count": 125,
   "id": "e644d757",
   "metadata": {},
   "outputs": [
    {
     "data": {
      "text/plain": [
       "[x - z, y - 2*z^2, z^4 + 1/2*z^2 - 1/4]"
      ]
     },
     "execution_count": 125,
     "metadata": {},
     "output_type": "execute_result"
    }
   ],
   "source": [
    "R.<x,y, z> = PolynomialRing(QQ, order='lex')\n",
    "\n",
    "f = x^2 + y^2 + z^2 - 1\n",
    "g = x^2 + z^2 - y\n",
    "h = x-z\n",
    "\n",
    "I = Ideal([f, g, h])\n",
    "rgb = I.groebner_basis()\n",
    "rgb"
   ]
  },
  {
   "cell_type": "markdown",
   "id": "a85d2b6c",
   "metadata": {},
   "source": [
    "Видим, что результаты совпадают"
   ]
  },
  {
   "cell_type": "markdown",
   "id": "53e033c7",
   "metadata": {},
   "source": [
    "Напишите тесты"
   ]
  },
  {
   "cell_type": "code",
   "execution_count": 126,
   "id": "9c65a1a8",
   "metadata": {},
   "outputs": [],
   "source": [
    "## your code here"
   ]
  },
  {
   "cell_type": "markdown",
   "id": "77518ecf",
   "metadata": {},
   "source": [
    "Напишите выводы о проделанной работе"
   ]
  },
  {
   "cell_type": "code",
   "execution_count": null,
   "id": "33591824",
   "metadata": {},
   "outputs": [],
   "source": [
    "## your code here"
   ]
  }
 ],
 "metadata": {
  "kernelspec": {
   "display_name": "SageMath 9.5",
   "language": "sage",
   "name": "sagemath"
  },
  "language_info": {
   "codemirror_mode": {
    "name": "ipython",
    "version": 3
   },
   "file_extension": ".py",
   "mimetype": "text/x-python",
   "name": "python",
   "nbconvert_exporter": "python",
   "pygments_lexer": "ipython3",
   "version": "3.9.9"
  }
 },
 "nbformat": 4,
 "nbformat_minor": 5
}
