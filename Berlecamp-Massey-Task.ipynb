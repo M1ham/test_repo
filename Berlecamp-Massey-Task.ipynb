{
 "cells": [
  {
   "cell_type": "markdown",
   "id": "f8d3c080",
   "metadata": {},
   "source": [
    "## Долгосрочная работа по алгебре на тему алгоритм Берлекэмпа-Месси над конечными коммутативными кольцами с единицей. Часть 1."
   ]
  },
  {
   "cell_type": "markdown",
   "id": "41109682",
   "metadata": {},
   "source": [
    "## Срок сдачи 20.10.2022"
   ]
  },
  {
   "cell_type": "markdown",
   "id": "07b7ccc6",
   "metadata": {},
   "source": [
    "Данная первая часть долгосрочной работы является несложной. Главная цель овладение системой КА Sage. Несколько советов.\n",
    "- Пишите красивый и аккуратный код\n",
    "- Разделяйте зону ответственности методов класса. Лучше написать 2-3 небольших метода класса чем один большой\n",
    "- **Выводите отладочную информацию в файл**\n",
    "- Поддерживайте порядок в jupyter-блокноте ~~это еще никому не удавалось~~"
   ]
  },
  {
   "cell_type": "markdown",
   "id": "9a08ffac",
   "metadata": {},
   "source": [
    "Необходимым условием для сдачи работы является написание недостающих участков кода, таким образом, чтобы прошли все тесты, и ответы на вопросы. "
   ]
  },
  {
   "cell_type": "code",
   "execution_count": 3,
   "id": "c746abd7",
   "metadata": {},
   "outputs": [],
   "source": [
    "import typing as tp # для подсказки типов"
   ]
  },
  {
   "cell_type": "markdown",
   "id": "8731f06e",
   "metadata": {},
   "source": [
    "Реализуем класс отрезка последовательности над кольцом. "
   ]
  },
  {
   "cell_type": "code",
   "execution_count": 4,
   "id": "b666950d",
   "metadata": {},
   "outputs": [],
   "source": [
    "class SequenceOverRing:\n",
    "    def __init__(self, terms:tp.List, ring):\n",
    "        self.terms = terms\n",
    "        self.ring = ring\n",
    "        self.ring_zero = self.ring.zero()\n",
    "        self.period = None\n",
    "    \n",
    "    def __len__(self):\n",
    "        return len(self.terms)\n",
    "    \n",
    "    def len(self):\n",
    "        return len(self)\n",
    "    \n",
    "    def cnt_leading_zeros(self):\n",
    "        ans = 0\n",
    "        for i in range(len(self)):\n",
    "            if self[i] == self.ring_zero:\n",
    "                ans += 1\n",
    "            else:\n",
    "                break\n",
    "        return ans\n",
    "        \n",
    "    def __getitem__(self, idx):\n",
    "        return self.terms[idx]\n",
    "    \n",
    "    def __rmul__(self, pol:Polynomial):\n",
    "        old_len = len(self)\n",
    "        new_len = old_len - pol.degree()\n",
    "        if new_len <= 0:\n",
    "            return SequenceOverRing([], self.ring)\n",
    "        new_terms = []\n",
    "        for i in range(new_len):\n",
    "            res = self.ring_zero\n",
    "            for j in range(pol.degree()+1):\n",
    "                 res = res + pol[j]*self.terms[i+j]\n",
    "            new_terms.append(res)\n",
    "        return SequenceOverRing(new_terms, self.ring)\n",
    "    \n",
    "    def __add__(self, other):\n",
    "        new_len = min(self.len(), other.len())\n",
    "        terms = []\n",
    "        for i in range(new_len):\n",
    "            terms.append(self[i] + other[i])\n",
    "        return SequenceOverRing(terms, self.ring)\n",
    "    \n",
    "    \n",
    "    def __neg__(self):\n",
    "        return SequenceOverRing([-el for el in self.terms], self.ring)\n",
    "    \n",
    "    def is_empty(self):\n",
    "        return len(self) == 0\n",
    "    \n",
    "    def is_zero(self):\n",
    "        for term in self.terms:\n",
    "            if term != self.ring_zero:\n",
    "                return False\n",
    "        return True\n",
    "    \n",
    "    def __sub__(self, other):\n",
    "        terms = []\n",
    "        for i in range(min(len(self), len(other))):\n",
    "            terms[i] = self.terms[i] - other.terms[i]\n",
    "        return SequenceOverRing(terms, self.ring)\n",
    "\n",
    "    def check_is_period(self, t):\n",
    "        ans = False\n",
    "        n = len(self)\n",
    "        for i in range(n - t):\n",
    "            if self[i] != self[i+t]:\n",
    "                return ans\n",
    "        return True\n",
    "        \n",
    "    def check_is_minimal_period(self, t, t_proper_divs):\n",
    "        if not self.check_is_period(t):\n",
    "            return False\n",
    "        ans = False\n",
    "        for d in t_proper_divs:\n",
    "            if self.check_is_period(d):\n",
    "                return ans\n",
    "        return True\n",
    "             \n",
    "    \n",
    "    def compute_period(self, lam = 0):\n",
    "        \"\"\"\n",
    "        TODO: make for non zero lambda\n",
    "        \"\"\"\n",
    "        n = len(self)\n",
    "        ans = -1\n",
    "        for per in range(1, len(self)):\n",
    "            # print(f'try {per}')\n",
    "            was_break = False\n",
    "            for i in range(n - per):\n",
    "                if self[i] != self[i+per]:\n",
    "                    was_break = True\n",
    "                    break\n",
    "            if not was_break:\n",
    "                ans = per\n",
    "                self.period = per\n",
    "                return ans"
   ]
  },
  {
   "cell_type": "markdown",
   "id": "ad8ffc79",
   "metadata": {},
   "source": [
    "Продемонстрируем работу класса. Создадим отрезок импульсной последовальнсти над $GF(2)$"
   ]
  },
  {
   "cell_type": "code",
   "execution_count": 7,
   "id": "096d075a",
   "metadata": {},
   "outputs": [],
   "source": [
    "R = GF(2)\n",
    "terms = [R(0), R(0), R(1)]\n",
    "u = SequenceOverRing(terms, ring = R)"
   ]
  },
  {
   "cell_type": "markdown",
   "id": "b8dc7ba8",
   "metadata": {},
   "source": [
    "К элементам последовательности можно обращаться по индексу"
   ]
  },
  {
   "cell_type": "code",
   "execution_count": 10,
   "id": "c8cdfce6",
   "metadata": {},
   "outputs": [
    {
     "name": "stdout",
     "output_type": "stream",
     "text": [
      "1\n"
     ]
    }
   ],
   "source": [
    "print(u[2])"
   ]
  },
  {
   "cell_type": "markdown",
   "id": "c5f26630",
   "metadata": {},
   "source": [
    "При этом заметим, что элементы последовательности суть принадлежат полю из $2$ элементов."
   ]
  },
  {
   "cell_type": "code",
   "execution_count": 11,
   "id": "fbab1f1f",
   "metadata": {},
   "outputs": [
    {
     "name": "stdout",
     "output_type": "stream",
     "text": [
      "<class 'sage.rings.finite_rings.integer_mod.IntegerMod_int'>\n"
     ]
    }
   ],
   "source": [
    "print(type(u[2]))"
   ]
  },
  {
   "cell_type": "markdown",
   "id": "7ce49038",
   "metadata": {},
   "source": [
    "Также в классе реализованы вспомогательные функции типа длины отрезка и числа лидирующих нулей. Отрезки можно складывать и умножать на многочлен. Например."
   ]
  },
  {
   "cell_type": "code",
   "execution_count": 20,
   "id": "945a3d68",
   "metadata": {},
   "outputs": [
    {
     "name": "stdout",
     "output_type": "stream",
     "text": [
      "u = [1, 1, 1], f =x + 5, pol*u = [0, 0]\n"
     ]
    }
   ],
   "source": [
    "R = IntegerModRing(6)\n",
    "terms = [R(1), R(1), R(1)]\n",
    "\n",
    "u = SequenceOverRing(terms, R)\n",
    "\n",
    "Rx.<x> = PolynomialRing(R)\n",
    "x = Rx.gen()\n",
    "pol = x - R(1)\n",
    "v = pol * u\n",
    "print(f'u = {u.terms}, f ={ pol}, pol*u = {v.terms}')"
   ]
  },
  {
   "cell_type": "markdown",
   "id": "e9d8ee61",
   "metadata": {},
   "source": [
    "**Вопрос**: как вы думаете, зачем при реализации класса последовательности мы явно передаем кольцо?"
   ]
  },
  {
   "cell_type": "code",
   "execution_count": null,
   "id": "7b57a89d",
   "metadata": {},
   "outputs": [],
   "source": [
    "## YOU ANSWER"
   ]
  },
  {
   "cell_type": "markdown",
   "id": "130c03b4",
   "metadata": {},
   "source": [
    "Далее напишем класс ЛРП над кольцом. Данный класс является наследником класса `SequenceOverRing`. Это означает, что можно использовать все написанные выше функции для обычных последовательностей"
   ]
  },
  {
   "cell_type": "code",
   "execution_count": 21,
   "id": "2c6c2205",
   "metadata": {},
   "outputs": [],
   "source": [
    "class LRSoverRing(SequenceOverRing):\n",
    "    def __init__(self, ring, init_vector, char_pol):\n",
    "        super(LRSoverRing, self).__init__(terms = [el for el in init_vector], ring = ring)\n",
    "        assert char_pol.is_monic(), 'characteristic polynomial should be monic'\n",
    "        assert len(init_vector) == char_pol.degree()\n",
    "        self.init_vector = init_vector\n",
    "        self.char_pol = char_pol\n",
    "\n",
    "    def compute_n_terms(self, n):\n",
    "        for i in range(n):\n",
    "            res = self.ring_zero\n",
    "            for j in range(self.char_pol.degree()):\n",
    "                res = res -self.char_pol[j] * self.terms[i+j]\n",
    "            self.terms.append(res)\n"
   ]
  },
  {
   "cell_type": "markdown",
   "id": "c23554f5",
   "metadata": {},
   "source": [
    "Продемонстрируем работу с классом. Создадим ЛРП максимального периода над $GF(2)$ порядка $3$."
   ]
  },
  {
   "cell_type": "code",
   "execution_count": 29,
   "id": "3e83af64",
   "metadata": {},
   "outputs": [
    {
     "name": "stdout",
     "output_type": "stream",
     "text": [
      "u = u.terms\n"
     ]
    }
   ],
   "source": [
    "R = GF(2)\n",
    "Rx.<x> = PolynomialRing(R)\n",
    "x = Rx.gen()\n",
    "\n",
    "init_vec = [R(0), R(0), R(1)]\n",
    "char_pol = x^3 - x - 1\n",
    "\n",
    "u = LRSoverRing(R, init_vec, char_pol)\n",
    "print(f'u = {u.terms}')"
   ]
  },
  {
   "cell_type": "markdown",
   "id": "00a9b3ac",
   "metadata": {},
   "source": [
    "Отметим, что мы можем пользоваться функциями описанными для класса последовательностей, например"
   ]
  },
  {
   "cell_type": "code",
   "execution_count": 25,
   "id": "978a4055",
   "metadata": {},
   "outputs": [
    {
     "name": "stdout",
     "output_type": "stream",
     "text": [
      "3\n"
     ]
    }
   ],
   "source": [
    "print(len(u))"
   ]
  },
  {
   "cell_type": "markdown",
   "id": "d5661d82",
   "metadata": {},
   "source": [
    "Далее вычислим 20 знаков ЛРП u"
   ]
  },
  {
   "cell_type": "code",
   "execution_count": 30,
   "id": "0bdfc5ec",
   "metadata": {},
   "outputs": [
    {
     "name": "stdout",
     "output_type": "stream",
     "text": [
      "u = [0, 0, 1, 0, 1, 1, 1, 0, 0, 1, 0, 1, 1, 1, 0, 0, 1, 0, 1, 1, 1, 0, 0]\n"
     ]
    }
   ],
   "source": [
    "u.compute_n_terms(20)\n",
    "print(f'u = {u.terms}')"
   ]
  },
  {
   "cell_type": "markdown",
   "id": "7ec53131",
   "metadata": {},
   "source": [
    "Посчитаем период"
   ]
  },
  {
   "cell_type": "code",
   "execution_count": 32,
   "id": "1153e3d7",
   "metadata": {},
   "outputs": [
    {
     "name": "stdout",
     "output_type": "stream",
     "text": [
      "7\n"
     ]
    }
   ],
   "source": [
    "per = u.compute_period()\n",
    "print(per)"
   ]
  },
  {
   "cell_type": "markdown",
   "id": "ecdce5bc",
   "metadata": {},
   "source": [
    "Рассмотрим другую ЛРП"
   ]
  },
  {
   "cell_type": "code",
   "execution_count": 35,
   "id": "81ea527d",
   "metadata": {},
   "outputs": [
    {
     "name": "stdout",
     "output_type": "stream",
     "text": [
      "v = [0, 0, 1, 1, 1, 0, 1, 0, 0, 1, 1, 1, 0, 1, 0, 0, 1, 1, 1, 0, 1, 0, 0]\n"
     ]
    }
   ],
   "source": [
    "init_vec = [R(0), R(0), R(1)]\n",
    "char_pol = x^3 - x^2 - 1\n",
    "\n",
    "v = LRSoverRing(R, init_vec, char_pol)\n",
    "v.compute_n_terms(20)\n",
    "print(f'v = {v.terms}')"
   ]
  },
  {
   "cell_type": "markdown",
   "id": "582638b3",
   "metadata": {},
   "source": [
    "Рассмотрим последовательность"
   ]
  },
  {
   "cell_type": "code",
   "execution_count": 42,
   "id": "ea6fdc29",
   "metadata": {},
   "outputs": [
    {
     "data": {
      "text/plain": [
       "[0, 0, 1, 1, 1, 0, 1, 0, 0, 1, 1, 1, 0, 1, 0, 0, 1, 1, 1, 0, 1, 0, 0]"
      ]
     },
     "execution_count": 42,
     "metadata": {},
     "output_type": "execute_result"
    }
   ],
   "source": [
    "w = [u[i*3 % 7] for i in range(23)]\n",
    "w"
   ]
  },
  {
   "cell_type": "markdown",
   "id": "b7b8f4b7",
   "metadata": {},
   "source": [
    "**Вопрос**. Как связаны $w$ и $v$. Как вы можете это объяснить?"
   ]
  },
  {
   "cell_type": "markdown",
   "id": "b439d5f2",
   "metadata": {},
   "source": [
    "### Алгоритм Берлекэмпа-Месси из книги АЗКЧ"
   ]
  },
  {
   "cell_type": "markdown",
   "id": "ecfc2171",
   "metadata": {},
   "source": [
    "Вам нужно заполнить необходимые участки кода. Внимательно разберитесь с кодом. Для отладки алгоритма используйте параметр `verbose = True`.\n",
    "\n",
    "**Совет** При выполнении задания можете писать отладочную информацию. Также можете выводить историю работы алгоритма в отдельный файл. Это очень упростит жизнь. В итоговой реализации никакой отладочной информации быть не должно.\n"
   ]
  },
  {
   "cell_type": "code",
   "execution_count": 45,
   "id": "9cca400e",
   "metadata": {},
   "outputs": [],
   "source": [
    "class BerlecampMasseyOverField:\n",
    "    def __init__(self, init_seq, verbose=False):\n",
    "        self.init_seq = init_seq\n",
    "        self.pol_ring = PolynomialRing(init_seq.ring, 'x')\n",
    "        self.hist = []\n",
    "        self.verbose = verbose\n",
    "    \n",
    "    def is_finished(self):\n",
    "        l = self.hist[-1]['k'] + self.hist[-1]['m'] \n",
    "        if l == len(self.init_seq):\n",
    "            return True\n",
    "        \n",
    "    def update_inf(self, g):\n",
    "        m = g.degree()\n",
    "        u = g * self.init_seq\n",
    "        k = u.cnt_leading_zeros()\n",
    "        self.hist.append({'g': g, 'k': k, 'm': m, 'u': u})\n",
    "    \n",
    "    \n",
    "    def zero_step(self):\n",
    "        x = self.pol_ring.gen()\n",
    "        g0 = x^0\n",
    "        \n",
    "        self.update_inf(g0)\n",
    "        return self.is_finished()\n",
    "\n",
    "        \n",
    "    def first_step(self):\n",
    "        x = self.pol_ring.gen()\n",
    "        \n",
    "        k0 = self.hist[-1]['k']\n",
    "        u0 = self.hist[-1]['u']\n",
    "        g0 = self.hist[-1]['g']\n",
    "        \n",
    "        g1 = x^(k0 + 1) - u0[k0 + 1] * (u0[k0]^(-1)) * x^k0 * g0\n",
    "        \n",
    "        self.update_inf(g1)\n",
    "        return self.is_finished()\n",
    "        \n",
    "    def step(self, idx_step):\n",
    "        t = idx_step - 1\n",
    "        s = t\n",
    "        while self.hist[t]['m'] == self.hist[s]['m']:\n",
    "            s -= 1      \n",
    "        x = self.pol_ring.gen()\n",
    "        \n",
    "        ks = self.hist[s]['k']\n",
    "        kt = self.hist[t]['k']\n",
    "        \n",
    "        gs = self.hist[s]['g']\n",
    "        gt = self.hist[t]['g']\n",
    "        \n",
    "        us = self.hist[s]['u']\n",
    "        ut = self.hist[t]['u']\n",
    "        \n",
    "        if kt <= ks:\n",
    "            pass\n",
    "            ### YOUR CODE HERE\n",
    "        else:\n",
    "            pass\n",
    "            ### YOUR CODE HERE\n",
    "            \n",
    "        \n",
    "        self.update_inf(g)\n",
    "        return self.is_finished()\n",
    "        \n",
    "    def make_step(self, idx_step):\n",
    "        if self.verbose:\n",
    "            print(f'Step number {idx_step}')\n",
    "            \n",
    "        if idx_step == 0:\n",
    "            return self.zero_step()\n",
    "        if idx_step == 1:\n",
    "            return self.first_step()\n",
    "        else:\n",
    "            return self.step(idx_step)\n",
    "    \n",
    "    def print_step_info(self, idx_step):\n",
    "        print(f'After step idx {idx_step}:')\n",
    "        for el in ['g', 'k', 'm']:\n",
    "            print(f'{el}_{idx_step}: {self.hist[idx_step][el]}')\n",
    "        print(f'u_{idx_step}: {self.hist[idx_step][\"u\"].terms}')\n",
    "        print()\n",
    "\n",
    "        \n",
    "    def fit(self, verbose=True):\n",
    "        is_finished = False\n",
    "        idx_step = 0\n",
    "        while not is_finished:\n",
    "            is_finished = self.make_step(idx_step)\n",
    "            if self.verbose:\n",
    "                self.print_step_info(idx_step)\n",
    "            idx_step += 1\n",
    "        print(f'{self.hist[-1][\"g\"]}')"
   ]
  },
  {
   "cell_type": "markdown",
   "id": "8fda7818",
   "metadata": {},
   "source": [
    "Приведенные тесты ниже должны проходить."
   ]
  },
  {
   "cell_type": "code",
   "execution_count": 48,
   "id": "01677e64",
   "metadata": {},
   "outputs": [],
   "source": [
    "def test_bm_empty():\n",
    "    print('-'*100)\n",
    "    print('test bm empty')\n",
    "    \n",
    "    R = GF(3)\n",
    "    seq = SequenceOverRing([], R)\n",
    "    bm = BerlecampMasseyOverField(seq)\n",
    "    bm.fit()\n",
    "    print('-'*100)\n",
    "    \n",
    "    \n",
    "def test_bm_simple():\n",
    "    print('-'*100)\n",
    "    print('test bm simple')\n",
    "    R = GF(3)\n",
    "    seq = SequenceOverRing([R(1)]*10 + [R.zero() for i in range(100)], R)\n",
    "    bm = BerlecampMasseyOverField(seq)\n",
    "    bm.fit()\n",
    "    print('-'*100)\n",
    "\n",
    "    \n",
    "def test_bm_lrs():\n",
    "    print('-'*100)\n",
    "    print('test bm lrs')\n",
    "    R = GF(2)\n",
    "    S.<x> = PolynomialRing(R)\n",
    "    seq = SequenceOverRing([R(0)]*4 + [R(1)], R)\n",
    "    coefs = [-R(i) for i in range(1,6)]\n",
    "    for i in range(1000):\n",
    "        res = R(0)\n",
    "        for j in range(5):\n",
    "            res += coefs[j] * seq[i+j]\n",
    "        seq.terms.append(res)\n",
    "        \n",
    "    \n",
    "    bm = BerlecampMasseyOverField(seq)\n",
    "    bm.fit()\n",
    "    print('-'*100)\n",
    "    \n",
    "def test_bm_lrs_random():\n",
    "    print('-'*100)\n",
    "    print('test bm lrs')\n",
    "    R = GF(49)\n",
    "    S.<x> = PolynomialRing(R)\n",
    "    \n",
    "    degree = 13\n",
    "    char_pol = S.random_element(degree=degree)\n",
    "    char_pol = char_pol * (char_pol[char_pol.degree()]^(-1))\n",
    "    #print(f'True char pol {char_pol}')\n",
    "    seq = LRSoverRing(ring=R, init_vector=[R(0)]*(degree - 1) + [R(1)], char_pol=char_pol)\n",
    "    seq.compute_n_terms(14)\n",
    "    \n",
    "    bm = BerlecampMasseyOverField(seq, verbose=False)\n",
    "    bm.fit()\n",
    "    print(bm.hist[-1]['g'] == char_pol)\n",
    "    #print(f'Find char pol {bm.hist[-1][\"g\"]}')\n",
    "    print('-'*100)\n",
    "\n",
    "    \n",
    "class RingAutomorplism:\n",
    "    def __init__(self, ring):\n",
    "        self.ring = ring\n",
    "    def __call__(self, ring_elem):\n",
    "        raise NotImplementedError\n",
    "        \n",
    "class GaloisRingAutomorphism(RingAutomorplism):\n",
    "    def __init__(self, galois_ring, galois_ring_invariant):\n",
    "        super(GaloisRingAutomorphism, self).__init__(galois_ring)\n",
    "        self.galois_ring_invariant = galois_ring_invariant\n",
    "        \n",
    "    def __call__(self, ring_elem):\n",
    "        raise NotImplementedError\n",
    "        \n",
    "class FiniteFieldAutomorphism(GaloisRingAutomorphism):\n",
    "    def __init__(self, finite_field, finite_field_invariant):\n",
    "        super(FiniteFieldAutomorphism, self).__init__(finite_field, finite_field_invariant)\n",
    "    def __call__(self, ring_elem):\n",
    "        return ring_elem^(self.galois_ring_invariant.cardinality())\n",
    "        \n",
    "            \n",
    "class SkewLRS(SequenceOverRing):\n",
    "    def __init__(self, ring, init_vec, char_pol_table: tp.List[tp.List], sigma):\n",
    "        super(SkewLRS, self).__init__(terms=init_vec, ring=ring)\n",
    "        self.sigma = sigma\n",
    "        self.ring_ivariant = self.sigma.galois_ring_invariant\n",
    "        self.char_pol_table = char_pol_table\n",
    "    \n",
    "    def show_char_pol_table(self):\n",
    "        for row in self.char_pol_table:\n",
    "            for el in row:\n",
    "                print(el, end=' ')\n",
    "            print()\n",
    "    \n",
    "    \n",
    "    def compute_n_terms(self, n_terms):\n",
    "        m = len(self.char_pol_table)\n",
    "        for i in range(n_terms):\n",
    "            res = self.ring_zero\n",
    "            for j in range(m):\n",
    "                sigma_pow = self[i+j]\n",
    "                n = len(self.char_pol_table[j])\n",
    "                for k in range(n):\n",
    "                    res = res - self.char_pol_table[j][k]*sigma_pow\n",
    "                    sigma_pow = self.sigma(sigma_pow)\n",
    "            self.terms.append(res)\n",
    "\n",
    "    \n",
    "def test_bm_skew_lrs():\n",
    "    print('-'*100)\n",
    "    print('test bm  skew_lrs')\n",
    "    R = GF(3)\n",
    "    S = GF(9)\n",
    "    m = 3\n",
    "    init_vec = [S(0)] * (m-1) + [S(1)]\n",
    "    char_pol_table = [\n",
    "        [S(1), S(0)],\n",
    "        [S([0,2]), S([0])],\n",
    "        [S([2,1]), S([0])]\n",
    "    ]\n",
    "    print(char_pol_table)\n",
    "    sigma = FiniteFieldAutomorphism(S, R)\n",
    "    v =  SkewLRS(S, init_vec, char_pol_table, sigma)\n",
    "    v.compute_n_terms(1000)\n",
    "    \n",
    "    print(v.terms)\n",
    "    v.compute_period()\n",
    "    print(v.period)\n",
    "    \n",
    "    bm = BerlecampMasseyOverField(v, verbose=True)\n",
    "    bm.fit()\n",
    "    print(bm.hist[-1]['g'])\n",
    "    #print(f'Find char pol {bm.hist[-1][\"g\"]}')\n",
    "    print('-'*100)\n",
    "    \n",
    "\n",
    "    \n",
    "def test_bm():\n",
    "    test_bm_empty()\n",
    "    test_bm_simple()\n",
    "    test_bm_lrs()\n",
    "    for i in range(100):\n",
    "        test_bm_lrs_random()\n",
    "    test_bm_skew_lrs()\n",
    "    \n",
    "test_bm()\n",
    "    "
   ]
  },
  {
   "cell_type": "markdown",
   "id": "870c0efd",
   "metadata": {},
   "source": [
    "**Вопрос**. Приведите тест который сломает вашу реализацию.\n",
    "\n",
    "**Подсказка**. Внимательно посмотрите на первый шаг. Насколько большим может быть ранг ЛРП."
   ]
  },
  {
   "cell_type": "code",
   "execution_count": null,
   "id": "463a4bcf",
   "metadata": {},
   "outputs": [],
   "source": [
    "## YOU ANSWER"
   ]
  },
  {
   "cell_type": "markdown",
   "id": "0087f68a",
   "metadata": {},
   "source": [
    "**Задание** \n",
    "При помощи алгоритма Берлекэмпа-Месси найдите все многочлены максимального периода порядка 4 над $GF(3)$ следующими способами.\n",
    "- Рассмотрите импульсные последовательности с различными ХМ и заполните необходимое число знаков, после чего вычислите период. Если  ЛРП есть ЛРП МП, то  примените алгоритм БМ. Проверьте, что количество таких многочленов совпадает с теоретическим ответом.\n",
    "\n",
    "- Постройте один МП многочлен. Далее пользуясь задачей о выборках из ЛРП постройте выборки с нужным шагом и примените алгоритм Берлекэмпа-Месси."
   ]
  },
  {
   "cell_type": "code",
   "execution_count": null,
   "id": "e06dce9e",
   "metadata": {},
   "outputs": [],
   "source": [
    "## YOU ANSWER"
   ]
  },
  {
   "cell_type": "markdown",
   "id": "082fbcaa",
   "metadata": {},
   "source": [
    "Указанного недостатка, связанного с невозможностью применения описанного выше алгоритма к некоторым классам последовательностей лишен алгоритм БМ, рассказанный на ПЗ и прекрасно описанный в пособии В.Л. Куракина"
   ]
  },
  {
   "cell_type": "markdown",
   "id": "e363df70",
   "metadata": {},
   "source": [
    "## Алгоритм Берлекэмпа-Месси из пособия В.Л.Куракина"
   ]
  },
  {
   "cell_type": "markdown",
   "id": "d17c0572",
   "metadata": {},
   "source": [
    "Внимательно разберитесь с кодом и заполните необходимые участки"
   ]
  },
  {
   "cell_type": "markdown",
   "id": "b7beb4cf",
   "metadata": {},
   "source": [
    "Дадим некоторые пояснения. Ниже в алгоритме переменная для сохранения работы истории алгоритма используется переменная `hist`. Результаты **шагов** мы записываем в переменную `hist_step`. "
   ]
  },
  {
   "cell_type": "code",
   "execution_count": null,
   "id": "e025dbde",
   "metadata": {},
   "outputs": [],
   "source": [
    "class BerlecampMasseyVLOverField:\n",
    "    def __init__(self, init_seq, verbose=False):\n",
    "        self.init_seq = init_seq\n",
    "        self.pol_ring = PolynomialRing(init_seq.ring, 'x')\n",
    "        \n",
    "        self.hist = []\n",
    "        self.hist_step = []\n",
    "        \n",
    "        self.verbose = verbose\n",
    "         \n",
    "    \n",
    "    def is_finished(self):\n",
    "        l = self.hist[-1]['k'] + self.hist[-1]['m'] \n",
    "        if l == len(self.init_seq):\n",
    "            return True\n",
    "        \n",
    "    def update_inf(self, g):\n",
    "        m = g.degree()\n",
    "        u = g * self.init_seq\n",
    "        k = u.cnt_leading_zeros()\n",
    "        \n",
    "        self.hist.append({'g': g, 'k': k, 'm': m, 'u': u})\n",
    "        \n",
    "    def update_inf_step(self):\n",
    "        self.hist_step.append(self.hist[-1])\n",
    "        \n",
    "        \n",
    "    def zero_step(self):\n",
    "        x = self.pol_ring.gen()\n",
    "\n",
    "        g0 = x^0\n",
    "        self.update_inf(g0)\n",
    "        self.update_inf_step()\n",
    "       \n",
    "        return self.is_finished()\n",
    "                    \n",
    "    def is_kt_exist(self):\n",
    "        t = None\n",
    "        ks = self.hist[-1]['k']\n",
    "        for i, el in enumerate(self.hist_step):\n",
    "            if el['k'] == ks:\n",
    "                t = i\n",
    "                break\n",
    "        return  t\n",
    "        \n",
    "    \n",
    "    def print_step_info(self, idx_step):\n",
    "        print(f'After step idx {idx_step}:')\n",
    "        for el in ['g', 'k', 'm']:\n",
    "            print(f'{el}_{idx_step}: {self.hist_step[idx_step][el]}')\n",
    "        print(f'u_{idx_step}: {self.hist_step[idx_step][\"u\"].terms}')\n",
    "        print()\n",
    "    \n",
    "    \n",
    "    def step(self, idx):\n",
    "        x = self.pol_ring.gen()\n",
    "        \n",
    "        g = self.hist_step[-1]['g'] * x\n",
    "        self.update_inf(g)\n",
    "        \n",
    "        \n",
    "        if self.is_finished():\n",
    "            self.update_inf_step()\n",
    "            return True\n",
    "        \n",
    "        t = self.is_kt_exist()\n",
    "        while t is not None:\n",
    "            u = self.hist[-1]['u']\n",
    "            k = self.hist[-1]['k']\n",
    "            \n",
    "            # g = YOUR CODE HERE\n",
    "            \n",
    "            self.update_inf(g)\n",
    "            t = self.is_kt_exist()\n",
    "           \n",
    "        self.update_inf_step()\n",
    "        return self.is_finished()\n",
    "            \n",
    "        \n",
    "            \n",
    "    def make_step(self, idx_step):\n",
    "        if self.verbose:\n",
    "            print(f'Step number {idx_step}')\n",
    "        if idx_step == 0:\n",
    "            return self.zero_step()\n",
    "        else:\n",
    "            return self.step(idx_step)\n",
    "    \n",
    "    def fit(self, verbose=True):\n",
    "        is_finished = False\n",
    "        idx_step = 0\n",
    "        while not is_finished:\n",
    "            is_finished = self.make_step(idx_step)\n",
    "            if self.verbose:\n",
    "                self.print_step_info(idx_step)\n",
    "            idx_step += 1\n",
    "        #if self.verbose:\n",
    "        print(f'{self.hist[-1][\"g\"]}')\n",
    "              "
   ]
  },
  {
   "cell_type": "markdown",
   "id": "5dbb4ed0",
   "metadata": {},
   "source": [
    "Указанные ниже тесты должны проходить"
   ]
  },
  {
   "cell_type": "code",
   "execution_count": 64,
   "id": "f8987fb0",
   "metadata": {
    "scrolled": true
   },
   "outputs": [],
   "source": [
    "def test_bm_empty():\n",
    "    print('-'*100)\n",
    "    print('test bm empty')\n",
    "    \n",
    "    R = GF(3)\n",
    "    seq = SequenceOverRing([], R)\n",
    "    bm = BerlecampMasseyVLOverField(seq)\n",
    "    bm.fit()\n",
    "    print('-'*100)\n",
    "    \n",
    "    \n",
    "def test_bm_simple():\n",
    "    print('-'*100)\n",
    "    print('test bm simple')\n",
    "    R = GF(3)\n",
    "    seq = SequenceOverRing([R(1)]*10 + [R.zero() for i in range(10)], R)\n",
    "    bm = BerlecampMasseyVLOverField(seq)\n",
    "    bm.fit()\n",
    "    print('-'*100)\n",
    "\n",
    "def test_bm_full_rank():\n",
    "    print('-'*100)\n",
    "    print('test bm full rank')\n",
    "    R = GF(3)\n",
    "    seq = SequenceOverRing([R(0)]*10 + [R(1)], R)\n",
    "    #seq.terms = seq.terms * 2\n",
    "    bm = BerlecampMasseyVLOverField(seq)\n",
    "    bm.fit()\n",
    "    print('-'*100)\n",
    "    \n",
    "def test_bm_lrs():\n",
    "    print('-'*100)\n",
    "    print('test bm lrs')\n",
    "    R = GF(2)\n",
    "    S.<x> = PolynomialRing(R)\n",
    "    seq = SequenceOverRing([R(0)]*4 + [R(1)], R)\n",
    "    coefs = [-R(i) for i in range(1,6)]\n",
    "    for i in range(1000):\n",
    "        res = R(0)\n",
    "        for j in range(5):\n",
    "            res += coefs[j] * seq[i+j]\n",
    "        seq.terms.append(res)\n",
    "        \n",
    "    \n",
    "    bm = BerlecampMasseyVLOverField(seq)\n",
    "    bm.fit()\n",
    "    print('-'*100)\n",
    "    \n",
    "def test_bm_lrs_random():\n",
    "    print('-'*100)\n",
    "    print('test bm lrs')\n",
    "    R = GF(49)\n",
    "    S.<x> = PolynomialRing(R)\n",
    "    \n",
    "    degree = 13\n",
    "    char_pol = S.random_element(degree=degree)\n",
    "    char_pol = char_pol * (char_pol[char_pol.degree()]^(-1))\n",
    "    #print(f'True char pol {char_pol}')\n",
    "    seq = LRSoverRing(ring=R, init_vector=[R(0)]*(degree - 1) + [R(1)], char_pol=char_pol)\n",
    "    seq.compute_n_terms(14)\n",
    "    \n",
    "    bm = BerlecampMasseyVLOverField(seq, verbose=False)\n",
    "    bm.fit()\n",
    "    print(bm.hist[-1]['g'] == char_pol)\n",
    "    #print(f'Find char pol {bm.hist[-1][\"g\"]}')\n",
    "    print('-'*100)\n",
    "\n",
    "\n",
    "    \n",
    "def test_bm_skew_lrs():\n",
    "    print('-'*100)\n",
    "    print('test bm  skew_lrs')\n",
    "    R = GF(3)\n",
    "    S = GF(9)\n",
    "    m = 3\n",
    "    init_vec = [S(0)] * (m-1) + [S(1)]\n",
    "    char_pol_table = [\n",
    "        [S(1), S(0)],\n",
    "        [S([0,2]), S([0])],\n",
    "        [S([2,1]), S([0])]\n",
    "    ]\n",
    "    print(char_pol_table)\n",
    "    sigma = FiniteFieldAutomorphism(S, R)\n",
    "    v =  SkewLRS(S, init_vec, char_pol_table, sigma)\n",
    "    v.compute_n_terms(1000)\n",
    "    \n",
    "    print(v.terms)\n",
    "    v.compute_period()\n",
    "    print(v.period)\n",
    "    \n",
    "    bm = BerlecampMasseyVLOverField(v)\n",
    "    bm.fit()\n",
    "    print(bm.hist[-1]['g'])\n",
    "    #print(f'Find char pol {bm.hist[-1][\"g\"]}')\n",
    "    print('-'*100)\n",
    "    \n",
    "\n",
    "    \n",
    "def test_bm():\n",
    "    test_bm_empty()\n",
    "    test_bm_simple()\n",
    "    test_bm_lrs()\n",
    "    test_bm_full_rank()\n",
    "    for i in range(100):\n",
    "        test_bm_lrs_random()\n",
    "    test_bm_skew_lrs()\n",
    "    \n",
    "#test_bm()\n",
    "    "
   ]
  },
  {
   "cell_type": "markdown",
   "id": "c7cabea8",
   "metadata": {},
   "source": [
    "### Нахождение минимального многочлена над некоторыми кольцами вычетов"
   ]
  },
  {
   "cell_type": "markdown",
   "id": "97ec4b7a",
   "metadata": {},
   "source": [
    "На паре была указана возможность нахождения минимального многочлена для ЛРП над кольцами вычетов $Z_n$, где\n",
    "$$\n",
    "n = p_1\\cdot p_2 \\cdot \\ldots \\cdot p_k\n",
    "$$"
   ]
  },
  {
   "cell_type": "markdown",
   "id": "c6b19c43",
   "metadata": {},
   "source": [
    "Напишите реализацию алгоритма Берлекэмпа-Месси для последовательностей над такими кольцами "
   ]
  },
  {
   "cell_type": "code",
   "execution_count": null,
   "id": "27163914",
   "metadata": {},
   "outputs": [],
   "source": [
    "### YOUR CODE HERE"
   ]
  },
  {
   "cell_type": "markdown",
   "id": "e4624009",
   "metadata": {},
   "source": [
    "Напишите тесты для своей реализации"
   ]
  },
  {
   "cell_type": "code",
   "execution_count": 49,
   "id": "af699292",
   "metadata": {},
   "outputs": [],
   "source": [
    "### YOUR CODE HERE"
   ]
  },
  {
   "cell_type": "code",
   "execution_count": null,
   "id": "dff154a9",
   "metadata": {},
   "outputs": [],
   "source": []
  },
  {
   "cell_type": "code",
   "execution_count": null,
   "id": "e7814248",
   "metadata": {},
   "outputs": [],
   "source": []
  }
 ],
 "metadata": {
  "kernelspec": {
   "display_name": "SageMath 9.5",
   "language": "sage",
   "name": "sagemath"
  },
  "language_info": {
   "codemirror_mode": {
    "name": "ipython",
    "version": 3
   },
   "file_extension": ".py",
   "mimetype": "text/x-python",
   "name": "python",
   "nbconvert_exporter": "python",
   "pygments_lexer": "ipython3",
   "version": "3.9.9"
  }
 },
 "nbformat": 4,
 "nbformat_minor": 5
}
